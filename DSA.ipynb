{
 "cells": [
  {
   "cell_type": "markdown",
   "id": "2b041fe9",
   "metadata": {},
   "source": [
    "#DSA\n",
    "1. New Project, New Script File\n",
    "2. Smart: Code Complition/Suggestion/refactoring/generating code\n",
    "3. Search: Ctrl + F, Ctrl + Shift + F, Navigate, Search Everywere\n",
    "4. Run (ctrl + shift + f10) , Debug(Shift + F9), test :\n",
    "5. Version Control\n",
    "6. Script (Pycharm), Notebook (Process Data (Science))\n",
    "7. Customize Env\n",
    "\n",
    "\n",
    "Create and Run Python\n",
    "Debug:  Breakpoint, Print => Fix: Surround with Conditions\n",
    "        Stepped throught your program\n",
    "        Create watch\n",
    "        Evaluate Expressions\n",
    "        \n",
    "Test Cases: Create, Write, Run, Debug, Run Automatically        \n",
    "Command line interace"
   ]
  },
  {
   "cell_type": "markdown",
   "id": "b5e35678",
   "metadata": {},
   "source": [
    "Configure Pycharm IDE (Style, tool, settings)\n",
    "Configure/Create Projects\n",
    "Work with Source Code: load, navigation, find, replace, generate refactor, inspect Code\n",
    "Run (log and running process), Debug(breakpoint, thread concurrency visualization, Process) , test(create, run, rerun, monitor, manage, explore results, code covarage(% of code run when executed) , Deploy(configure Sync Servers, Access files on servers, upload, download, \n",
    "\n",
    "Cython\n",
    "language and framework (Django, Flask, FastAPI, Pyramid, App Engine, JS, JSON, HTTP, XML, \n",
    "AI Asistant (integrated tools)\n",
    "Scientific (Data - Notebook)\n",
    "\n",
    "Big Data ToolS: Spark, Kafka, Remote File System, Monitoring, Zapeline (data analytics) kerboros node authetication protocol\n",
    "\n",
    "SSH, Docker, Vargrant\n",
    "\n",
    "Database tool and SQL: \n",
    "\n",
    "Version Control Git(Github)"
   ]
  },
  {
   "cell_type": "code",
   "execution_count": 10,
   "id": "a67b4e79",
   "metadata": {},
   "outputs": [
    {
     "name": "stdout",
     "output_type": "stream",
     "text": [
      "0\n",
      "0\n"
     ]
    }
   ],
   "source": [
    "A = [1]\n",
    "B = [1]\n",
    "\n",
    "print((A[0] ^ B[0]))\n",
    "X = ((A[0] ^ B[0]) + (B[0] ^ A[0]))\n",
    "\n",
    "print(X)"
   ]
  },
  {
   "cell_type": "code",
   "execution_count": null,
   "id": "69fbeaea",
   "metadata": {},
   "outputs": [],
   "source": []
  }
 ],
 "metadata": {
  "kernelspec": {
   "display_name": "Python 3 (ipykernel)",
   "language": "python",
   "name": "python3"
  },
  "language_info": {
   "codemirror_mode": {
    "name": "ipython",
    "version": 3
   },
   "file_extension": ".py",
   "mimetype": "text/x-python",
   "name": "python",
   "nbconvert_exporter": "python",
   "pygments_lexer": "ipython3",
   "version": "3.9.13"
  }
 },
 "nbformat": 4,
 "nbformat_minor": 5
}
