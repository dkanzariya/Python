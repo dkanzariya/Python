{
 "cells": [
  {
   "cell_type": "markdown",
   "id": "e38e9c34",
   "metadata": {},
   "source": [
    "Markdown in Notebook \n",
    "\n",
    "https://gtribello.github.io/mathNET/assets/notebook-writing.html#:~:text=Writing%20text&text=If%20you%20want%20to%20use,'%20and%20click%20'Markdown'.\n",
    "\n",
    "\n",
    "\n",
    "A Scalar is a single quantity. A Vector is an ordered collection of Scalars. A Matrix is a collection of vectors.\n",
    "\n",
    "Vector can never have negative magnitude."
   ]
  },
  {
   "cell_type": "code",
   "execution_count": 1,
   "id": "84be8cd0",
   "metadata": {},
   "outputs": [
    {
     "name": "stdout",
     "output_type": "stream",
     "text": [
      "50\n",
      "1.989e+30\n",
      "21196\n"
     ]
    }
   ],
   "source": [
    "# Define few scalars as follows\n",
    "number_of_units = 50\n",
    "mass_of_sun = 1.989e30\n",
    "length_great_wall_of_china = 21196\n",
    "print(number_of_units)\n",
    "print(mass_of_sun)\n",
    "print(length_great_wall_of_china)"
   ]
  },
  {
   "cell_type": "code",
   "execution_count": 2,
   "id": "8d55b7fd",
   "metadata": {},
   "outputs": [],
   "source": [
    "import numpy as np"
   ]
  },
  {
   "cell_type": "code",
   "execution_count": 5,
   "id": "8ccfea22",
   "metadata": {},
   "outputs": [
    {
     "name": "stdout",
     "output_type": "stream",
     "text": [
      "[[ 4 -3  1]] (1, 3)\n"
     ]
    }
   ],
   "source": [
    "col_vec = np.array([[4], [3]])\n",
    "raw_vec = np.array([[4, -3, 1]])\n",
    "print(raw_vec, raw_vec.shape)"
   ]
  },
  {
   "cell_type": "code",
   "execution_count": 11,
   "id": "ddf404d1",
   "metadata": {},
   "outputs": [
    {
     "name": "stdout",
     "output_type": "stream",
     "text": [
      "[[1.]\n",
      " [1.]\n",
      " [1.]]\n"
     ]
    }
   ],
   "source": [
    "#np.zeros\n",
    "#np.ones\n",
    "zero = np.ones(3).reshape(3, -1)\n",
    "print(zero)"
   ]
  },
  {
   "cell_type": "code",
   "execution_count": 12,
   "id": "7a06dbbb",
   "metadata": {},
   "outputs": [
    {
     "data": {
      "text/plain": [
       "1.7320508075688772"
      ]
     },
     "execution_count": 12,
     "metadata": {},
     "output_type": "execute_result"
    }
   ],
   "source": [
    "np.linalg.norm(zero)"
   ]
  },
  {
   "cell_type": "code",
   "execution_count": 13,
   "id": "5550373e",
   "metadata": {},
   "outputs": [
    {
     "name": "stdout",
     "output_type": "stream",
     "text": [
      "2x2 Matrix\n",
      " [[1 2]\n",
      " [3 4]] \n",
      "shape of matrix ->  (2, 2)\n",
      "\n",
      "3x3 Matrix\n",
      " [[ 1  2  3]\n",
      " [ 4  5  6]\n",
      " [ 8  9 10]] \n",
      "shape of matrix ->  (3, 3)\n"
     ]
    }
   ],
   "source": [
    "# Creating matrices of various dimension using np.array() function\n",
    "matrix_2x2 = np.array([[1, 2], \n",
    "                       [3, 4]])\n",
    "matrix_3x3 = np.array([[1, 2, 3],\n",
    "                       [4, 5, 6],\n",
    "                       [8, 9, 10]])\n",
    "# printing of the matrix and it's dimensions\n",
    "print(\"2x2 Matrix\\n\",matrix_2x2,\"\\nshape of matrix -> \",matrix_2x2.shape)\n",
    "print(\"\\n3x3 Matrix\\n\",matrix_3x3,\"\\nshape of matrix -> \",matrix_3x3.shape)"
   ]
  },
  {
   "cell_type": "code",
   "execution_count": 14,
   "id": "bac520ee",
   "metadata": {},
   "outputs": [],
   "source": [
    "# Creating a 3x2 Matrix \"A\"\n",
    "A = np.array([[2,-2],[3,1],[1,4]])"
   ]
  },
  {
   "cell_type": "code",
   "execution_count": 15,
   "id": "0f74cba7",
   "metadata": {},
   "outputs": [
    {
     "name": "stdout",
     "output_type": "stream",
     "text": [
      "Element of matrix A at index position [2,1] is 4\n"
     ]
    }
   ],
   "source": [
    "#selecting an element at row index 2 and column index 1\n",
    "print(\"Element of matrix A at index position [2,1] is\", A[2,1])"
   ]
  },
  {
   "cell_type": "code",
   "execution_count": 16,
   "id": "dd14b0ae",
   "metadata": {},
   "outputs": [
    {
     "name": "stdout",
     "output_type": "stream",
     "text": [
      "[[ 2  3  1]\n",
      " [-2  1  4]]\n"
     ]
    }
   ],
   "source": [
    "# Finding the transpose of a matrix\n",
    "print(np.transpose(A))\n"
   ]
  },
  {
   "cell_type": "code",
   "execution_count": 18,
   "id": "3ad38415",
   "metadata": {},
   "outputs": [
    {
     "name": "stdout",
     "output_type": "stream",
     "text": [
      "[[1 0 0]\n",
      " [0 3 0]\n",
      " [0 0 2]]\n",
      "[[1 0 0 0 0]\n",
      " [0 2 0 0 0]\n",
      " [0 0 3 0 0]\n",
      " [0 0 0 4 0]\n",
      " [0 0 0 0 5]]\n"
     ]
    }
   ],
   "source": [
    "# Creating a diagonal matrix with diagonal elements (1,3,2)\n",
    "diagonal_matrix = np.diag((1,3,2))\n",
    "print(diagonal_matrix)\n",
    "# Creating a diagonal matrix with a range of values\n",
    "matrix_range= np.diag(np.arange(1,6,1))\n",
    "print(matrix_range)\n"
   ]
  },
  {
   "cell_type": "code",
   "execution_count": 19,
   "id": "88dd2be3",
   "metadata": {},
   "outputs": [
    {
     "name": "stdout",
     "output_type": "stream",
     "text": [
      "Identity_matrix 1\n",
      " [[1. 0.]\n",
      " [0. 1.]]\n",
      "\n",
      "Identity_matrix 2\n",
      " [[1. 0. 0.]\n",
      " [0. 1. 0.]\n",
      " [0. 0. 1.]]\n"
     ]
    }
   ],
   "source": [
    "#Creating an Identity matrix of order 2 using np.identity() function\n",
    "identity_matrix_1 = np.identity(2)\n",
    "print(\"Identity_matrix 1\\n\",identity_matrix_1)\n",
    "#Creating an Identity matrix of order 3 using np.eye() function\n",
    "identity_matrix_2 = np.eye(3)\n",
    "print(\"\\nIdentity_matrix 2\\n\",identity_matrix_2)\n"
   ]
  },
  {
   "cell_type": "code",
   "execution_count": 23,
   "id": "c3b52d50",
   "metadata": {},
   "outputs": [
    {
     "name": "stdout",
     "output_type": "stream",
     "text": [
      "a:\n",
      " [[  2   3 -11]\n",
      " [  3   4  -1]\n",
      " [-11  -1   1]]\n",
      "Transpose of a:\n",
      " [[  2   3 -11]\n",
      " [  3   4  -1]\n",
      " [-11  -1   1]]\n",
      "True\n"
     ]
    }
   ],
   "source": [
    "a = np.array([[2,3,-11],\n",
    "            [3,4,-1],\n",
    "            [-11,-1,1]])\n",
    "print(\"a:\\n\" , a)\n",
    "# Finding the Transpose of the matrix\n",
    "transposed_matrix = a.transpose()\n",
    "print(\"Transpose of a:\\n\" , transposed_matrix)\n",
    "#Comparing each elements of both matrices (returns a matrix of boolean compared values) and saving it in a varible comparision\n",
    "comparison = (a == transposed_matrix)\n",
    "#Checking if all the elements in the matrix comparision is true\n",
    "equal_arrays = comparison.all()\n",
    "print(equal_arrays)\n"
   ]
  },
  {
   "cell_type": "code",
   "execution_count": 24,
   "id": "38ad40e2",
   "metadata": {},
   "outputs": [
    {
     "name": "stdout",
     "output_type": "stream",
     "text": [
      "Lower triangular matrix\n",
      " [[1 0 0]\n",
      " [4 5 0]\n",
      " [7 8 9]]\n"
     ]
    }
   ],
   "source": [
    "#Creating a lower triangular matrix\n",
    "lower_triangular_matrix_1 = np.tril([[1,2,3],\n",
    "                               [4,5,6],\n",
    "                               [7,8,9]])\n",
    "print(\"Lower triangular matrix\\n\",lower_triangular_matrix_1)\n"
   ]
  },
  {
   "cell_type": "code",
   "execution_count": 25,
   "id": "57f52aea",
   "metadata": {},
   "outputs": [
    {
     "name": "stdout",
     "output_type": "stream",
     "text": [
      "Upper triangular matrix\n",
      " [[1 2 3]\n",
      " [0 5 6]\n",
      " [0 0 9]]\n"
     ]
    }
   ],
   "source": [
    "#Creating a Upper triangular matrix\n",
    "upper_triangular_matrix_1 = np.triu([[1,2,3],\n",
    "                               [4,5,6],\n",
    "                               [7,8,9]])\n",
    "print(\"Upper triangular matrix\\n\",upper_triangular_matrix_1)\n"
   ]
  },
  {
   "cell_type": "code",
   "execution_count": 26,
   "id": "3d2c0921",
   "metadata": {},
   "outputs": [
    {
     "name": "stdout",
     "output_type": "stream",
     "text": [
      "1st  Vector :   [[ 2 -1  1]]\n",
      "2nd  Vector :   [[ 1  2 -1]]\n",
      "Added Vector :  [[3 1 0]]\n"
     ]
    }
   ],
   "source": [
    "#Create 2 vectors\n",
    "vector_1 = np.array([[2, -1, 1]]) \n",
    "vector_2 = np.array([[1, 2, -1]]) \n",
    "   \n",
    "print (\"1st  Vector :  \", vector_1)  \n",
    "print (\"2nd  Vector :  \", vector_2)  \n",
    "# Addition of the vectors using the function np.add()\n",
    "out = np.add(vector_1, vector_2)  \n",
    "print (\"Added Vector : \", out)\n"
   ]
  },
  {
   "cell_type": "code",
   "execution_count": 27,
   "id": "972e7fa2",
   "metadata": {},
   "outputs": [
    {
     "name": "stdout",
     "output_type": "stream",
     "text": [
      "1st  Matrix : \n",
      " [[ 10  20  30]\n",
      " [-30 -40 -50]]\n",
      "2nd  Matrix : \n",
      " [[ 100 -200  300]\n",
      " [  30   50   70]]\n",
      "Added Matrix : \n",
      " [[ 110 -180  330]\n",
      " [   0   10   20]]\n"
     ]
    }
   ],
   "source": [
    "# Creation of 2 matrices\n",
    "matrix_1 = np.array([[10,20,30],\n",
    "                     [-30,-40,-50]]) \n",
    "matrix_2 = np.array([[100,-200,300],\n",
    "                     [30,50,70]]) \n",
    "   \n",
    "print (\"1st  Matrix : \\n\", matrix_1)  \n",
    "print (\"2nd  Matrix : \\n\", matrix_2)  \n",
    "# Addition of the matrices using np.add() function\n",
    "out = np.add(matrix_1, matrix_2)  \n",
    "print (\"Added Matrix : \\n\", out)\n"
   ]
  },
  {
   "cell_type": "code",
   "execution_count": 28,
   "id": "cdc68310",
   "metadata": {},
   "outputs": [
    {
     "name": "stdout",
     "output_type": "stream",
     "text": [
      "Vector: \n",
      " [[ 2]\n",
      " [-1]\n",
      " [ 3]] \n",
      "Scalar: 2.5 \n",
      "Scalar Vector multiplication:\n",
      " [[ 5. ]\n",
      " [-2.5]\n",
      " [ 7.5]]\n"
     ]
    }
   ],
   "source": [
    "#Defining out Vector 'v' and scalar 's'\n",
    "v = np.array([[2],[-1],[3]])\n",
    "s = 2.5 \n",
    "#Scalar Vector Multiplication\n",
    "vector_mul = v*s \n",
    "print(\"Vector: \\n\",v,\"\\nScalar:\",s,\"\\nScalar Vector multiplication:\\n\",vector_mul)\n"
   ]
  },
  {
   "cell_type": "code",
   "execution_count": 29,
   "id": "8f1ab53d",
   "metadata": {},
   "outputs": [
    {
     "name": "stdout",
     "output_type": "stream",
     "text": [
      "Matrix:\n",
      " [[ 1  2  1]\n",
      " [-1  1  0]\n",
      " [ 2 -1  1]]\n",
      "Scalar : 2.5\n",
      "Scalar Matrix Multiplication:\n",
      " [[ 2.5  5.   2.5]\n",
      " [-2.5  2.5  0. ]\n",
      " [ 5.  -2.5  2.5]]\n"
     ]
    }
   ],
   "source": [
    "#Defining out matrix 'A' and scalar 's'\n",
    "A = np.array([[1,2,1],\n",
    "              [-1,1,0],\n",
    "              [2,-1,1]])\n",
    "print(\"Matrix:\\n\",A)\n",
    "s = 2.5\n",
    "print(\"Scalar :\",s)\n",
    "#Scalar Vector Multiplication\n",
    "matrix_mul =  s * A\n",
    "print(\"Scalar Matrix Multiplication:\\n\",matrix_mul)\n"
   ]
  },
  {
   "cell_type": "code",
   "execution_count": 30,
   "id": "8cbaac2b",
   "metadata": {},
   "outputs": [
    {
     "name": "stdout",
     "output_type": "stream",
     "text": [
      "Inner Product 10\n",
      "Multi-dimension matrix [[ 0  1  2  3]\n",
      " [ 4  5  6  7]\n",
      " [ 8  9 10 11]]\n",
      "One-Dimension matrix [0 1 2 3]\n",
      "Inner Product of Multidimension Matrix [14 38 62]\n"
     ]
    }
   ],
   "source": [
    "matrix_1 = np.array([1,2,3]) \n",
    "matrix_2 = np.array([1,0,3]) \n",
    "print(\"Inner Product\",np.inner(matrix_1,matrix_2))\n",
    "matrix_multi_dimension = np.arange(12).reshape((3,4))\n",
    "matrix_one_dimension = np.arange(4)\n",
    "print(\"Multi-dimension matrix\",matrix_multi_dimension)\n",
    "print(\"One-Dimension matrix\",matrix_one_dimension)\n",
    "print(\"Inner Product of Multidimension Matrix\",np.inner(matrix_multi_dimension,matrix_one_dimension))\n"
   ]
  },
  {
   "cell_type": "code",
   "execution_count": 31,
   "id": "1acc823f",
   "metadata": {},
   "outputs": [
    {
     "name": "stdout",
     "output_type": "stream",
     "text": [
      "[[ 3]\n",
      " [-1]\n",
      " [ 2]]\n",
      "[[ 2]\n",
      " [ 4]\n",
      " [-1]]\n",
      "[[0]]\n"
     ]
    }
   ],
   "source": [
    "import numpy as np\n",
    "Vector_1 = np.array([[3],[-1],[2]])\n",
    "Vector_2 = np.array([[2],[4],[-1]])\n",
    "print(Vector_1)\n",
    "print(Vector_2)\n",
    "result = np.transpose(Vector_1)\n",
    "Result = np.dot(result,Vector_2)\n",
    "print(Result)"
   ]
  },
  {
   "cell_type": "code",
   "execution_count": 32,
   "id": "1cab5b99",
   "metadata": {},
   "outputs": [
    {
     "name": "stdout",
     "output_type": "stream",
     "text": [
      "Angle Bewtwwn Two Vector : 32.31153323742385\n"
     ]
    }
   ],
   "source": [
    "def angle_between(vector_1, vector_2):\n",
    "    dot_pr = vector_1.dot(vector_2)\n",
    "    norms = np.linalg.norm(vector_1) * np.linalg.norm(vector_2)\n",
    " \n",
    "    return np.rad2deg(np.arccos(dot_pr / norms))\n",
    "vector_1 = np.array([1,2,3])\n",
    "vector_2 = np.array([1,0,3]) \n",
    "print(\"Angle Bewtwwn Two Vector :\",angle_between(vector_1, vector_2))\n"
   ]
  },
  {
   "cell_type": "code",
   "execution_count": 33,
   "id": "ac361f60",
   "metadata": {},
   "outputs": [
    {
     "name": "stdout",
     "output_type": "stream",
     "text": [
      "Dependent\n"
     ]
    }
   ],
   "source": [
    "matrix_1 = np.array([3,-1,2]) \n",
    "matrix_2 = np.array([2,6,-1]) \n",
    "# print(np.abs(np.dot(matrix_1.transpose(),matrix_2)))\n",
    "# print(np.dot(np.linalg.norm(matrix_1), np.linalg.norm(matrix_2)))\n",
    "if((np.abs(np.dot(matrix_1.transpose(),matrix_2))) <= np.dot(np.linalg.norm(matrix_1), np.linalg.norm(matrix_2))):\n",
    "  print(\"Dependent\")\n",
    "else:\n",
    "  print(\"Independent\")\n"
   ]
  },
  {
   "cell_type": "code",
   "execution_count": 3,
   "id": "0b52dc59",
   "metadata": {},
   "outputs": [
    {
     "name": "stdout",
     "output_type": "stream",
     "text": [
      "Product:  [[14]\n",
      " [32]\n",
      " [50]]\n"
     ]
    }
   ],
   "source": [
    "Matrix_3x3 = np.array([[1, 2, 3], [4, 5, 6], [7, 8, 9]])\n",
    "column_vector = np.array([[1], [2], [3]])\n",
    "# print(column_vector.shape)\n",
    "product = np.matmul(Matrix_3x3,column_vector,)\n",
    "print(\"Product: \", product)\n"
   ]
  },
  {
   "cell_type": "code",
   "execution_count": 4,
   "id": "ea565a10",
   "metadata": {},
   "outputs": [
    {
     "name": "stdout",
     "output_type": "stream",
     "text": [
      "[14]\n",
      "[32]\n",
      "[50]\n"
     ]
    }
   ],
   "source": [
    "'''1st Row of Vector'''\n",
    "print(product[0])\n",
    "'''2nd Row of Vector'''\n",
    "print(product[1])\n",
    "'''3rd Row of Vector'''\n",
    "print(product[2])\n"
   ]
  },
  {
   "cell_type": "code",
   "execution_count": 5,
   "id": "a5fb036d",
   "metadata": {},
   "outputs": [
    {
     "ename": "ValueError",
     "evalue": "shapes (3,3) and (4,3) not aligned: 3 (dim 1) != 4 (dim 0)",
     "output_type": "error",
     "traceback": [
      "\u001b[1;31m---------------------------------------------------------------------------\u001b[0m",
      "\u001b[1;31mValueError\u001b[0m                                Traceback (most recent call last)",
      "\u001b[1;32m~\\AppData\\Local\\Temp\\ipykernel_6960\\382668506.py\u001b[0m in \u001b[0;36m<module>\u001b[1;34m\u001b[0m\n\u001b[0;32m      2\u001b[0m \u001b[0mMatrix_3x3\u001b[0m \u001b[1;33m=\u001b[0m \u001b[0mnp\u001b[0m\u001b[1;33m.\u001b[0m\u001b[0marray\u001b[0m\u001b[1;33m(\u001b[0m\u001b[1;33m[\u001b[0m\u001b[1;33m[\u001b[0m\u001b[1;36m1\u001b[0m\u001b[1;33m,\u001b[0m \u001b[1;36m4\u001b[0m\u001b[1;33m,\u001b[0m \u001b[1;36m7\u001b[0m\u001b[1;33m]\u001b[0m\u001b[1;33m,\u001b[0m \u001b[1;33m[\u001b[0m\u001b[1;36m2\u001b[0m\u001b[1;33m,\u001b[0m \u001b[1;36m5\u001b[0m\u001b[1;33m,\u001b[0m \u001b[1;36m8\u001b[0m\u001b[1;33m]\u001b[0m\u001b[1;33m,\u001b[0m \u001b[1;33m[\u001b[0m\u001b[1;36m3\u001b[0m\u001b[1;33m,\u001b[0m \u001b[1;36m6\u001b[0m\u001b[1;33m,\u001b[0m \u001b[1;36m9\u001b[0m\u001b[1;33m]\u001b[0m\u001b[1;33m]\u001b[0m\u001b[1;33m)\u001b[0m\u001b[1;33m\u001b[0m\u001b[1;33m\u001b[0m\u001b[0m\n\u001b[0;32m      3\u001b[0m \u001b[0mMatrix_4x3\u001b[0m \u001b[1;33m=\u001b[0m \u001b[0mnp\u001b[0m\u001b[1;33m.\u001b[0m\u001b[0marray\u001b[0m\u001b[1;33m(\u001b[0m\u001b[1;33m[\u001b[0m\u001b[1;33m[\u001b[0m\u001b[1;36m4\u001b[0m\u001b[1;33m,\u001b[0m \u001b[1;36m2\u001b[0m\u001b[1;33m,\u001b[0m \u001b[1;36m3\u001b[0m\u001b[1;33m]\u001b[0m\u001b[1;33m,\u001b[0m\u001b[1;33m[\u001b[0m\u001b[1;36m2\u001b[0m\u001b[1;33m,\u001b[0m \u001b[1;36m0\u001b[0m\u001b[1;33m,\u001b[0m \u001b[1;36m7\u001b[0m\u001b[1;33m]\u001b[0m\u001b[1;33m,\u001b[0m\u001b[1;33m[\u001b[0m\u001b[1;33m-\u001b[0m\u001b[1;36m1\u001b[0m\u001b[1;33m,\u001b[0m \u001b[1;36m6\u001b[0m\u001b[1;33m,\u001b[0m \u001b[1;33m-\u001b[0m\u001b[1;36m3\u001b[0m\u001b[1;33m]\u001b[0m\u001b[1;33m,\u001b[0m\u001b[1;33m[\u001b[0m\u001b[1;36m1\u001b[0m\u001b[1;33m,\u001b[0m \u001b[1;36m3\u001b[0m\u001b[1;33m,\u001b[0m \u001b[1;36m0\u001b[0m\u001b[1;33m]\u001b[0m\u001b[1;33m]\u001b[0m\u001b[1;33m)\u001b[0m\u001b[1;33m\u001b[0m\u001b[1;33m\u001b[0m\u001b[0m\n\u001b[1;32m----> 4\u001b[1;33m \u001b[0mresult\u001b[0m\u001b[1;33m=\u001b[0m\u001b[0mnp\u001b[0m\u001b[1;33m.\u001b[0m\u001b[0mdot\u001b[0m\u001b[1;33m(\u001b[0m\u001b[0mMatrix_3x3\u001b[0m\u001b[1;33m,\u001b[0m\u001b[0mMatrix_4x3\u001b[0m\u001b[1;33m)\u001b[0m\u001b[1;33m\u001b[0m\u001b[1;33m\u001b[0m\u001b[0m\n\u001b[0m\u001b[0;32m      5\u001b[0m \u001b[0mprint\u001b[0m\u001b[1;33m(\u001b[0m\u001b[0mresult\u001b[0m\u001b[1;33m)\u001b[0m\u001b[1;33m\u001b[0m\u001b[1;33m\u001b[0m\u001b[0m\n",
      "\u001b[1;32m<__array_function__ internals>\u001b[0m in \u001b[0;36mdot\u001b[1;34m(*args, **kwargs)\u001b[0m\n",
      "\u001b[1;31mValueError\u001b[0m: shapes (3,3) and (4,3) not aligned: 3 (dim 1) != 4 (dim 0)"
     ]
    }
   ],
   "source": [
    "import numpy as np\n",
    "Matrix_3x3 = np.array([[1, 4, 7], [2, 5, 8], [3, 6, 9]])\n",
    "Matrix_4x3 = np.array([[4, 2, 3],[2, 0, 7],[-1, 6, -3],[1, 3, 0]])\n",
    "result=np.dot(Matrix_3x3,Matrix_4x3)\n",
    "print(result)\n"
   ]
  },
  {
   "cell_type": "code",
   "execution_count": 6,
   "id": "f035dd16",
   "metadata": {},
   "outputs": [
    {
     "name": "stdout",
     "output_type": "stream",
     "text": [
      "[[1 4 7]\n",
      " [2 5 8]\n",
      " [3 6 9]]\n",
      "[[ 4  2  3]\n",
      " [ 2  0  7]\n",
      " [-1  6 -3]\n",
      " [ 1  3  0]]\n",
      "[[33 51  2 13]\n",
      " [42 60  4 17]\n",
      " [51 69  6 21]]\n"
     ]
    }
   ],
   "source": [
    "print(Matrix_3x3)\n",
    "print(Matrix_4x3)\n",
    "result=np.dot(Matrix_3x3,np.transpose(Matrix_4x3))\n",
    "print(result)\n"
   ]
  },
  {
   "cell_type": "code",
   "execution_count": 7,
   "id": "06a9be3d",
   "metadata": {},
   "outputs": [
    {
     "name": "stdout",
     "output_type": "stream",
     "text": [
      "[2.5 2.5]\n"
     ]
    }
   ],
   "source": [
    "vector_1 = np.array([2,3])\n",
    "vector_2 = np.array([4,4]) \n",
    "orthogonal_projection = np.dot(np.true_divide(np.dot(vector_2.transpose(),vector_1), np.dot(vector_2.transpose(),vector_2)),vector_2)\n",
    "print(orthogonal_projection)\n"
   ]
  },
  {
   "cell_type": "code",
   "execution_count": 8,
   "id": "570e0700",
   "metadata": {},
   "outputs": [
    {
     "name": "stdout",
     "output_type": "stream",
     "text": [
      "[-14.  17.  -9.]\n"
     ]
    }
   ],
   "source": [
    "matrix = np.array([ [[1, 2], [9, 4]], [[1, 2], [-8, 1]], [[1, 3], [3, 0]] ])\n",
    "print(np.linalg.det(matrix))\n"
   ]
  },
  {
   "cell_type": "code",
   "execution_count": 9,
   "id": "aa8d6249",
   "metadata": {},
   "outputs": [
    {
     "name": "stdout",
     "output_type": "stream",
     "text": [
      "[[[-0.28571429  0.14285714]\n",
      "  [ 0.64285714 -0.07142857]]\n",
      "\n",
      " [[ 0.05882353 -0.11764706]\n",
      "  [ 0.47058824  0.05882353]]\n",
      "\n",
      " [[ 0.          0.33333333]\n",
      "  [ 0.33333333 -0.11111111]]]\n"
     ]
    }
   ],
   "source": [
    "matrix = np.array([ [[1, 2], [9, 4]], [[1, 2], [-8, 1]], [[1, 3], [3, 0]] ])\n",
    "print(np.linalg.inv(matrix))\n"
   ]
  },
  {
   "cell_type": "code",
   "execution_count": 13,
   "id": "d22bb84e",
   "metadata": {},
   "outputs": [
    {
     "name": "stdout",
     "output_type": "stream",
     "text": [
      "[[ True False False]\n",
      " [False False  True]\n",
      " [False  True False]]\n",
      "False\n",
      "Is it a orthogonal matrix:  False\n"
     ]
    },
    {
     "name": "stderr",
     "output_type": "stream",
     "text": [
      "C:\\Users\\dharmesh.kanzariya\\AppData\\Local\\Temp\\ipykernel_6960\\1238353841.py:4: DeprecationWarning: elementwise comparison failed; this will raise an error in the future.\n",
      "  comparison_2 =  np.dot(matrix.transpose(),matrix)== np.eye(2)\n"
     ]
    }
   ],
   "source": [
    "matrix = np.array([[0.7071068, 0.7071068, 0.0],[0,0,1],[0.7071068,-0.7071068,0.]])\n",
    "comparison = np.dot(matrix.transpose(),matrix) == np.dot(matrix,matrix.transpose())\n",
    "print(comparison)\n",
    "comparison_2 =  np.dot(matrix.transpose(),matrix)== np.eye(2)\n",
    "print(comparison_2)\n",
    "comparison_3 = comparison == comparison_2\n",
    "equal_arrays = comparison_3.all()\n",
    "print(\"Is it a orthogonal matrix: \",equal_arrays)\n"
   ]
  },
  {
   "cell_type": "code",
   "execution_count": 14,
   "id": "dc5c9a13",
   "metadata": {},
   "outputs": [
    {
     "name": "stdout",
     "output_type": "stream",
     "text": [
      " Rank : 2\n",
      " Rank : 4\n"
     ]
    }
   ],
   "source": [
    "matrix = np.array([[1.0,0.0],[0.,1.]])\n",
    "print(\" Rank :\",np.linalg.matrix_rank(matrix))\n",
    "matrix_full_rank = np.eye(4)\n",
    "print(\" Rank :\",np.linalg.matrix_rank(matrix_full_rank))\n"
   ]
  },
  {
   "cell_type": "code",
   "execution_count": 15,
   "id": "b2221785",
   "metadata": {},
   "outputs": [
    {
     "name": "stdout",
     "output_type": "stream",
     "text": [
      "Matrix: [[1 5 9]\n",
      " [2 7 3]\n",
      " [8 4 6]]\n",
      "Streched Matrix: [[1 1 1 5 5 5 9 9 9]\n",
      " [2 2 2 7 7 7 3 3 3]\n",
      " [8 8 8 4 4 4 6 6 6]]\n"
     ]
    }
   ],
   "source": [
    "matrix = np.array([[1, 5, 9],\n",
    "              [2, 7, 3],\n",
    "              [8, 4, 6]])\n",
    "print(\"Matrix:\",matrix)\n",
    "print(\"Streched Matrix:\",np.repeat(matrix,3,axis = 1))\n"
   ]
  },
  {
   "cell_type": "code",
   "execution_count": 16,
   "id": "3ac2511a",
   "metadata": {},
   "outputs": [
    {
     "name": "stdout",
     "output_type": "stream",
     "text": [
      "Matrix: [[1 2 9]\n",
      " [2 9 3]\n",
      " [4 4 6]]\n",
      "Rotated Matrix: [[9 3 6]\n",
      " [2 9 4]\n",
      " [1 2 4]]\n"
     ]
    }
   ],
   "source": [
    "matrix = np.array([[1, 2, 9],\n",
    "              [2, 9, 3],\n",
    "              [4, 4, 6]])\n",
    "print(\"Matrix:\",matrix)\n",
    "print(\"Rotated Matrix:\",np.rot90(matrix))\n"
   ]
  },
  {
   "cell_type": "code",
   "execution_count": 17,
   "id": "154bcf45",
   "metadata": {},
   "outputs": [
    {
     "name": "stdout",
     "output_type": "stream",
     "text": [
      "[[ 1  2  2]\n",
      " [ 3  5  3]\n",
      " [-1  4 -1]]\n",
      "[[ 4]\n",
      " [19]\n",
      " [ 7]]\n",
      "[[ 1  2  2  4]\n",
      " [ 3  5  3 19]\n",
      " [-1  4 -1  7]]\n"
     ]
    }
   ],
   "source": [
    "import numpy as np\n",
    "Symmetrical_matrix = np.array([[1,2,2],[3,5,3],[-1,4,-1]])\n",
    "vector=np.array([[4],[19],[7]])\n",
    "print(Symmetrical_matrix)\n",
    "print(vector)\n",
    "print(np.c_[Symmetrical_matrix,vector])\n"
   ]
  },
  {
   "cell_type": "code",
   "execution_count": 18,
   "id": "412c0387",
   "metadata": {},
   "outputs": [
    {
     "name": "stdout",
     "output_type": "stream",
     "text": [
      "Set of Planes [3. 1. 2.]\n"
     ]
    }
   ],
   "source": [
    "matrix_1 = np.array([[1, 3, -1],\n",
    "              [2, 5, 4],\n",
    "              [2, 3, -1]])\n",
    "# print(matrix_1.shape)\n",
    "matrix_2 = np.array([4,19,7])\n",
    "# print(matrix_2.shape)\n",
    "x= np.linalg.solve(matrix_1, matrix_2)\n",
    "print(\"Set of Planes\",x)\n"
   ]
  },
  {
   "cell_type": "code",
   "execution_count": 19,
   "id": "59b886e8",
   "metadata": {},
   "outputs": [
    {
     "name": "stdout",
     "output_type": "stream",
     "text": [
      "[[-1.00000000e+00  4.85722573e-17  1.00000000e+00]\n",
      " [ 5.88235294e-01  5.88235294e-02 -3.52941176e-01]\n",
      " [-2.35294118e-01  1.76470588e-01 -5.88235294e-02]]\n"
     ]
    }
   ],
   "source": [
    "matrix_1 = np.array([[1, 3, -1],\n",
    "              [2, 5, 4],\n",
    "              [2, 3, -1]])\n",
    "print(np.linalg.inv(matrix_1))\n"
   ]
  },
  {
   "cell_type": "code",
   "execution_count": 20,
   "id": "6149f32f",
   "metadata": {},
   "outputs": [
    {
     "name": "stdout",
     "output_type": "stream",
     "text": [
      "x 0 : 3.0\n",
      "x 1 : 1.0000000000000007\n",
      "x 2 : 2.0000000000000004\n"
     ]
    }
   ],
   "source": [
    "matrix_a = np.array([[1,3,-1],[2,5,4],[2,3,-1]])\n",
    "matrix_aa = np.copy(matrix_a)\n",
    "# matrix_aa = np.array([[1,3,-1],[2,5,4],[2,3,-1]])\n",
    "# \n",
    "matrix_b = np.array([[4],[19],[7]])\n",
    "# print(matrix_a[:,0:1].shape,matrix_a[:,2:].shape,matrix_b.shape)\n",
    "d1 = (np.concatenate((matrix_b,matrix_a[:,1:]),axis=1\n",
    "                     ))\n",
    "d2 = (np.concatenate((matrix_a[:,0:1],matrix_b,matrix_a[:,2:]),axis=1                     \n",
    "                     ))\n",
    "d3 = (np.concatenate((matrix_a[:,0:2],matrix_b),axis=1\n",
    "                     ))\n",
    "# print(d1,d2,d3)\n",
    "d_list = [d1,d2,d3]\n",
    "d_a = np.linalg.det(matrix_a)\n",
    "for i in range(0,len(d_list)):\n",
    "  print(\"x\",i,\":\",(np.linalg.det(d_list[i])/d_a))\n"
   ]
  },
  {
   "cell_type": "code",
   "execution_count": 22,
   "id": "0b4b851b",
   "metadata": {},
   "outputs": [
    {
     "name": "stdout",
     "output_type": "stream",
     "text": [
      "Generalized Inverse : [[ 0.75 -0.25 -0.25  0.25]\n",
      " [-0.25  0.75 -0.25  0.25]\n",
      " [-0.25 -0.25  0.75  0.25]]\n",
      "(4, 3) (4, 1) (3, 4)\n",
      "[[1.]\n",
      " [2.]\n",
      " [3.]]\n"
     ]
    }
   ],
   "source": [
    "matrix_a = np.array([[1, 0, 0],\n",
    "              [0, 1, 0],\n",
    "              [0, 0, 1],\n",
    "              [1, 1, 1]])\n",
    "matrix_b = np.array([[1],[2],[3],[6]])\n",
    "matrix_inv_a = np.linalg.pinv(matrix_a)\n",
    "print(\"Generalized Inverse :\", np.linalg.pinv(matrix_a))\n",
    "print(matrix_a.shape, matrix_b.shape,matrix_inv_a.shape)\n",
    "# t= np.solve(matrix_a,matrix_b)\n",
    "solve= np.matmul(matrix_inv_a,matrix_b)\n",
    "print(solve)\n"
   ]
  },
  {
   "cell_type": "markdown",
   "id": "e197d8b8",
   "metadata": {},
   "source": [
    "An eigenvector is a vector in a system that does not change its direction under associated linear transformation.\n",
    "\n",
    "For example, consider a globe which can be rotated about an axis (in case of Earth the poles are the axis about which it is rotated). When the globe is rotated all points on the surface get changed (linearly transformed) except the point that represent the poles, i.e. the direction of axis is not changing. This is called the eigen vector of the globe.\n",
    "\n",
    "During the linear transformation, the eigen vectors may get scaled. The factor by which the vector gets scaled is called as the eigen value of the vector. If an eigen value associated with an eigen vector is smaller than 1 then all vectors in the direction of this eigen vector will shrink when transformed. If the eigen value is 1 then no change in size and if eigen value is greater than 1 then vectors expand.\n",
    "\n",
    "Eigen values and vectors are used in many computations for applications such as stability analysis and physics of rotating bodies. Google’s Page rank algorithm also uses eigen vectors. Here these eigen vectors represent page rank values."
   ]
  },
  {
   "cell_type": "code",
   "execution_count": 24,
   "id": "221f59d5",
   "metadata": {},
   "outputs": [
    {
     "name": "stdout",
     "output_type": "stream",
     "text": [
      "[[ 1  0]\n",
      " [ 0 -2]]\n",
      "[ 1.+0.j -2.+0.j]\n",
      "[[1. 0.]\n",
      " [0. 1.]]\n",
      "[ 1.+0.j -2.+0.j]\n",
      "[[1. 0.]\n",
      " [0. 1.]]\n"
     ]
    }
   ],
   "source": [
    "import numpy as np\n",
    "import scipy.linalg as la\n",
    "A = np.array([[1,0],[0,-2]])\n",
    "print(A)\n",
    "results = la.eig(A)\n",
    "'''Eigen Values and Eigen Vectors are present as a tuple in results'''\n",
    "print(results[0])\n",
    "print(results[1])\n",
    "'''Separating Eigen Values and Eigen Vectors'''\n",
    "eigvals, eigvecs = la.eig(A)\n",
    "print(eigvals)\n",
    "print(eigvecs)\n"
   ]
  },
  {
   "cell_type": "code",
   "execution_count": 25,
   "id": "bdb6eb27",
   "metadata": {},
   "outputs": [
    {
     "name": "stdout",
     "output_type": "stream",
     "text": [
      "Array: [[1 4 7]\n",
      " [2 5 8]\n",
      " [3 6 9]]\n",
      "eigenvalues [ 1.61168440e+01 -1.11684397e+00 -4.26164522e-16]\n",
      "eigenvectors [[-0.46454727 -0.88290596  0.40824829]\n",
      " [-0.57079553 -0.23952042 -0.81649658]\n",
      " [-0.67704379  0.40386512  0.40824829]]\n",
      "diagonal form [[16. -0. -0.]\n",
      " [ 0. -1. -0.]\n",
      " [ 0. -0.  0.]]\n"
     ]
    }
   ],
   "source": [
    "array = np.array([[1,4,7],[2,5,8],[3,6,9]])\n",
    "# array = array.reshape(3, 3)\n",
    "print(\"Array:\",array)\n",
    "eigenvalues, eigenvectors = np.linalg.eig(array)\n",
    "print (\"eigenvalues\",eigenvalues)\n",
    "print (\"eigenvectors\",eigenvectors)\n",
    "inverseEigenVectors = np.linalg.inv(eigenvectors) \n",
    "diagonal= np.round(inverseEigenVectors.dot(array).dot(eigenvectors))\n",
    "print(\"diagonal form\",diagonal)\n"
   ]
  },
  {
   "cell_type": "code",
   "execution_count": 26,
   "id": "f037675c",
   "metadata": {},
   "outputs": [
    {
     "name": "stdout",
     "output_type": "stream",
     "text": [
      "eigenvalues [ 1.61168440e+01 -1.11684397e+00 -4.26164522e-16]\n",
      "eigenvalues [295.26997368   0.5603803   24.82036002]\n"
     ]
    }
   ],
   "source": [
    "array = np.array([[1,4,7],[2,5,8],[3,6,9]])\n",
    "eigenvalues, eigenvectors = np.linalg.eig(array)\n",
    "print(\"eigenvalues\",eigenvalues)\n",
    "array_2 = np.array([[9.847914,10.38333,49.88812],[10.38333,40.600000,62.66000],[49.888118,62.66000,270.20280]])\n",
    "eigenvalues, eigenvectors = np.linalg.eig(array_2)\n",
    "print(\"eigenvalues\",eigenvalues)\n"
   ]
  },
  {
   "cell_type": "code",
   "execution_count": 27,
   "id": "a0133275",
   "metadata": {},
   "outputs": [
    {
     "name": "stdout",
     "output_type": "stream",
     "text": [
      "A:\n",
      "[[ 7  3 -1  2]\n",
      " [ 3  8  1 -4]\n",
      " [-1  1  4 -1]\n",
      " [ 2 -4 -1  6]]\n",
      "P:\n",
      "[[1. 0. 0. 0.]\n",
      " [0. 1. 0. 0.]\n",
      " [0. 0. 1. 0.]\n",
      " [0. 0. 0. 1.]]\n",
      "L:\n",
      "[[ 1.          0.          0.          0.        ]\n",
      " [ 0.42857143  1.          0.          0.        ]\n",
      " [-0.14285714  0.21276596  1.          0.        ]\n",
      " [ 0.28571429 -0.72340426  0.08982036  1.        ]]\n",
      "U:\n",
      "[[ 7.          3.         -1.          2.        ]\n",
      " [ 0.          6.71428571  1.42857143 -4.85714286]\n",
      " [ 0.          0.          3.55319149  0.31914894]\n",
      " [ 0.          0.          0.          1.88622754]]\n"
     ]
    },
    {
     "name": "stderr",
     "output_type": "stream",
     "text": [
      "C:\\Users\\dharmesh.kanzariya\\AppData\\Local\\Temp\\ipykernel_6960\\4272688044.py:3: DeprecationWarning: scipy.array is deprecated and will be removed in SciPy 2.0.0, use numpy.array instead\n",
      "  A = scipy.array([ [7, 3, -1, 2], [3, 8, 1, -4], [-1, 1, 4, -1], [2, -4, -1, 6] ])\n"
     ]
    }
   ],
   "source": [
    "import scipy \n",
    "import scipy.linalg\n",
    "A = scipy.array([ [7, 3, -1, 2], [3, 8, 1, -4], [-1, 1, 4, -1], [2, -4, -1, 6] ])\n",
    "P, L, U = scipy.linalg.lu(A)\n",
    "print (\"A:\")\n",
    "print(A)\n",
    "print (\"P:\")\n",
    "print(P)\n",
    "print (\"L:\")\n",
    "print(L)\n",
    "print (\"U:\")\n",
    "print(U)\n"
   ]
  },
  {
   "cell_type": "code",
   "execution_count": 28,
   "id": "b63420c4",
   "metadata": {},
   "outputs": [
    {
     "name": "stdout",
     "output_type": "stream",
     "text": [
      "A [[ 1  3 -1]\n",
      " [ 2  5  4]\n",
      " [ 2  3 -1]]\n",
      "B [ 4 19  7]\n",
      "QR Decomposition [3. 1. 2.]\n"
     ]
    }
   ],
   "source": [
    "matrix_1 = np.array([[1,3,-1],[2,5,4],[2,3,-1]])\n",
    "print(\"A\",matrix_1)\n",
    "matrix_2 = np.array([4, 19, 7])\n",
    "print(\"B\",matrix_2)\n",
    "q, r = np.linalg.qr(matrix_1)\n",
    "p = np.dot(q.T, matrix_2)\n",
    "print(\"QR Decomposition\",np.dot(np.linalg.inv(r), p))\n"
   ]
  },
  {
   "cell_type": "code",
   "execution_count": 29,
   "id": "96e43311",
   "metadata": {},
   "outputs": [
    {
     "name": "stdout",
     "output_type": "stream",
     "text": [
      "H : [[ 3.13813862  3.30875537 15.89735956]\n",
      " [ 0.          5.44537767  1.84735143]\n",
      " [ 0.          0.          3.75020688]]\n",
      "Cholesky Decomposition : [[ 1.          0.42857143 -0.14285714  0.28571429]\n",
      " [ 0.42857143  1.18367347  0.15154147 -0.60095528]\n",
      " [-0.14285714  0.15154147  1.06567752 -0.10491177]\n",
      " [ 0.28571429 -0.60095528 -0.10491177  1.61301407]]\n"
     ]
    }
   ],
   "source": [
    "matrix_1 = np.array([[9.847914,10.38333,49.88812],[10.383333,40.60000,62.66000],[49.888118,62.66000,270.20280]])\n",
    "H = np.linalg.cholesky(matrix_1)\n",
    "print(\"H :\",H.transpose())\n",
    "print(\"Cholesky Decomposition :\",np.dot(L, L.T.conj())) # verify that L * L.H = A\n"
   ]
  },
  {
   "cell_type": "code",
   "execution_count": 30,
   "id": "e926d789",
   "metadata": {},
   "outputs": [
    {
     "name": "stdout",
     "output_type": "stream",
     "text": [
      "Array: [[ 1  3 -1]\n",
      " [ 2  5  4]\n",
      " [ 2  3 -1]]\n",
      "eigenvalues: [ 7.5499188+0.j        -1.2749594+0.7913017j -1.2749594-0.7913017j]\n",
      "eigenvectors: [[ 0.33633462+0.j          0.7647588 +0.j          0.7647588 -0.j        ]\n",
      " [ 0.8612824 +0.j         -0.46935421+0.11213261j -0.46935421-0.11213261j]\n",
      " [ 0.38088273+0.j          0.33173258-0.2687571j   0.33173258+0.2687571j ]]\n",
      "diagonal form: [[ 8.-0.j  0.-0.j  0.+0.j]\n",
      " [-0.+0.j -1.+1.j  0.-0.j]\n",
      " [-0.-0.j  0.+0.j -1.-1.j]]\n",
      "Spectral Decomposition : [[ 1.60622858-5.88266361e-16j  3.17023473-3.14180941e-17j\n",
      "  -1.52283269+2.25439567e-16j]\n",
      " [ 1.83932054-7.42999170e-16j  5.33970351-2.28400712e-16j\n",
      "   4.39148121+9.08297599e-16j]\n",
      " [ 2.22315753-5.55509774e-16j  3.08798394-1.06122150e-16j\n",
      "  -0.94593209+3.48622396e-16j]]\n"
     ]
    }
   ],
   "source": [
    "array = np.array([[1,3,-1],[2,5,4],[2,3,-1]])\n",
    "# array = array.reshape(3, 3)\n",
    "print(\"Array:\",array)\n",
    "eigenvalues, eigenvectors = np.linalg.eig(array)\n",
    "print (\"eigenvalues:\",eigenvalues)\n",
    "print (\"eigenvectors:\",eigenvectors)\n",
    "inverseEigenVectors = np.linalg.inv(eigenvectors) \n",
    "diagonal= np.round(inverseEigenVectors.dot(array).dot(eigenvectors))\n",
    "print(\"diagonal form:\",diagonal)\n",
    "print(\"Spectral Decomposition :\",np.dot(eigenvectors,np.dot(diagonal,np.linalg.inv(eigenvectors))))\n"
   ]
  },
  {
   "cell_type": "code",
   "execution_count": 31,
   "id": "4be1759e",
   "metadata": {},
   "outputs": [
    {
     "name": "stdout",
     "output_type": "stream",
     "text": [
      "A: [[ 1  3 -1]\n",
      " [ 2  5  4]\n",
      " [ 2  3 -1]]\n",
      "U: [[-0.34272777  0.57075334 -0.74617578]\n",
      " [-0.85357667 -0.5209279  -0.00640185]\n",
      " [-0.39235767  0.63472415  0.6657182 ]]\n",
      "D: [7.55742687 3.53268255 0.63675206]\n",
      "V: [[-0.37507428 -0.85652694 -0.35451501]\n",
      " [ 0.22598856  0.28640925 -0.93107407]\n",
      " [ 0.89902639 -0.42933827  0.08614054]]\n"
     ]
    }
   ],
   "source": [
    "array = np.array([[1,3,-1],[2,5,4],[2,3,-1]])\n",
    "print(\"A:\",array)\n",
    "u, d, v = np.linalg.svd(array)\n",
    "print(\"U:\",u)\n",
    "print(\"D:\",d)\n",
    "print(\"V:\",v)\n"
   ]
  },
  {
   "cell_type": "code",
   "execution_count": 1,
   "id": "86c25219",
   "metadata": {},
   "outputs": [
    {
     "name": "stdout",
     "output_type": "stream",
     "text": [
      "Mean is : 4.428571428571429\n"
     ]
    }
   ],
   "source": [
    "# Importing the statistics module\n",
    "import statistics\n",
    "# list of positive integer numbers\n",
    "data1 = [1, 3, 4, 5, 7, 9, 2]\n",
    "x = statistics.mean(data1)\n",
    "# Printing the mean\n",
    "print(\"Mean is :\", x)\n"
   ]
  },
  {
   "cell_type": "code",
   "execution_count": 2,
   "id": "3ba7ca48",
   "metadata": {},
   "outputs": [
    {
     "name": "stdout",
     "output_type": "stream",
     "text": [
      "arithmetic mean: 2.5\n",
      "arithmetic mean: 2.5\n",
      "weighted mean: 56.1\n"
     ]
    }
   ],
   "source": [
    "#weighted average\n",
    "import numpy as np\n",
    "print(\"arithmetic mean:\", np.mean([1,2,3,4]))#arithmetic mean\n",
    "print(\"arithmetic mean:\", np.average([1,2,3,4]))#arithmetic mean\n",
    "print(\"weighted mean:\", np.average([40,63], weights=[30,70]))# weighted mean\n"
   ]
  },
  {
   "cell_type": "code",
   "execution_count": 3,
   "id": "250b35d5",
   "metadata": {},
   "outputs": [
    {
     "name": "stdout",
     "output_type": "stream",
     "text": [
      "1.183096\n"
     ]
    }
   ],
   "source": [
    "#geometric mean\n",
    "from scipy import stats\n",
    "print(round(stats.gmean([1.2,1.2,1.15]),6))\n"
   ]
  },
  {
   "cell_type": "code",
   "execution_count": 4,
   "id": "13ececa9",
   "metadata": {},
   "outputs": [
    {
     "name": "stdout",
     "output_type": "stream",
     "text": [
      "102.8571\n"
     ]
    }
   ],
   "source": [
    "#harmonic mean\n",
    "from scipy import stats\n",
    "print(round(stats.hmean([80,100,150]),4))\n"
   ]
  },
  {
   "cell_type": "code",
   "execution_count": 5,
   "id": "054a20e5",
   "metadata": {},
   "outputs": [
    {
     "name": "stdout",
     "output_type": "stream",
     "text": [
      "7650.0\n"
     ]
    }
   ],
   "source": [
    "#median\n",
    "print(np.median([7800,8000,7500,7300,7000,6500,6750,90000,8000,7800]))\n"
   ]
  },
  {
   "cell_type": "code",
   "execution_count": 6,
   "id": "9512d15f",
   "metadata": {},
   "outputs": [
    {
     "name": "stdout",
     "output_type": "stream",
     "text": [
      "ModeResult(mode=array([4]), count=array([3]))\n"
     ]
    },
    {
     "name": "stderr",
     "output_type": "stream",
     "text": [
      "C:\\Users\\dharmesh.kanzariya\\AppData\\Local\\Temp\\ipykernel_14140\\2688748090.py:2: FutureWarning: Unlike other reduction functions (e.g. `skew`, `kurtosis`), the default behavior of `mode` typically preserves the axis it acts along. In SciPy 1.11.0, this behavior will change: the default value of `keepdims` will become False, the `axis` over which the statistic is taken will be eliminated, and the value None will no longer be accepted. Set `keepdims` to True or False to avoid this warning.\n",
      "  print(stats.mode([1,2,2,3,4,4,4]))\n"
     ]
    }
   ],
   "source": [
    "from scipy import stats\n",
    "print(stats.mode([1,2,2,3,4,4,4]))\n"
   ]
  },
  {
   "cell_type": "code",
   "execution_count": 8,
   "id": "96d0c36a",
   "metadata": {},
   "outputs": [
    {
     "name": "stdout",
     "output_type": "stream",
     "text": [
      "2.5\n",
      "7650.0\n",
      "4\n"
     ]
    }
   ],
   "source": [
    "import statistics as st\n",
    "print(st.mean([1,2,3,4]))\n",
    "print(st.median([7800,8000,7500,7300,7000,6500,6750,90000,8000,7800]))\n",
    "print(st.mode([1,2,2,3,4,4,4]))"
   ]
  },
  {
   "cell_type": "code",
   "execution_count": 12,
   "id": "d66b0f1f",
   "metadata": {},
   "outputs": [
    {
     "name": "stdout",
     "output_type": "stream",
     "text": [
      "18\n",
      "2\n"
     ]
    },
    {
     "data": {
      "text/plain": [
       "16"
      ]
     },
     "execution_count": 12,
     "metadata": {},
     "output_type": "execute_result"
    }
   ],
   "source": [
    "def getrange(numbers):\n",
    "    print(max(numbers))\n",
    "    print(min(numbers))\n",
    "    return max(numbers) - min(numbers)\n",
    "getrange([5,2,17,8,18])"
   ]
  },
  {
   "cell_type": "code",
   "execution_count": 13,
   "id": "3f6d70a7",
   "metadata": {},
   "outputs": [
    {
     "name": "stdout",
     "output_type": "stream",
     "text": [
      "51.5\n",
      "41.2\n"
     ]
    }
   ],
   "source": [
    "import statistics as st\n",
    "print(st.variance([5,2,17,8,18])) #Sample variance of data.\n",
    "print(st.pvariance([5,2,17,8,18])) #Population variance of data.\n"
   ]
  },
  {
   "cell_type": "code",
   "execution_count": 14,
   "id": "b65d7185",
   "metadata": {},
   "outputs": [
    {
     "name": "stdout",
     "output_type": "stream",
     "text": [
      "Sample Standard Deviation  7.176350047203662\n",
      "Population Standard Deviation  6.418722614352485\n"
     ]
    }
   ],
   "source": [
    "import statistics as st\n",
    "print(\"Sample Standard Deviation \",st.stdev([5,2,17,8,18])) # Sample standard deviation of the data.\n",
    "print(\"Population Standard Deviation \",st.pstdev([5,2,17,8,18])) #Population standard deviation of the data.\n"
   ]
  },
  {
   "cell_type": "code",
   "execution_count": 15,
   "id": "722c0aaa",
   "metadata": {},
   "outputs": [
    {
     "data": {
      "text/plain": [
       "14.100000000000001"
      ]
     },
     "execution_count": 15,
     "metadata": {},
     "output_type": "execute_result"
    }
   ],
   "source": [
    "x = [8,12,4,11,15,10,8,7,4,11,6,6,8,7,4,9,16,6,14,6]\n",
    "np.percentile(x,90)\n"
   ]
  },
  {
   "cell_type": "code",
   "execution_count": 16,
   "id": "d65ab68d",
   "metadata": {},
   "outputs": [
    {
     "data": {
      "text/plain": [
       "array([ 6.,  8., 11.])"
      ]
     },
     "execution_count": 16,
     "metadata": {},
     "output_type": "execute_result"
    }
   ],
   "source": [
    "#https://en.wikipedia.org/wiki/Quantile \n",
    "# Can compute empirical quantiles with mqunatiles\n",
    "from scipy.stats.mstats import mquantiles\n",
    "x = [8,12,4,11,15,10,8,7,4,11,6,6,8,7,4,9,16,6,14,6]\n",
    "mquantiles(x,prob=[0.25, 0.5, 0.75])\n"
   ]
  },
  {
   "cell_type": "code",
   "execution_count": 17,
   "id": "33e5954e",
   "metadata": {},
   "outputs": [
    {
     "data": {
      "text/plain": [
       "array([ 4.,  6.,  8., 11., 16.])"
      ]
     },
     "execution_count": 17,
     "metadata": {},
     "output_type": "execute_result"
    }
   ],
   "source": [
    "#Five Number Summary\n",
    "x = [8,12,4,11,15,10,8,7,4,11,6,6,8,7,4,9,16,6,14,6]\n",
    "mquantiles(x,prob=[0.00,0.25, 0.5, 0.75,1.00])\n"
   ]
  },
  {
   "cell_type": "code",
   "execution_count": 18,
   "id": "25406bb2",
   "metadata": {},
   "outputs": [
    {
     "data": {
      "text/html": [
       "<div>\n",
       "<style scoped>\n",
       "    .dataframe tbody tr th:only-of-type {\n",
       "        vertical-align: middle;\n",
       "    }\n",
       "\n",
       "    .dataframe tbody tr th {\n",
       "        vertical-align: top;\n",
       "    }\n",
       "\n",
       "    .dataframe thead th {\n",
       "        text-align: right;\n",
       "    }\n",
       "</style>\n",
       "<table border=\"1\" class=\"dataframe\">\n",
       "  <thead>\n",
       "    <tr style=\"text-align: right;\">\n",
       "      <th></th>\n",
       "      <th>0</th>\n",
       "    </tr>\n",
       "  </thead>\n",
       "  <tbody>\n",
       "    <tr>\n",
       "      <th>count</th>\n",
       "      <td>20.000000</td>\n",
       "    </tr>\n",
       "    <tr>\n",
       "      <th>mean</th>\n",
       "      <td>8.600000</td>\n",
       "    </tr>\n",
       "    <tr>\n",
       "      <th>std</th>\n",
       "      <td>3.604091</td>\n",
       "    </tr>\n",
       "    <tr>\n",
       "      <th>min</th>\n",
       "      <td>4.000000</td>\n",
       "    </tr>\n",
       "    <tr>\n",
       "      <th>25%</th>\n",
       "      <td>6.000000</td>\n",
       "    </tr>\n",
       "    <tr>\n",
       "      <th>50%</th>\n",
       "      <td>8.000000</td>\n",
       "    </tr>\n",
       "    <tr>\n",
       "      <th>75%</th>\n",
       "      <td>11.000000</td>\n",
       "    </tr>\n",
       "    <tr>\n",
       "      <th>max</th>\n",
       "      <td>16.000000</td>\n",
       "    </tr>\n",
       "  </tbody>\n",
       "</table>\n",
       "</div>"
      ],
      "text/plain": [
       "               0\n",
       "count  20.000000\n",
       "mean    8.600000\n",
       "std     3.604091\n",
       "min     4.000000\n",
       "25%     6.000000\n",
       "50%     8.000000\n",
       "75%    11.000000\n",
       "max    16.000000"
      ]
     },
     "execution_count": 18,
     "metadata": {},
     "output_type": "execute_result"
    }
   ],
   "source": [
    "import pandas as pd\n",
    "x = [8,12,4,11,15,10,8,7,4,11,6,6,8,7,4,9,16,6,14,6]\n",
    "y = pd.DataFrame(x)\n",
    "y.describe()\n"
   ]
  },
  {
   "cell_type": "code",
   "execution_count": 19,
   "id": "25ac0c0d",
   "metadata": {},
   "outputs": [
    {
     "data": {
      "text/plain": [
       "5.0"
      ]
     },
     "execution_count": 19,
     "metadata": {},
     "output_type": "execute_result"
    }
   ],
   "source": [
    "#interquartile range\n",
    "from scipy.stats import iqr\n",
    "x = [8,12,4,11,15,10,8,7,4,11,6,6,8,7,4,9,16,6,14,6]\n",
    "iqr(x)\n"
   ]
  },
  {
   "cell_type": "code",
   "execution_count": 20,
   "id": "aab4986d",
   "metadata": {},
   "outputs": [
    {
     "data": {
      "text/plain": [
       "0.45023241299126027"
      ]
     },
     "execution_count": 20,
     "metadata": {},
     "output_type": "execute_result"
    }
   ],
   "source": [
    "#skewness\n",
    "from scipy.stats import skew\n",
    "skew([11730,5461,6655,7484,10242,8547,5521,13207,7598,9421,11563,6995,10531,11525,7770,7094,8339,8375,8808,6802])\n"
   ]
  },
  {
   "cell_type": "code",
   "execution_count": 21,
   "id": "98243e7c",
   "metadata": {},
   "outputs": [
    {
     "data": {
      "text/plain": [
       "7.844213028593408"
      ]
     },
     "execution_count": 21,
     "metadata": {},
     "output_type": "execute_result"
    }
   ],
   "source": [
    "#kurtosis\n",
    "from scipy.stats import kurtosis\n",
    "x=[7350,7589,8643,8770,8321,9100,9100,9100,9100,9100,9100,9100,9100,9100,9100,9100,9100,9100,11643,13542]\n",
    "kurtosis(x,fisher=False,bias=True)\n"
   ]
  },
  {
   "cell_type": "code",
   "execution_count": 26,
   "id": "97303089",
   "metadata": {},
   "outputs": [
    {
     "data": {
      "text/html": [
       "<div>\n",
       "<style scoped>\n",
       "    .dataframe tbody tr th:only-of-type {\n",
       "        vertical-align: middle;\n",
       "    }\n",
       "\n",
       "    .dataframe tbody tr th {\n",
       "        vertical-align: top;\n",
       "    }\n",
       "\n",
       "    .dataframe thead th {\n",
       "        text-align: right;\n",
       "    }\n",
       "</style>\n",
       "<table border=\"1\" class=\"dataframe\">\n",
       "  <thead>\n",
       "    <tr style=\"text-align: right;\">\n",
       "      <th></th>\n",
       "      <th>Units</th>\n",
       "      <th>Minutes</th>\n",
       "    </tr>\n",
       "  </thead>\n",
       "  <tbody>\n",
       "    <tr>\n",
       "      <th>0</th>\n",
       "      <td>1</td>\n",
       "      <td>23</td>\n",
       "    </tr>\n",
       "    <tr>\n",
       "      <th>1</th>\n",
       "      <td>2</td>\n",
       "      <td>29</td>\n",
       "    </tr>\n",
       "    <tr>\n",
       "      <th>2</th>\n",
       "      <td>3</td>\n",
       "      <td>49</td>\n",
       "    </tr>\n",
       "    <tr>\n",
       "      <th>3</th>\n",
       "      <td>4</td>\n",
       "      <td>64</td>\n",
       "    </tr>\n",
       "    <tr>\n",
       "      <th>4</th>\n",
       "      <td>4</td>\n",
       "      <td>74</td>\n",
       "    </tr>\n",
       "  </tbody>\n",
       "</table>\n",
       "</div>"
      ],
      "text/plain": [
       "   Units  Minutes\n",
       "0      1       23\n",
       "1      2       29\n",
       "2      3       49\n",
       "3      4       64\n",
       "4      4       74"
      ]
     },
     "execution_count": 26,
     "metadata": {},
     "output_type": "execute_result"
    }
   ],
   "source": [
    "# Importing the required libraries\n",
    "import numpy as np\n",
    "import pandas as pd\n",
    "import matplotlib.pyplot as plt\n",
    "%matplotlib inline\n",
    "# Reading the data from input csv file into a Pandas DataFrame\n",
    "computers = pd.read_csv(r\"C:\\Users\\dharmesh.kanzariya\\Downloads\\datasets1603366608907\\datasets/computers.csv\") \n",
    "# Printing the first 5 rows\n",
    "computers.head()\n"
   ]
  },
  {
   "cell_type": "code",
   "execution_count": 27,
   "id": "3cdd7566",
   "metadata": {},
   "outputs": [
    {
     "data": {
      "text/plain": [
       "Text(0, 0.5, 'Minutes')"
      ]
     },
     "execution_count": 27,
     "metadata": {},
     "output_type": "execute_result"
    },
    {
     "data": {
      "image/png": "[encoded data removed]",
      "text/plain": [
       "<Figure size 640x480 with 1 Axes>"
      ]
     },
     "metadata": {},
     "output_type": "display_data"
    }
   ],
   "source": [
    "# Calculating the mean.\n",
    "mean_value = computers['Minutes'].mean()\n",
    "# Plotting the actual time taken for various values of number of faulty units.\n",
    "plt.scatter(computers['Units'],computers['Minutes'],color='blue', marker='o')\n",
    "# Plotting the mean\n",
    "plt.axhline(y=mean_value,c=\"r\")\n",
    "# Adding annotation, xlabel and ylabel.\n",
    "plt.annotate(\"Mean repair time\",xy = (7.5,mean_value+2))\n",
    "plt.xlabel(\"Units\")\n",
    "plt.ylabel(\"Minutes\")\n"
   ]
  },
  {
   "cell_type": "code",
   "execution_count": 28,
   "id": "7a59b8d8",
   "metadata": {},
   "outputs": [
    {
     "data": {
      "text/plain": [
       "Text(0, 0.5, 'Minutes')"
      ]
     },
     "execution_count": 28,
     "metadata": {},
     "output_type": "execute_result"
    },
    {
     "data": {
      "image/png": "[encoded data removed]",
      "text/plain": [
       "<Figure size 640x480 with 1 Axes>"
      ]
     },
     "metadata": {},
     "output_type": "display_data"
    }
   ],
   "source": [
    "# Plotting the actual time taken for various values of number of faulty units.\n",
    "plt.scatter(computers['Units'],computers['Minutes'],color='blue', marker='o')\n",
    "# Plotting the mean\n",
    "plt.axhline(y=mean_value,c=\"r\")\n",
    "# Adding annotation, xlabel and ylabel.\n",
    "plt.annotate(\"Mean repair time\",xy = (7.5,mean_value+2))\n",
    "plt.xlabel(\"Units\")\n",
    "plt.ylabel(\"Minutes\")\n"
   ]
  },
  {
   "cell_type": "code",
   "execution_count": 29,
   "id": "cd48dc88",
   "metadata": {},
   "outputs": [],
   "source": [
    "minutes_model0 = computers['Minutes'].mean()\n",
    "minutes_model1 = 10 + 12*computers['Units']\n",
    "minutes_model2 = 6 + 18*computers['Units']\n"
   ]
  },
  {
   "cell_type": "code",
   "execution_count": 30,
   "id": "690fad09",
   "metadata": {},
   "outputs": [
    {
     "ename": "KeyError",
     "evalue": "'min_model0'",
     "output_type": "error",
     "traceback": [
      "\u001b[1;31m---------------------------------------------------------------------------\u001b[0m",
      "\u001b[1;31mKeyError\u001b[0m                                  Traceback (most recent call last)",
      "\u001b[1;32m~\\Anaconda3\\lib\\site-packages\\pandas\\core\\indexes\\base.py\u001b[0m in \u001b[0;36mget_loc\u001b[1;34m(self, key, method, tolerance)\u001b[0m\n\u001b[0;32m   3628\u001b[0m             \u001b[1;32mtry\u001b[0m\u001b[1;33m:\u001b[0m\u001b[1;33m\u001b[0m\u001b[1;33m\u001b[0m\u001b[0m\n\u001b[1;32m-> 3629\u001b[1;33m                 \u001b[1;32mreturn\u001b[0m \u001b[0mself\u001b[0m\u001b[1;33m.\u001b[0m\u001b[0m_engine\u001b[0m\u001b[1;33m.\u001b[0m\u001b[0mget_loc\u001b[0m\u001b[1;33m(\u001b[0m\u001b[0mcasted_key\u001b[0m\u001b[1;33m)\u001b[0m\u001b[1;33m\u001b[0m\u001b[1;33m\u001b[0m\u001b[0m\n\u001b[0m\u001b[0;32m   3630\u001b[0m             \u001b[1;32mexcept\u001b[0m \u001b[0mKeyError\u001b[0m \u001b[1;32mas\u001b[0m \u001b[0merr\u001b[0m\u001b[1;33m:\u001b[0m\u001b[1;33m\u001b[0m\u001b[1;33m\u001b[0m\u001b[0m\n",
      "\u001b[1;32m~\\Anaconda3\\lib\\site-packages\\pandas\\_libs\\index.pyx\u001b[0m in \u001b[0;36mpandas._libs.index.IndexEngine.get_loc\u001b[1;34m()\u001b[0m\n",
      "\u001b[1;32m~\\Anaconda3\\lib\\site-packages\\pandas\\_libs\\index.pyx\u001b[0m in \u001b[0;36mpandas._libs.index.IndexEngine.get_loc\u001b[1;34m()\u001b[0m\n",
      "\u001b[1;32mpandas\\_libs\\hashtable_class_helper.pxi\u001b[0m in \u001b[0;36mpandas._libs.hashtable.PyObjectHashTable.get_item\u001b[1;34m()\u001b[0m\n",
      "\u001b[1;32mpandas\\_libs\\hashtable_class_helper.pxi\u001b[0m in \u001b[0;36mpandas._libs.hashtable.PyObjectHashTable.get_item\u001b[1;34m()\u001b[0m\n",
      "\u001b[1;31mKeyError\u001b[0m: 'min_model0'",
      "\nThe above exception was the direct cause of the following exception:\n",
      "\u001b[1;31mKeyError\u001b[0m                                  Traceback (most recent call last)",
      "\u001b[1;32m~\\AppData\\Local\\Temp\\ipykernel_14140\\1482566654.py\u001b[0m in \u001b[0;36m<module>\u001b[1;34m\u001b[0m\n\u001b[0;32m      3\u001b[0m \u001b[0max\u001b[0m\u001b[1;33m.\u001b[0m\u001b[0mscatter\u001b[0m\u001b[1;33m(\u001b[0m\u001b[0mx\u001b[0m\u001b[1;33m=\u001b[0m\u001b[1;34m\"Units\"\u001b[0m\u001b[1;33m,\u001b[0m\u001b[0my\u001b[0m\u001b[1;33m=\u001b[0m\u001b[1;34m\"Minutes\"\u001b[0m\u001b[1;33m,\u001b[0m\u001b[0mdata\u001b[0m\u001b[1;33m=\u001b[0m\u001b[0mcomputers\u001b[0m\u001b[1;33m,\u001b[0m\u001b[0mlabel\u001b[0m\u001b[1;33m=\u001b[0m\u001b[1;34m'actual repair time'\u001b[0m\u001b[1;33m)\u001b[0m\u001b[1;33m\u001b[0m\u001b[1;33m\u001b[0m\u001b[0m\n\u001b[0;32m      4\u001b[0m \u001b[1;31m# Plotting the Model0 predictions\u001b[0m\u001b[1;33m\u001b[0m\u001b[1;33m\u001b[0m\u001b[0m\n\u001b[1;32m----> 5\u001b[1;33m \u001b[0max\u001b[0m\u001b[1;33m.\u001b[0m\u001b[0mplot\u001b[0m\u001b[1;33m(\u001b[0m\u001b[0mcomputers\u001b[0m\u001b[1;33m[\u001b[0m\u001b[1;34m'Units'\u001b[0m\u001b[1;33m]\u001b[0m\u001b[1;33m,\u001b[0m\u001b[0mcomputers\u001b[0m\u001b[1;33m[\u001b[0m\u001b[1;34m'min_model0'\u001b[0m\u001b[1;33m]\u001b[0m\u001b[1;33m,\u001b[0m\u001b[0mcolor\u001b[0m\u001b[1;33m=\u001b[0m\u001b[1;34m\"red\"\u001b[0m\u001b[1;33m,\u001b[0m\u001b[0mlabel\u001b[0m\u001b[1;33m=\u001b[0m\u001b[1;34m'model0'\u001b[0m\u001b[1;33m)\u001b[0m\u001b[1;33m\u001b[0m\u001b[1;33m\u001b[0m\u001b[0m\n\u001b[0m\u001b[0;32m      6\u001b[0m \u001b[1;31m# Plotting the Model1 predictions\u001b[0m\u001b[1;33m\u001b[0m\u001b[1;33m\u001b[0m\u001b[0m\n\u001b[0;32m      7\u001b[0m \u001b[0max\u001b[0m\u001b[1;33m.\u001b[0m\u001b[0mplot\u001b[0m\u001b[1;33m(\u001b[0m\u001b[0mcomputers\u001b[0m\u001b[1;33m[\u001b[0m\u001b[1;34m'Units'\u001b[0m\u001b[1;33m]\u001b[0m\u001b[1;33m,\u001b[0m\u001b[0mcomputers\u001b[0m\u001b[1;33m[\u001b[0m\u001b[1;34m'min_model1'\u001b[0m\u001b[1;33m]\u001b[0m\u001b[1;33m,\u001b[0m\u001b[0mcolor\u001b[0m\u001b[1;33m=\u001b[0m\u001b[1;34m\"green\"\u001b[0m\u001b[1;33m,\u001b[0m\u001b[0mlabel\u001b[0m\u001b[1;33m=\u001b[0m\u001b[1;34m'model1'\u001b[0m\u001b[1;33m)\u001b[0m\u001b[1;33m\u001b[0m\u001b[1;33m\u001b[0m\u001b[0m\n",
      "\u001b[1;32m~\\Anaconda3\\lib\\site-packages\\pandas\\core\\frame.py\u001b[0m in \u001b[0;36m__getitem__\u001b[1;34m(self, key)\u001b[0m\n\u001b[0;32m   3503\u001b[0m             \u001b[1;32mif\u001b[0m \u001b[0mself\u001b[0m\u001b[1;33m.\u001b[0m\u001b[0mcolumns\u001b[0m\u001b[1;33m.\u001b[0m\u001b[0mnlevels\u001b[0m \u001b[1;33m>\u001b[0m \u001b[1;36m1\u001b[0m\u001b[1;33m:\u001b[0m\u001b[1;33m\u001b[0m\u001b[1;33m\u001b[0m\u001b[0m\n\u001b[0;32m   3504\u001b[0m                 \u001b[1;32mreturn\u001b[0m \u001b[0mself\u001b[0m\u001b[1;33m.\u001b[0m\u001b[0m_getitem_multilevel\u001b[0m\u001b[1;33m(\u001b[0m\u001b[0mkey\u001b[0m\u001b[1;33m)\u001b[0m\u001b[1;33m\u001b[0m\u001b[1;33m\u001b[0m\u001b[0m\n\u001b[1;32m-> 3505\u001b[1;33m             \u001b[0mindexer\u001b[0m \u001b[1;33m=\u001b[0m \u001b[0mself\u001b[0m\u001b[1;33m.\u001b[0m\u001b[0mcolumns\u001b[0m\u001b[1;33m.\u001b[0m\u001b[0mget_loc\u001b[0m\u001b[1;33m(\u001b[0m\u001b[0mkey\u001b[0m\u001b[1;33m)\u001b[0m\u001b[1;33m\u001b[0m\u001b[1;33m\u001b[0m\u001b[0m\n\u001b[0m\u001b[0;32m   3506\u001b[0m             \u001b[1;32mif\u001b[0m \u001b[0mis_integer\u001b[0m\u001b[1;33m(\u001b[0m\u001b[0mindexer\u001b[0m\u001b[1;33m)\u001b[0m\u001b[1;33m:\u001b[0m\u001b[1;33m\u001b[0m\u001b[1;33m\u001b[0m\u001b[0m\n\u001b[0;32m   3507\u001b[0m                 \u001b[0mindexer\u001b[0m \u001b[1;33m=\u001b[0m \u001b[1;33m[\u001b[0m\u001b[0mindexer\u001b[0m\u001b[1;33m]\u001b[0m\u001b[1;33m\u001b[0m\u001b[1;33m\u001b[0m\u001b[0m\n",
      "\u001b[1;32m~\\Anaconda3\\lib\\site-packages\\pandas\\core\\indexes\\base.py\u001b[0m in \u001b[0;36mget_loc\u001b[1;34m(self, key, method, tolerance)\u001b[0m\n\u001b[0;32m   3629\u001b[0m                 \u001b[1;32mreturn\u001b[0m \u001b[0mself\u001b[0m\u001b[1;33m.\u001b[0m\u001b[0m_engine\u001b[0m\u001b[1;33m.\u001b[0m\u001b[0mget_loc\u001b[0m\u001b[1;33m(\u001b[0m\u001b[0mcasted_key\u001b[0m\u001b[1;33m)\u001b[0m\u001b[1;33m\u001b[0m\u001b[1;33m\u001b[0m\u001b[0m\n\u001b[0;32m   3630\u001b[0m             \u001b[1;32mexcept\u001b[0m \u001b[0mKeyError\u001b[0m \u001b[1;32mas\u001b[0m \u001b[0merr\u001b[0m\u001b[1;33m:\u001b[0m\u001b[1;33m\u001b[0m\u001b[1;33m\u001b[0m\u001b[0m\n\u001b[1;32m-> 3631\u001b[1;33m                 \u001b[1;32mraise\u001b[0m \u001b[0mKeyError\u001b[0m\u001b[1;33m(\u001b[0m\u001b[0mkey\u001b[0m\u001b[1;33m)\u001b[0m \u001b[1;32mfrom\u001b[0m \u001b[0merr\u001b[0m\u001b[1;33m\u001b[0m\u001b[1;33m\u001b[0m\u001b[0m\n\u001b[0m\u001b[0;32m   3632\u001b[0m             \u001b[1;32mexcept\u001b[0m \u001b[0mTypeError\u001b[0m\u001b[1;33m:\u001b[0m\u001b[1;33m\u001b[0m\u001b[1;33m\u001b[0m\u001b[0m\n\u001b[0;32m   3633\u001b[0m                 \u001b[1;31m# If we have a listlike key, _check_indexing_error will raise\u001b[0m\u001b[1;33m\u001b[0m\u001b[1;33m\u001b[0m\u001b[0m\n",
      "\u001b[1;31mKeyError\u001b[0m: 'min_model0'"
     ]
    },
    {
     "data": {
      "image/png": "[encoded data removed]",
      "text/plain": [
       "<Figure size 640x480 with 1 Axes>"
      ]
     },
     "metadata": {},
     "output_type": "display_data"
    }
   ],
   "source": [
    "fig,ax = plt.subplots()\n",
    "# Plotting the actual 'Minutes'\n",
    "ax.scatter(x=\"Units\",y=\"Minutes\",data=computers,label='actual repair time')\n",
    "# Plotting the Model0 predictions\n",
    "ax.plot(computers['Units'],computers['min_model0'],color=\"red\",label='model0')\n",
    "# Plotting the Model1 predictions\n",
    "ax.plot(computers['Units'],computers['min_model1'],color=\"green\",label='model1')\n",
    "# Plotting the Model2 predictions\n",
    "ax.plot(computers['Units'],computers['min_model2'],color=\"black\",label='model2')\n",
    "# Adding xlabel, ylabel, title and legend \n",
    "ax.set_ylabel(\"Minutes\")\n",
    "ax.set_xlabel(\"Units\")\n",
    "ax.set_title(\"Speculated Models\")\n",
    "ax.legend()\n"
   ]
  },
  {
   "cell_type": "code",
   "execution_count": 31,
   "id": "257eb079",
   "metadata": {},
   "outputs": [
    {
     "ename": "KeyError",
     "evalue": "'min_model0'",
     "output_type": "error",
     "traceback": [
      "\u001b[1;31m---------------------------------------------------------------------------\u001b[0m",
      "\u001b[1;31mKeyError\u001b[0m                                  Traceback (most recent call last)",
      "\u001b[1;32m~\\Anaconda3\\lib\\site-packages\\pandas\\core\\indexes\\base.py\u001b[0m in \u001b[0;36mget_loc\u001b[1;34m(self, key, method, tolerance)\u001b[0m\n\u001b[0;32m   3628\u001b[0m             \u001b[1;32mtry\u001b[0m\u001b[1;33m:\u001b[0m\u001b[1;33m\u001b[0m\u001b[1;33m\u001b[0m\u001b[0m\n\u001b[1;32m-> 3629\u001b[1;33m                 \u001b[1;32mreturn\u001b[0m \u001b[0mself\u001b[0m\u001b[1;33m.\u001b[0m\u001b[0m_engine\u001b[0m\u001b[1;33m.\u001b[0m\u001b[0mget_loc\u001b[0m\u001b[1;33m(\u001b[0m\u001b[0mcasted_key\u001b[0m\u001b[1;33m)\u001b[0m\u001b[1;33m\u001b[0m\u001b[1;33m\u001b[0m\u001b[0m\n\u001b[0m\u001b[0;32m   3630\u001b[0m             \u001b[1;32mexcept\u001b[0m \u001b[0mKeyError\u001b[0m \u001b[1;32mas\u001b[0m \u001b[0merr\u001b[0m\u001b[1;33m:\u001b[0m\u001b[1;33m\u001b[0m\u001b[1;33m\u001b[0m\u001b[0m\n",
      "\u001b[1;32m~\\Anaconda3\\lib\\site-packages\\pandas\\_libs\\index.pyx\u001b[0m in \u001b[0;36mpandas._libs.index.IndexEngine.get_loc\u001b[1;34m()\u001b[0m\n",
      "\u001b[1;32m~\\Anaconda3\\lib\\site-packages\\pandas\\_libs\\index.pyx\u001b[0m in \u001b[0;36mpandas._libs.index.IndexEngine.get_loc\u001b[1;34m()\u001b[0m\n",
      "\u001b[1;32mpandas\\_libs\\hashtable_class_helper.pxi\u001b[0m in \u001b[0;36mpandas._libs.hashtable.PyObjectHashTable.get_item\u001b[1;34m()\u001b[0m\n",
      "\u001b[1;32mpandas\\_libs\\hashtable_class_helper.pxi\u001b[0m in \u001b[0;36mpandas._libs.hashtable.PyObjectHashTable.get_item\u001b[1;34m()\u001b[0m\n",
      "\u001b[1;31mKeyError\u001b[0m: 'min_model0'",
      "\nThe above exception was the direct cause of the following exception:\n",
      "\u001b[1;31mKeyError\u001b[0m                                  Traceback (most recent call last)",
      "\u001b[1;32m~\\AppData\\Local\\Temp\\ipykernel_14140\\350090726.py\u001b[0m in \u001b[0;36m<module>\u001b[1;34m\u001b[0m\n\u001b[0;32m      3\u001b[0m model0_obs = pd.DataFrame({\"Units\":computers['Units'],\n\u001b[0;32m      4\u001b[0m               \u001b[1;34m\"Actual time\"\u001b[0m\u001b[1;33m:\u001b[0m\u001b[0mcomputers\u001b[0m\u001b[1;33m[\u001b[0m\u001b[1;34m'Minutes'\u001b[0m\u001b[1;33m]\u001b[0m\u001b[1;33m,\u001b[0m\u001b[1;33m\u001b[0m\u001b[1;33m\u001b[0m\u001b[0m\n\u001b[1;32m----> 5\u001b[1;33m               \u001b[1;34m\"Predicted time\"\u001b[0m\u001b[1;33m:\u001b[0m\u001b[0mcomputers\u001b[0m\u001b[1;33m[\u001b[0m\u001b[1;34m'min_model0'\u001b[0m\u001b[1;33m]\u001b[0m\u001b[1;33m,\u001b[0m\u001b[1;33m\u001b[0m\u001b[1;33m\u001b[0m\u001b[0m\n\u001b[0m\u001b[0;32m      6\u001b[0m               \"Error\":(computers['min_model0'] - computers['Minutes'])})\n\u001b[0;32m      7\u001b[0m \u001b[0mmodel0_obs\u001b[0m \u001b[1;31m# Printing the DataFrame\u001b[0m\u001b[1;33m\u001b[0m\u001b[1;33m\u001b[0m\u001b[0m\n",
      "\u001b[1;32m~\\Anaconda3\\lib\\site-packages\\pandas\\core\\frame.py\u001b[0m in \u001b[0;36m__getitem__\u001b[1;34m(self, key)\u001b[0m\n\u001b[0;32m   3503\u001b[0m             \u001b[1;32mif\u001b[0m \u001b[0mself\u001b[0m\u001b[1;33m.\u001b[0m\u001b[0mcolumns\u001b[0m\u001b[1;33m.\u001b[0m\u001b[0mnlevels\u001b[0m \u001b[1;33m>\u001b[0m \u001b[1;36m1\u001b[0m\u001b[1;33m:\u001b[0m\u001b[1;33m\u001b[0m\u001b[1;33m\u001b[0m\u001b[0m\n\u001b[0;32m   3504\u001b[0m                 \u001b[1;32mreturn\u001b[0m \u001b[0mself\u001b[0m\u001b[1;33m.\u001b[0m\u001b[0m_getitem_multilevel\u001b[0m\u001b[1;33m(\u001b[0m\u001b[0mkey\u001b[0m\u001b[1;33m)\u001b[0m\u001b[1;33m\u001b[0m\u001b[1;33m\u001b[0m\u001b[0m\n\u001b[1;32m-> 3505\u001b[1;33m             \u001b[0mindexer\u001b[0m \u001b[1;33m=\u001b[0m \u001b[0mself\u001b[0m\u001b[1;33m.\u001b[0m\u001b[0mcolumns\u001b[0m\u001b[1;33m.\u001b[0m\u001b[0mget_loc\u001b[0m\u001b[1;33m(\u001b[0m\u001b[0mkey\u001b[0m\u001b[1;33m)\u001b[0m\u001b[1;33m\u001b[0m\u001b[1;33m\u001b[0m\u001b[0m\n\u001b[0m\u001b[0;32m   3506\u001b[0m             \u001b[1;32mif\u001b[0m \u001b[0mis_integer\u001b[0m\u001b[1;33m(\u001b[0m\u001b[0mindexer\u001b[0m\u001b[1;33m)\u001b[0m\u001b[1;33m:\u001b[0m\u001b[1;33m\u001b[0m\u001b[1;33m\u001b[0m\u001b[0m\n\u001b[0;32m   3507\u001b[0m                 \u001b[0mindexer\u001b[0m \u001b[1;33m=\u001b[0m \u001b[1;33m[\u001b[0m\u001b[0mindexer\u001b[0m\u001b[1;33m]\u001b[0m\u001b[1;33m\u001b[0m\u001b[1;33m\u001b[0m\u001b[0m\n",
      "\u001b[1;32m~\\Anaconda3\\lib\\site-packages\\pandas\\core\\indexes\\base.py\u001b[0m in \u001b[0;36mget_loc\u001b[1;34m(self, key, method, tolerance)\u001b[0m\n\u001b[0;32m   3629\u001b[0m                 \u001b[1;32mreturn\u001b[0m \u001b[0mself\u001b[0m\u001b[1;33m.\u001b[0m\u001b[0m_engine\u001b[0m\u001b[1;33m.\u001b[0m\u001b[0mget_loc\u001b[0m\u001b[1;33m(\u001b[0m\u001b[0mcasted_key\u001b[0m\u001b[1;33m)\u001b[0m\u001b[1;33m\u001b[0m\u001b[1;33m\u001b[0m\u001b[0m\n\u001b[0;32m   3630\u001b[0m             \u001b[1;32mexcept\u001b[0m \u001b[0mKeyError\u001b[0m \u001b[1;32mas\u001b[0m \u001b[0merr\u001b[0m\u001b[1;33m:\u001b[0m\u001b[1;33m\u001b[0m\u001b[1;33m\u001b[0m\u001b[0m\n\u001b[1;32m-> 3631\u001b[1;33m                 \u001b[1;32mraise\u001b[0m \u001b[0mKeyError\u001b[0m\u001b[1;33m(\u001b[0m\u001b[0mkey\u001b[0m\u001b[1;33m)\u001b[0m \u001b[1;32mfrom\u001b[0m \u001b[0merr\u001b[0m\u001b[1;33m\u001b[0m\u001b[1;33m\u001b[0m\u001b[0m\n\u001b[0m\u001b[0;32m   3632\u001b[0m             \u001b[1;32mexcept\u001b[0m \u001b[0mTypeError\u001b[0m\u001b[1;33m:\u001b[0m\u001b[1;33m\u001b[0m\u001b[1;33m\u001b[0m\u001b[0m\n\u001b[0;32m   3633\u001b[0m                 \u001b[1;31m# If we have a listlike key, _check_indexing_error will raise\u001b[0m\u001b[1;33m\u001b[0m\u001b[1;33m\u001b[0m\u001b[0m\n",
      "\u001b[1;31mKeyError\u001b[0m: 'min_model0'"
     ]
    }
   ],
   "source": [
    "# Validating Model0: Estimated time = mean('Minutes')\n",
    "# Creating a Pandas DataFrame with 'Units', actual 'Minutes', predicted 'Minutes' by Model0, error in prediction by Model0.\n",
    "model0_obs = pd.DataFrame({\"Units\":computers['Units'],\n",
    "              \"Actual time\":computers['Minutes'],\n",
    "              \"Predicted time\":computers['min_model0'],\n",
    "              \"Error\":(computers['min_model0'] - computers['Minutes'])})\n",
    "model0_obs # Printing the DataFrame\n"
   ]
  },
  {
   "cell_type": "code",
   "execution_count": 32,
   "id": "8d211d09",
   "metadata": {},
   "outputs": [
    {
     "ename": "FileNotFoundError",
     "evalue": "[Errno 2] No such file or directory: 'auto_mpg.csv'",
     "output_type": "error",
     "traceback": [
      "\u001b[1;31m---------------------------------------------------------------------------\u001b[0m",
      "\u001b[1;31mFileNotFoundError\u001b[0m                         Traceback (most recent call last)",
      "\u001b[1;32m~\\AppData\\Local\\Temp\\ipykernel_14140\\2772329970.py\u001b[0m in \u001b[0;36m<module>\u001b[1;34m\u001b[0m\n\u001b[0;32m      1\u001b[0m \u001b[1;32mimport\u001b[0m \u001b[0mpandas\u001b[0m \u001b[1;32mas\u001b[0m \u001b[0mpd\u001b[0m\u001b[1;33m\u001b[0m\u001b[1;33m\u001b[0m\u001b[0m\n\u001b[1;32m----> 2\u001b[1;33m \u001b[0mdf\u001b[0m \u001b[1;33m=\u001b[0m \u001b[0mpd\u001b[0m\u001b[1;33m.\u001b[0m\u001b[0mread_csv\u001b[0m\u001b[1;33m(\u001b[0m\u001b[1;34m'auto_mpg.csv'\u001b[0m\u001b[1;33m)\u001b[0m\u001b[1;33m\u001b[0m\u001b[1;33m\u001b[0m\u001b[0m\n\u001b[0m\u001b[0;32m      3\u001b[0m \u001b[0mdf\u001b[0m\u001b[1;33m\u001b[0m\u001b[1;33m\u001b[0m\u001b[0m\n",
      "\u001b[1;32m~\\Anaconda3\\lib\\site-packages\\pandas\\util\\_decorators.py\u001b[0m in \u001b[0;36mwrapper\u001b[1;34m(*args, **kwargs)\u001b[0m\n\u001b[0;32m    309\u001b[0m                     \u001b[0mstacklevel\u001b[0m\u001b[1;33m=\u001b[0m\u001b[0mstacklevel\u001b[0m\u001b[1;33m,\u001b[0m\u001b[1;33m\u001b[0m\u001b[1;33m\u001b[0m\u001b[0m\n\u001b[0;32m    310\u001b[0m                 )\n\u001b[1;32m--> 311\u001b[1;33m             \u001b[1;32mreturn\u001b[0m \u001b[0mfunc\u001b[0m\u001b[1;33m(\u001b[0m\u001b[1;33m*\u001b[0m\u001b[0margs\u001b[0m\u001b[1;33m,\u001b[0m \u001b[1;33m**\u001b[0m\u001b[0mkwargs\u001b[0m\u001b[1;33m)\u001b[0m\u001b[1;33m\u001b[0m\u001b[1;33m\u001b[0m\u001b[0m\n\u001b[0m\u001b[0;32m    312\u001b[0m \u001b[1;33m\u001b[0m\u001b[0m\n\u001b[0;32m    313\u001b[0m         \u001b[1;32mreturn\u001b[0m \u001b[0mwrapper\u001b[0m\u001b[1;33m\u001b[0m\u001b[1;33m\u001b[0m\u001b[0m\n",
      "\u001b[1;32m~\\Anaconda3\\lib\\site-packages\\pandas\\io\\parsers\\readers.py\u001b[0m in \u001b[0;36mread_csv\u001b[1;34m(filepath_or_buffer, sep, delimiter, header, names, index_col, usecols, squeeze, prefix, mangle_dupe_cols, dtype, engine, converters, true_values, false_values, skipinitialspace, skiprows, skipfooter, nrows, na_values, keep_default_na, na_filter, verbose, skip_blank_lines, parse_dates, infer_datetime_format, keep_date_col, date_parser, dayfirst, cache_dates, iterator, chunksize, compression, thousands, decimal, lineterminator, quotechar, quoting, doublequote, escapechar, comment, encoding, encoding_errors, dialect, error_bad_lines, warn_bad_lines, on_bad_lines, delim_whitespace, low_memory, memory_map, float_precision, storage_options)\u001b[0m\n\u001b[0;32m    676\u001b[0m     \u001b[0mkwds\u001b[0m\u001b[1;33m.\u001b[0m\u001b[0mupdate\u001b[0m\u001b[1;33m(\u001b[0m\u001b[0mkwds_defaults\u001b[0m\u001b[1;33m)\u001b[0m\u001b[1;33m\u001b[0m\u001b[1;33m\u001b[0m\u001b[0m\n\u001b[0;32m    677\u001b[0m \u001b[1;33m\u001b[0m\u001b[0m\n\u001b[1;32m--> 678\u001b[1;33m     \u001b[1;32mreturn\u001b[0m \u001b[0m_read\u001b[0m\u001b[1;33m(\u001b[0m\u001b[0mfilepath_or_buffer\u001b[0m\u001b[1;33m,\u001b[0m \u001b[0mkwds\u001b[0m\u001b[1;33m)\u001b[0m\u001b[1;33m\u001b[0m\u001b[1;33m\u001b[0m\u001b[0m\n\u001b[0m\u001b[0;32m    679\u001b[0m \u001b[1;33m\u001b[0m\u001b[0m\n\u001b[0;32m    680\u001b[0m \u001b[1;33m\u001b[0m\u001b[0m\n",
      "\u001b[1;32m~\\Anaconda3\\lib\\site-packages\\pandas\\io\\parsers\\readers.py\u001b[0m in \u001b[0;36m_read\u001b[1;34m(filepath_or_buffer, kwds)\u001b[0m\n\u001b[0;32m    573\u001b[0m \u001b[1;33m\u001b[0m\u001b[0m\n\u001b[0;32m    574\u001b[0m     \u001b[1;31m# Create the parser.\u001b[0m\u001b[1;33m\u001b[0m\u001b[1;33m\u001b[0m\u001b[0m\n\u001b[1;32m--> 575\u001b[1;33m     \u001b[0mparser\u001b[0m \u001b[1;33m=\u001b[0m \u001b[0mTextFileReader\u001b[0m\u001b[1;33m(\u001b[0m\u001b[0mfilepath_or_buffer\u001b[0m\u001b[1;33m,\u001b[0m \u001b[1;33m**\u001b[0m\u001b[0mkwds\u001b[0m\u001b[1;33m)\u001b[0m\u001b[1;33m\u001b[0m\u001b[1;33m\u001b[0m\u001b[0m\n\u001b[0m\u001b[0;32m    576\u001b[0m \u001b[1;33m\u001b[0m\u001b[0m\n\u001b[0;32m    577\u001b[0m     \u001b[1;32mif\u001b[0m \u001b[0mchunksize\u001b[0m \u001b[1;32mor\u001b[0m \u001b[0miterator\u001b[0m\u001b[1;33m:\u001b[0m\u001b[1;33m\u001b[0m\u001b[1;33m\u001b[0m\u001b[0m\n",
      "\u001b[1;32m~\\Anaconda3\\lib\\site-packages\\pandas\\io\\parsers\\readers.py\u001b[0m in \u001b[0;36m__init__\u001b[1;34m(self, f, engine, **kwds)\u001b[0m\n\u001b[0;32m    930\u001b[0m \u001b[1;33m\u001b[0m\u001b[0m\n\u001b[0;32m    931\u001b[0m         \u001b[0mself\u001b[0m\u001b[1;33m.\u001b[0m\u001b[0mhandles\u001b[0m\u001b[1;33m:\u001b[0m \u001b[0mIOHandles\u001b[0m \u001b[1;33m|\u001b[0m \u001b[1;32mNone\u001b[0m \u001b[1;33m=\u001b[0m \u001b[1;32mNone\u001b[0m\u001b[1;33m\u001b[0m\u001b[1;33m\u001b[0m\u001b[0m\n\u001b[1;32m--> 932\u001b[1;33m         \u001b[0mself\u001b[0m\u001b[1;33m.\u001b[0m\u001b[0m_engine\u001b[0m \u001b[1;33m=\u001b[0m \u001b[0mself\u001b[0m\u001b[1;33m.\u001b[0m\u001b[0m_make_engine\u001b[0m\u001b[1;33m(\u001b[0m\u001b[0mf\u001b[0m\u001b[1;33m,\u001b[0m \u001b[0mself\u001b[0m\u001b[1;33m.\u001b[0m\u001b[0mengine\u001b[0m\u001b[1;33m)\u001b[0m\u001b[1;33m\u001b[0m\u001b[1;33m\u001b[0m\u001b[0m\n\u001b[0m\u001b[0;32m    933\u001b[0m \u001b[1;33m\u001b[0m\u001b[0m\n\u001b[0;32m    934\u001b[0m     \u001b[1;32mdef\u001b[0m \u001b[0mclose\u001b[0m\u001b[1;33m(\u001b[0m\u001b[0mself\u001b[0m\u001b[1;33m)\u001b[0m\u001b[1;33m:\u001b[0m\u001b[1;33m\u001b[0m\u001b[1;33m\u001b[0m\u001b[0m\n",
      "\u001b[1;32m~\\Anaconda3\\lib\\site-packages\\pandas\\io\\parsers\\readers.py\u001b[0m in \u001b[0;36m_make_engine\u001b[1;34m(self, f, engine)\u001b[0m\n\u001b[0;32m   1214\u001b[0m             \u001b[1;31m# \"Union[str, PathLike[str], ReadCsvBuffer[bytes], ReadCsvBuffer[str]]\"\u001b[0m\u001b[1;33m\u001b[0m\u001b[1;33m\u001b[0m\u001b[0m\n\u001b[0;32m   1215\u001b[0m             \u001b[1;31m# , \"str\", \"bool\", \"Any\", \"Any\", \"Any\", \"Any\", \"Any\"\u001b[0m\u001b[1;33m\u001b[0m\u001b[1;33m\u001b[0m\u001b[0m\n\u001b[1;32m-> 1216\u001b[1;33m             self.handles = get_handle(  # type: ignore[call-overload]\n\u001b[0m\u001b[0;32m   1217\u001b[0m                 \u001b[0mf\u001b[0m\u001b[1;33m,\u001b[0m\u001b[1;33m\u001b[0m\u001b[1;33m\u001b[0m\u001b[0m\n\u001b[0;32m   1218\u001b[0m                 \u001b[0mmode\u001b[0m\u001b[1;33m,\u001b[0m\u001b[1;33m\u001b[0m\u001b[1;33m\u001b[0m\u001b[0m\n",
      "\u001b[1;32m~\\Anaconda3\\lib\\site-packages\\pandas\\io\\common.py\u001b[0m in \u001b[0;36mget_handle\u001b[1;34m(path_or_buf, mode, encoding, compression, memory_map, is_text, errors, storage_options)\u001b[0m\n\u001b[0;32m    784\u001b[0m         \u001b[1;32mif\u001b[0m \u001b[0mioargs\u001b[0m\u001b[1;33m.\u001b[0m\u001b[0mencoding\u001b[0m \u001b[1;32mand\u001b[0m \u001b[1;34m\"b\"\u001b[0m \u001b[1;32mnot\u001b[0m \u001b[1;32min\u001b[0m \u001b[0mioargs\u001b[0m\u001b[1;33m.\u001b[0m\u001b[0mmode\u001b[0m\u001b[1;33m:\u001b[0m\u001b[1;33m\u001b[0m\u001b[1;33m\u001b[0m\u001b[0m\n\u001b[0;32m    785\u001b[0m             \u001b[1;31m# Encoding\u001b[0m\u001b[1;33m\u001b[0m\u001b[1;33m\u001b[0m\u001b[0m\n\u001b[1;32m--> 786\u001b[1;33m             handle = open(\n\u001b[0m\u001b[0;32m    787\u001b[0m                 \u001b[0mhandle\u001b[0m\u001b[1;33m,\u001b[0m\u001b[1;33m\u001b[0m\u001b[1;33m\u001b[0m\u001b[0m\n\u001b[0;32m    788\u001b[0m                 \u001b[0mioargs\u001b[0m\u001b[1;33m.\u001b[0m\u001b[0mmode\u001b[0m\u001b[1;33m,\u001b[0m\u001b[1;33m\u001b[0m\u001b[1;33m\u001b[0m\u001b[0m\n",
      "\u001b[1;31mFileNotFoundError\u001b[0m: [Errno 2] No such file or directory: 'auto_mpg.csv'"
     ]
    }
   ],
   "source": [
    "import pandas as pd\n",
    "df = pd.read_csv('auto_mpg.csv')\n",
    "df\n"
   ]
  },
  {
   "cell_type": "code",
   "execution_count": 33,
   "id": "b45c72e2",
   "metadata": {},
   "outputs": [
    {
     "ename": "NameError",
     "evalue": "name 'df' is not defined",
     "output_type": "error",
     "traceback": [
      "\u001b[1;31m---------------------------------------------------------------------------\u001b[0m",
      "\u001b[1;31mNameError\u001b[0m                                 Traceback (most recent call last)",
      "\u001b[1;32m~\\AppData\\Local\\Temp\\ipykernel_14140\\408186325.py\u001b[0m in \u001b[0;36m<module>\u001b[1;34m\u001b[0m\n\u001b[1;32m----> 1\u001b[1;33m \u001b[0mdf\u001b[0m\u001b[1;33m.\u001b[0m\u001b[0minfo\u001b[0m\u001b[1;33m(\u001b[0m\u001b[1;33m)\u001b[0m\u001b[1;33m\u001b[0m\u001b[1;33m\u001b[0m\u001b[0m\n\u001b[0m\u001b[0;32m      2\u001b[0m \u001b[1;33m\u001b[0m\u001b[0m\n\u001b[0;32m      3\u001b[0m \u001b[0mdf\u001b[0m\u001b[1;33m.\u001b[0m\u001b[0mdropna\u001b[0m\u001b[1;33m(\u001b[0m\u001b[0minplace\u001b[0m \u001b[1;33m=\u001b[0m \u001b[1;32mTrue\u001b[0m\u001b[1;33m)\u001b[0m\u001b[1;33m\u001b[0m\u001b[1;33m\u001b[0m\u001b[0m\n\u001b[0;32m      4\u001b[0m \u001b[0mdf\u001b[0m\u001b[1;33m.\u001b[0m\u001b[0minfo\u001b[0m\u001b[1;33m(\u001b[0m\u001b[1;33m)\u001b[0m\u001b[1;33m\u001b[0m\u001b[1;33m\u001b[0m\u001b[0m\n\u001b[0;32m      5\u001b[0m \u001b[1;33m\u001b[0m\u001b[0m\n",
      "\u001b[1;31mNameError\u001b[0m: name 'df' is not defined"
     ]
    }
   ],
   "source": [
    "df.info()\n",
    "\n",
    "df.dropna(inplace = True)\n",
    "df.info()\n",
    "\n",
    "#Creating matrix of predictors\n",
    "X = df.iloc[:, 1:8]\n",
    "#Creating target\n",
    "y = df.iloc[:, 0]\n",
    "X = pd.get_dummies(X)\n",
    "X\n",
    "from sklearn.model_selection import train_test_split\n",
    "X_train, X_test, y_train, y_test = train_test_split(X, y, test_size = 0.2, random_state = 0)\n",
    "#Applying standard scaler on the data\n",
    "from sklearn.preprocessing import StandardScaler\n",
    "scale = StandardScaler()\n",
    "scale.fit_transform(X_train)\n",
    "scale.transform(X_test);\n",
    "#Importing and fitting the model on training set\n",
    "from sklearn.linear_model import LinearRegression\n",
    "reg = LinearRegression()\n",
    "#Fitting the model on training data :\n",
    "reg.fit(X_train, y_train)\n",
    "#Checking the coefficient(slope) and intercept. \n",
    "#'m' represents the coefficient and 'c' represents the intercept.\n",
    "m = reg.coef_\n",
    "c = reg.intercept_\n",
    "m,c\n",
    "#Predicting the target: mpg against the predictors in the training data set\n",
    "#Predicted data stored in y_pred_train\n",
    "y_pred_train = reg.predict(X_train)\n",
    "#Predicting the target: mpg against the predictors in the testing data set\n",
    "#Predicted data stored in y_pred_test\n",
    "y_pred_test = reg.predict(X_test)\n",
    "# Prediction Accuracy in terms of how close is the predicted value of target: mpg\n",
    "# to the real value in training data set\n",
    "from sklearn.metrics import r2_score\n",
    "r2_S = r2_score(y_train, y_pred_train)\n",
    "r2_S\n",
    "# Prediction Accuracy in terms of how close the predicted value of target: mpg\n",
    "# to the real value in testing data set\n",
    "from sklearn.metrics import r2_score\n",
    "r2_S = r2_score(y_test, y_pred_test)\n",
    "r2_S\n"
   ]
  },
  {
   "cell_type": "markdown",
   "id": "ca33a97c",
   "metadata": {},
   "source": [
    "Association analysis or Association rule learning is a method for discovering interesting associations between variables in datasets. Association analysis deals with finding the degree and direction of the relationship between two variables."
   ]
  }
 ],
 "metadata": {
  "kernelspec": {
   "display_name": "Python 3 (ipykernel)",
   "language": "python",
   "name": "python3"
  },
  "language_info": {
   "codemirror_mode": {
    "name": "ipython",
    "version": 3
   },
   "file_extension": ".py",
   "mimetype": "text/x-python",
   "name": "python",
   "nbconvert_exporter": "python",
   "pygments_lexer": "ipython3",
   "version": "3.9.13"
  }
 },
 "nbformat": 4,
 "nbformat_minor": 5
}
