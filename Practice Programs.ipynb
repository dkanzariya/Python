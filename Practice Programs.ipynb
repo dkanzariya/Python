{
 "cells": [
  {
   "cell_type": "code",
   "execution_count": 1,
   "id": "1fc7061f",
   "metadata": {},
   "outputs": [
    {
     "name": "stdout",
     "output_type": "stream",
     "text": [
      "Defect numbers linked.  Nexus Location: /nexus/content/repositories/pega/be/telenet/adt/R1_1/  ADT_S2318_PEGAADTTM1225_Sep18-1.1.2421/  ADT_S2316_PEGAADTTM_893_Aug08-1.1.2205/  ADT_R2307_PEGAADTTM1314_BUG_Sep15-1.1.2420/\n",
      "\n",
      "\n",
      "'Defect', 'numbers', 'linked.', '', 'Nexus', 'Location: /nexus/content/repositories/pega/be/telenet/adt/R1_1/', '', 'ADT_S2318_PEGAADTTM1225_Sep18-1.1.2421/', '', 'ADT_S2316_PEGAADTTM_893_Aug08-1.1.2205/', '', 'ADT_R2307_PEGAADTTM1314_BUG_Sep15-1.1.2420/'\n"
     ]
    }
   ],
   "source": [
    "x=input()\n",
    "j=x.split(\" \")\n",
    "for i in range(len(j)):\n",
    "    j[i]=\"'\"+j[i]+\"'\"\n",
    "    \n",
    "print('\\n')\n",
    "print(\", \".join(j))"
   ]
  },
  {
   "cell_type": "code",
   "execution_count": 5,
   "id": "6bdda858",
   "metadata": {},
   "outputs": [
    {
     "name": "stdout",
     "output_type": "stream",
     "text": [
      "ADT_S2319_PEGAPLTFTM_Sept28-1.1.2480/  ADT_S2319_PEGAPLTFTM_Sept29-1.1.2489/  ADT_1SS_Sprint2319_part1-1.1.2462/  ADT_S2316_PEGAADTTM_893_Aug08-1.1.2502/  ADT_S2319_PEGAPLTFTM1629_Sep29-1.1.2491/  ADT_S2319_PEGAPLTFTM1713_Sep29-1.1.2497/\n",
      "\n",
      "\n",
      "1.1.2480, 1.1.2489, 1.1.2462, 1.1.2502, 1.1.2491, 1.1.2497\n"
     ]
    }
   ],
   "source": [
    "import re\n",
    "\n",
    "def get_versions(input_string):\n",
    "  versions = []\n",
    "  for match in re.finditer(r\"-\\d+\\.\\d+\\.\\d+\", input_string):\n",
    "    versions.append(match.group(0)[1:])\n",
    "  return versions\n",
    "\n",
    "if __name__ == \"__main__\":\n",
    "    input_string = input()\n",
    "    versions = get_versions(input_string)\n",
    "    \n",
    "    print('\\n')\n",
    "    print(\", \".join(versions[:]))\n",
    "    #print(versions)"
   ]
  },
  {
   "cell_type": "code",
   "execution_count": 2,
   "id": "92f425bd",
   "metadata": {},
   "outputs": [
    {
     "name": "stdout",
     "output_type": "stream",
     "text": [
      "ADT_S2313_AGCorrection_JUN22-1.1.1880  ADT_S2312_PEGAADTTM_426-1.1.1814/  ADT_234_DupTask_Jun23-1.1.1889/ \n",
      "\n",
      "adt/R1_1/ADT_S2313_AGCorrection_JUN22-1.1.1880/\n",
      "adt/R1_1//\n",
      "adt/R1_1/ADT_S2312_PEGAADTTM_426-1.1.1814//\n",
      "adt/R1_1//\n",
      "adt/R1_1/ADT_234_DupTask_Jun23-1.1.1889//\n",
      "adt/R1_1//\n",
      "\n",
      "1.1.1880,"
     ]
    },
    {
     "ename": "AttributeError",
     "evalue": "'NoneType' object has no attribute 'group'",
     "output_type": "error",
     "traceback": [
      "\u001b[1;31m---------------------------------------------------------------------------\u001b[0m",
      "\u001b[1;31mAttributeError\u001b[0m                            Traceback (most recent call last)",
      "\u001b[1;32m~\\AppData\\Local\\Temp\\ipykernel_23376\\1997892608.py\u001b[0m in \u001b[0;36m<module>\u001b[1;34m\u001b[0m\n\u001b[0;32m     18\u001b[0m \u001b[1;33m\u001b[0m\u001b[0m\n\u001b[0;32m     19\u001b[0m \u001b[1;32mfor\u001b[0m \u001b[0mi\u001b[0m \u001b[1;32min\u001b[0m \u001b[0mrange\u001b[0m\u001b[1;33m(\u001b[0m\u001b[0mlen\u001b[0m\u001b[1;33m(\u001b[0m\u001b[0mj\u001b[0m\u001b[1;33m)\u001b[0m\u001b[1;33m)\u001b[0m\u001b[1;33m:\u001b[0m\u001b[1;33m\u001b[0m\u001b[1;33m\u001b[0m\u001b[0m\n\u001b[1;32m---> 20\u001b[1;33m     \u001b[0mversion_number\u001b[0m \u001b[1;33m=\u001b[0m \u001b[0mre\u001b[0m\u001b[1;33m.\u001b[0m\u001b[0msearch\u001b[0m\u001b[1;33m(\u001b[0m\u001b[0mpattern\u001b[0m\u001b[1;33m,\u001b[0m\u001b[0mj\u001b[0m\u001b[1;33m[\u001b[0m\u001b[0mi\u001b[0m\u001b[1;33m]\u001b[0m\u001b[1;33m.\u001b[0m\u001b[0mstrip\u001b[0m\u001b[1;33m(\u001b[0m\u001b[1;33m)\u001b[0m\u001b[1;33m)\u001b[0m\u001b[1;33m.\u001b[0m\u001b[0mgroup\u001b[0m\u001b[1;33m(\u001b[0m\u001b[1;36m0\u001b[0m\u001b[1;33m)\u001b[0m\u001b[1;33m\u001b[0m\u001b[1;33m\u001b[0m\u001b[0m\n\u001b[0m\u001b[0;32m     21\u001b[0m     \u001b[1;32mif\u001b[0m \u001b[1;33m(\u001b[0m\u001b[0mi\u001b[0m \u001b[1;33m==\u001b[0m \u001b[0mlen\u001b[0m\u001b[1;33m(\u001b[0m\u001b[0mj\u001b[0m\u001b[1;33m)\u001b[0m \u001b[1;33m-\u001b[0m \u001b[1;36m1\u001b[0m\u001b[1;33m)\u001b[0m\u001b[1;33m:\u001b[0m\u001b[1;33m\u001b[0m\u001b[1;33m\u001b[0m\u001b[0m\n\u001b[0;32m     22\u001b[0m         \u001b[0mprint\u001b[0m\u001b[1;33m(\u001b[0m\u001b[0mversion_number\u001b[0m\u001b[1;33m,\u001b[0m \u001b[0mend\u001b[0m \u001b[1;33m=\u001b[0m \u001b[1;34m\"\"\u001b[0m\u001b[1;33m)\u001b[0m\u001b[1;33m\u001b[0m\u001b[1;33m\u001b[0m\u001b[0m\n",
      "\u001b[1;31mAttributeError\u001b[0m: 'NoneType' object has no attribute 'group'"
     ]
    }
   ],
   "source": [
    "x=input()\n",
    "j=x.split(\" \")\n",
    "for i in range(len(j)):\n",
    "    j[i]=\"adt/R1_1/\"+j[i]+\"/\"\n",
    "    \n",
    "# print(j)\n",
    "product = \"\\n\".join(j) \n",
    "print(\"\\n\" + product, end = \"\")\n",
    "\n",
    "import re\n",
    "\n",
    "# Find the regex pattern for the version number\n",
    "pattern = re.compile(r\"\\d+\\.\\d+\\.\\d+\")\n",
    "\n",
    "version_number = []\n",
    "# print(j)\n",
    "print(\"\\n\")\n",
    "\n",
    "for i in range(len(j)):\n",
    "    version_number = re.search(pattern,j[i].strip()).group(0)\n",
    "    if (i == len(j) - 1):\n",
    "        print(version_number, end = \"\")\n",
    "        break\n",
    "    print(version_number + \"\", end = \",\")"
   ]
  },
  {
   "cell_type": "code",
   "execution_count": 1,
   "id": "00f60f8a",
   "metadata": {},
   "outputs": [
    {
     "name": "stdout",
     "output_type": "stream",
     "text": [
      " ADT_2313_Jun22_Fixes-1.1.1878 ADT_S2313_AGCorrection_JUN22-1.1.1880  ADT_S2312_PEGAADTTM_426-1.1.1814/  ADT_234_DupTask_Jun23-1.1.1889/  ADT_R2306_PEGAADTTM647_BUG_Jun23-1.1.1887/\n",
      "\n",
      "\n",
      "1.1.1878, 1.1.1887, 1.1.1889\n"
     ]
    }
   ],
   "source": [
    "import re\n",
    "\n",
    "# Get the string\n",
    "string = input()\n",
    "\n",
    "# Split the string into a list of paths\n",
    "paths = string.split(\"/\")\n",
    "\n",
    "# Extract the version number from each path\n",
    "version_numbers = []\n",
    "for path in paths:\n",
    "    # Find the regex pattern for the version number\n",
    "    pattern = re.compile(r\"\\d+\\.\\d+\\.\\d+\")\n",
    "\n",
    "    match = re.search(pattern, path)\n",
    "    version_number = \"\"\n",
    "    if match:\n",
    "        version_number = match.group(0)\n",
    "        version_numbers.append(version_number)\n",
    "    # Add the version number to the list\n",
    "    version_numbers.append(version_number)\n",
    "\n",
    "# Print the version numbers\n",
    "version_numbers = [*set(version_numbers)]\n",
    "# print(version_numbers)\n",
    "print('\\n')\n",
    "version_numbers.sort()\n",
    "print(\", \".join(version_numbers[1:]))"
   ]
  },
  {
   "cell_type": "code",
   "execution_count": 2,
   "id": "fe4cac55",
   "metadata": {},
   "outputs": [
    {
     "name": "stdout",
     "output_type": "stream",
     "text": [
      "ADT_PEGAPLTFTM4_May18-1.1.1713 ADT_Artemis-1.1.1714 ADT_R231_INC_38832_L3-1.1.1715 ADT_S2309_TLN_BAU_MasterProduct_May19-1.1.1716 ADT_S2309_TLN_L3_MasterProduct_May18-1.1.1717\n",
      "\n",
      "\n",
      "-1.1.1672,-1.1.1716,-1.1.1717,-1.1.1704,-1.1.1711,-1.1.1702,-1.1.1668,-1.1.1706"
     ]
    }
   ],
   "source": [
    "x=input()\n",
    "import re\n",
    "\n",
    "# Find the regex pattern for the version number\n",
    "pattern = re.compile(r\"-\\d+\\.\\d+\\.\\d+\")\n",
    "\n",
    "version_number = []\n",
    "# print(j)\n",
    "print(\"\\n\")\n",
    "\n",
    "for i in range(len(j)):\n",
    "    version_number = re.search(pattern, j[i]).group(0)\n",
    "    if (i == len(j) - 1):\n",
    "        print(version_number, end = \"\")\n",
    "        break\n",
    "    print(version_number + \"\", end = \",\")"
   ]
  },
  {
   "cell_type": "code",
   "execution_count": 13,
   "id": "837704a5",
   "metadata": {},
   "outputs": [
    {
     "name": "stdout",
     "output_type": "stream",
     "text": [
      "ADT_S2312_PEGAPLTFTM_JUN23-1.1.1882 ADT_S2313_PEGAADTTM561_JUN23-1.1.1883 ADT_S2312_PEGAPLTFTM_JUN23retro-1.1.1884 ADT_S2313_PEGAADTTM660_Jun23-1.1.1885  ADT_PEGAADTTM628_658-1.1.1886 ADT_R2306_PEGAADTTM647_BUG_Jun23-1.1.1887 ADT_S2313_PEGAADTTM582_JUN23-1.1.1888  adt/R1_1/ADT_234_DupTask_Jun23-1.1.1889/  adt/R1_1/ADT_S2312_PEGAPLTFTM_JUN23-1.1.1890/\n",
      "\n",
      "\n",
      "1.1.1882, 1.1.1883, 1.1.1884, 1.1.1885, 1.1.1886, 1.1.1887, 1.1.1888, 1.1.1889, 1.1.1890\n"
     ]
    }
   ],
   "source": [
    "import re\n",
    "\n",
    "def get_versions(input_string):\n",
    "  versions = []\n",
    "  for match in re.finditer(r\"-\\d+\\.\\d+\\.\\d+\", input_string):\n",
    "    versions.append(match.group(0)[1:])\n",
    "  return versions\n",
    "\n",
    "if __name__ == \"__main__\":\n",
    "    input_string = input()\n",
    "    versions = get_versions(input_string)\n",
    "    \n",
    "    print('\\n')\n",
    "    print(\", \".join(versions[:]))\n",
    "    #print(versions)"
   ]
  },
  {
   "cell_type": "code",
   "execution_count": 4,
   "id": "d83b5abc",
   "metadata": {},
   "outputs": [
    {
     "name": "stdout",
     "output_type": "stream",
     "text": [
      "EXTERNALTICKETNUMBER PXAPPLICATION PXAPPLICATIONVERSION PARENTCHILDFLAG PXCOVERINSKEY PXOBJCLASS PXOBJCLASS PYSTATUSWORK PYSTATUSWORK PZINSKEY PXAPPLICATION\n",
      "[\"'EXTERNALTICKETNUMBER'\", \"'PXAPPLICATION'\", \"'PXAPPLICATIONVERSION'\", \"'PARENTCHILDFLAG'\", \"'PXCOVERINSKEY'\", \"'PXOBJCLASS'\", \"'PXOBJCLASS'\", \"'PYSTATUSWORK'\", \"'PYSTATUSWORK'\", \"'PZINSKEY'\", \"'PXAPPLICATION'\"]\n",
      "'EXTERNALTICKETNUMBER', 'PXAPPLICATION', 'PXAPPLICATIONVERSION', 'PARENTCHILDFLAG', 'PXCOVERINSKEY', 'PXOBJCLASS', 'PXOBJCLASS', 'PYSTATUSWORK', 'PYSTATUSWORK', 'PZINSKEY', 'PXAPPLICATION'\n"
     ]
    }
   ],
   "source": [
    "x=input()\n",
    "j=x.split(\" \")\n",
    "for i in range(len(j)):\n",
    "    j[i]=\"'\"+j[i]+\"'\"\n",
    "    \n",
    "print(j)\n",
    "print(\", \".join(j))"
   ]
  },
  {
   "cell_type": "code",
   "execution_count": 2,
   "id": "063ec0f8",
   "metadata": {},
   "outputs": [
    {
     "name": "stdout",
     "output_type": "stream",
     "text": [
      "10.23.43.654\n",
      "['10', '23', '43', '654']\n"
     ]
    }
   ],
   "source": [
    "Inp = input()\n",
    "\n",
    "j = Inp.split(\".\")\n",
    "\n",
    "for "
   ]
  },
  {
   "cell_type": "code",
   "execution_count": 1,
   "id": "dcce4358",
   "metadata": {},
   "outputs": [
    {
     "ename": "SyntaxError",
     "evalue": "invalid syntax (2285686736.py, line 1)",
     "output_type": "error",
     "traceback": [
      "\u001b[1;36m  File \u001b[1;32m\"C:\\Users\\dharmesh.kanzariya\\AppData\\Local\\Temp\\ipykernel_32972\\2285686736.py\"\u001b[1;36m, line \u001b[1;32m1\u001b[0m\n\u001b[1;33m    10.23.43.654\u001b[0m\n\u001b[1;37m         ^\u001b[0m\n\u001b[1;31mSyntaxError\u001b[0m\u001b[1;31m:\u001b[0m invalid syntax\n"
     ]
    }
   ],
   "source": [
    "10.23.43.654"
   ]
  },
  {
   "cell_type": "code",
   "execution_count": 12,
   "id": "9bfe97ce",
   "metadata": {},
   "outputs": [
    {
     "name": "stdout",
     "output_type": "stream",
     "text": [
      "adt/R1_1/ADT_PEGAADTTM-304-1.1.1710\n",
      "adt/R1_1/ADT_S2312_PEGAADTTM614_June21-1.1.1873\n",
      "adt/R1_1/ADT_S2313_PEGAADTTM559_JUN21-1.1.1875\n",
      "adt/R1_1/ADT_PEGACSIMTM-262_Fix-1.1.1867\n",
      "1.1.1710,1.1.1873,1.1.1875,1.1.1867,"
     ]
    }
   ],
   "source": [
    "import re\n",
    "\n",
    "def main():\n",
    "  input_string = \"ADT_PEGAADTTM-304-1.1.1710 ADT_S2312_PEGAADTTM614_June21-1.1.1873 ADT_S2313_PEGAADTTM559_JUN21-1.1.1875 ADT_PEGACSIMTM-262_Fix-1.1.1867\"\n",
    "\n",
    "  # Split the input string into a list of strings\n",
    "  product_list = input_string.split(\" \")\n",
    "\n",
    "  # Add the prefix \"adt/R1_1/\" to each product string\n",
    "  for i in range(len(product_list)):\n",
    "    product_list[i] = \"adt/R1_1/\" + product_list[i]\n",
    "\n",
    "  # Join the product strings into a single string\n",
    "  product_string = \"\\n\".join(product_list)\n",
    "\n",
    "  # Print the product string\n",
    "  print(product_string)\n",
    "\n",
    "  # Find the regex pattern for the version number\n",
    "  pattern = re.compile(r\"\\d+\\.\\d+\\.\\d+\")\n",
    "\n",
    "  # Iterate over the product list and extract the version number\n",
    "  for product in product_list:\n",
    "    version_number = re.search(pattern, product.strip()).group(0)\n",
    "    print(version_number, end=\",\")\n",
    "\n",
    "if __name__ == \"__main__\":\n",
    "  main()"
   ]
  },
  {
   "cell_type": "code",
   "execution_count": 43,
   "id": "d49d29a9",
   "metadata": {},
   "outputs": [
    {
     "name": "stdout",
     "output_type": "stream",
     "text": [
      "1.1.1677,1.1.1678,1.1.1679,1.1.1680,1.1.1681,1.1.1682,1.1.1683,1.1.1684,1.1.1685,1.1.1686,1.1.1687\n"
     ]
    }
   ],
   "source": []
  },
  {
   "cell_type": "code",
   "execution_count": 18,
   "id": "c028521c",
   "metadata": {},
   "outputs": [
    {
     "data": {
      "text/plain": [
       "['1.1.1']"
      ]
     },
     "execution_count": 18,
     "metadata": {},
     "output_type": "execute_result"
    }
   ],
   "source": []
  },
  {
   "cell_type": "code",
   "execution_count": 39,
   "id": "fe2b100a",
   "metadata": {},
   "outputs": [
    {
     "name": "stdout",
     "output_type": "stream",
     "text": [
      "1.1.1683,1.1.1684,1.1.1685,1.1.1686,1.1.1687\n"
     ]
    }
   ],
   "source": []
  },
  {
   "cell_type": "code",
   "execution_count": null,
   "id": "5ae77618",
   "metadata": {},
   "outputs": [],
   "source": [
    "import re\n",
    "re.findall(\"\\d+\\.\\d+\\.\\d\", \"adt/R1_1/ADT_S2309_TLN_L3_May12-1.1.1685/\")\n",
    "\n",
    "# Get the string\n",
    "string = \"adt/R1_1/ADT_S2309_TLN_L3_May12-1.1.1685/\"\n",
    "\n",
    "res = [float(i) for i in Product.split(\"\\n\") if i.isdigit()]\n",
    " \n",
    "# print result\n",
    "print(\"The numbers list is : \" + str(res))"
   ]
  },
  {
   "cell_type": "code",
   "execution_count": 1,
   "id": "a2c83525",
   "metadata": {},
   "outputs": [
    {
     "name": "stdout",
     "output_type": "stream",
     "text": [
      "Map example\n",
      "[20, 40, 60, 80, 100]\n",
      "Filter Example\n",
      "[40, 50]\n",
      "Chain Example\n",
      "[40, 60, 80, 100]\n"
     ]
    }
   ],
   "source": [
    "num_list=[10,20,30,40,50]\n",
    "print(\"Map example\")\n",
    "print(list(map(lambda x:x*2,num_list)))\n",
    "print(\"Filter Example\")\n",
    "print(list(filter(lambda x:x>30,num_list)));\n",
    "print(\"Chain Example\")\n",
    "print(list(filter(lambda x:x>30,map(lambda x:x*2,num_list))));\n"
   ]
  },
  {
   "cell_type": "code",
   "execution_count": null,
   "id": "3cc3411a",
   "metadata": {},
   "outputs": [],
   "source": []
  }
 ],
 "metadata": {
  "kernelspec": {
   "display_name": "Python 3 (ipykernel)",
   "language": "python",
   "name": "python3"
  },
  "language_info": {
   "codemirror_mode": {
    "name": "ipython",
    "version": 3
   },
   "file_extension": ".py",
   "mimetype": "text/x-python",
   "name": "python",
   "nbconvert_exporter": "python",
   "pygments_lexer": "ipython3",
   "version": "3.9.13"
  }
 },
 "nbformat": 4,
 "nbformat_minor": 5
}
