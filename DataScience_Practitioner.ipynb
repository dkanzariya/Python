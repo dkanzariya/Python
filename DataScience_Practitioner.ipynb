{
 "cells": [
  {
   "cell_type": "code",
   "execution_count": 36,
   "id": "75030e28",
   "metadata": {},
   "outputs": [],
   "source": [
    "import numpy as np\n",
    "import pandas as pd\n",
    "import math\n",
    "from scipy import stats\n",
    "import collections\n",
    "from sklearn.model_selection import train_test_split\n",
    "from sklearn.preprocessing import LabelEncoder\n",
    "from sklearn.preprocessing import MinMaxScaler\n",
    "from sklearn.ensemble import RandomForestClassifier\n",
    "import warnings\n",
    "warnings.filterwarnings (\"ignore\")"
   ]
  },
  {
   "cell_type": "code",
   "execution_count": 37,
   "id": "90a98c83",
   "metadata": {},
   "outputs": [],
   "source": [
    "filepath = 'C:/Users/dharmesh.kanzariya/Downloads/adult_csv.csv'\n",
    "\n",
    "def loadData(filepath):\n",
    "    \n",
    "    adult_df = pd.read_csv(filepath)\n",
    "    print(adult_df.shape)\n",
    "    \n",
    "    return adult_df\n"
   ]
  },
  {
   "cell_type": "code",
   "execution_count": 38,
   "id": "b310b797",
   "metadata": {},
   "outputs": [
    {
     "name": "stdout",
     "output_type": "stream",
     "text": [
      "(48842, 15)\n"
     ]
    }
   ],
   "source": [
    "try:\n",
    "    adult_df = loadData(filepath)\n",
    "    #print(adult_df)\n",
    "except:\n",
    "    print(\"Error\")"
   ]
  },
  {
   "cell_type": "code",
   "execution_count": 39,
   "id": "6c774509",
   "metadata": {},
   "outputs": [],
   "source": [
    "def dropCol (adult_df):\n",
    "    \n",
    "    adult_df.drop(['education', 'fnlwgt'], axis=1, inplace=True)\n",
    "    print (adult_df.shape)\n",
    "    print(adult_df)\n",
    "\n",
    "    return adult_df"
   ]
  },
  {
   "cell_type": "code",
   "execution_count": 40,
   "id": "bc65f578",
   "metadata": {},
   "outputs": [
    {
     "name": "stdout",
     "output_type": "stream",
     "text": [
      "(48842, 13)\n",
      "       age         workclass  education-num      marital-status  \\\n",
      "0        2         State-gov             13       Never-married   \n",
      "1        3  Self-emp-not-inc             13  Married-civ-spouse   \n",
      "2        2           Private              9            Divorced   \n",
      "3        3           Private              7  Married-civ-spouse   \n",
      "4        1           Private             13  Married-civ-spouse   \n",
      "...    ...               ...            ...                 ...   \n",
      "48837    2           Private             13            Divorced   \n",
      "48838    4               NaN              9             Widowed   \n",
      "48839    2           Private             13  Married-civ-spouse   \n",
      "48840    2           Private             13            Divorced   \n",
      "48841    1      Self-emp-inc             13  Married-civ-spouse   \n",
      "\n",
      "              occupation    relationship                race     sex  \\\n",
      "0           Adm-clerical   Not-in-family               White    Male   \n",
      "1        Exec-managerial         Husband               White    Male   \n",
      "2      Handlers-cleaners   Not-in-family               White    Male   \n",
      "3      Handlers-cleaners         Husband               Black    Male   \n",
      "4         Prof-specialty            Wife               Black  Female   \n",
      "...                  ...             ...                 ...     ...   \n",
      "48837     Prof-specialty   Not-in-family               White  Female   \n",
      "48838                NaN  Other-relative               Black    Male   \n",
      "48839     Prof-specialty         Husband               White    Male   \n",
      "48840       Adm-clerical       Own-child  Asian-Pac-Islander    Male   \n",
      "48841    Exec-managerial         Husband               White    Male   \n",
      "\n",
      "       capitalgain  capitalloss  hoursperweek native-country  class  \n",
      "0                1            0             2  United-States  <=50K  \n",
      "1                0            0             0  United-States  <=50K  \n",
      "2                0            0             2  United-States  <=50K  \n",
      "3                0            0             2  United-States  <=50K  \n",
      "4                0            0             2           Cuba  <=50K  \n",
      "...            ...          ...           ...            ...    ...  \n",
      "48837            0            0             2  United-States  <=50K  \n",
      "48838            0            0             2  United-States  <=50K  \n",
      "48839            0            0             3  United-States  <=50K  \n",
      "48840            2            0             2  United-States  <=50K  \n",
      "48841            0            0             3  United-States   >50K  \n",
      "\n",
      "[48842 rows x 13 columns]\n"
     ]
    }
   ],
   "source": [
    "try:\n",
    "    adult_df = dropCol(adult_df)\n",
    "except:\n",
    "\n",
    "    print(\"Error\")\n",
    "    print(adult_df.shape)"
   ]
  },
  {
   "cell_type": "code",
   "execution_count": 43,
   "id": "52ae83ec",
   "metadata": {},
   "outputs": [],
   "source": [
    "def treatNull(adult_df):\n",
    "    \n",
    "    null_counts = adult_df.isnull().sum()\n",
    "    print(null_counts)\n",
    "    \n",
    "    unknown_count = (adult_df == '?').sum()\n",
    "    print(unknown_count)\n",
    "    \n",
    "    adult_df = adult_df.replace('?', pd.NA)\n",
    "    adult_df.fillna(adult_df.mode().iloc[0], inplace = True) \n",
    "    print(adult_df.info())\n",
    "    \n",
    "    return adult_df\n"
   ]
  },
  {
   "cell_type": "code",
   "execution_count": 44,
   "id": "59d4af21",
   "metadata": {},
   "outputs": [
    {
     "name": "stdout",
     "output_type": "stream",
     "text": [
      "age                  0\n",
      "workclass         2799\n",
      "education-num        0\n",
      "marital-status       0\n",
      "occupation        2809\n",
      "relationship         0\n",
      "race                 0\n",
      "sex                  0\n",
      "capitalgain          0\n",
      "capitalloss          0\n",
      "hoursperweek         0\n",
      "native-country     857\n",
      "class                0\n",
      "dtype: int64\n",
      "age               0\n",
      "workclass         0\n",
      "education-num     0\n",
      "marital-status    0\n",
      "occupation        0\n",
      "relationship      0\n",
      "race              0\n",
      "sex               0\n",
      "capitalgain       0\n",
      "capitalloss       0\n",
      "hoursperweek      0\n",
      "native-country    0\n",
      "class             0\n",
      "dtype: int64\n",
      "<class 'pandas.core.frame.DataFrame'>\n",
      "RangeIndex: 48842 entries, 0 to 48841\n",
      "Data columns (total 13 columns):\n",
      " #   Column          Non-Null Count  Dtype \n",
      "---  ------          --------------  ----- \n",
      " 0   age             48842 non-null  int64 \n",
      " 1   workclass       48842 non-null  object\n",
      " 2   education-num   48842 non-null  int64 \n",
      " 3   marital-status  48842 non-null  object\n",
      " 4   occupation      48842 non-null  object\n",
      " 5   relationship    48842 non-null  object\n",
      " 6   race            48842 non-null  object\n",
      " 7   sex             48842 non-null  object\n",
      " 8   capitalgain     48842 non-null  int64 \n",
      " 9   capitalloss     48842 non-null  int64 \n",
      " 10  hoursperweek    48842 non-null  int64 \n",
      " 11  native-country  48842 non-null  object\n",
      " 12  class           48842 non-null  object\n",
      "dtypes: int64(5), object(8)\n",
      "memory usage: 4.8+ MB\n",
      "None\n"
     ]
    }
   ],
   "source": [
    "try:\n",
    "    adult_df = treatNull(adult_df)\n",
    "    adult_df.head()\n",
    "except:\n",
    "    print(adult_df.shape)\n",
    "    print(\"Error\")\n",
    "    "
   ]
  },
  {
   "cell_type": "code",
   "execution_count": 46,
   "id": "a9298056",
   "metadata": {},
   "outputs": [],
   "source": [
    "def replaceTarget (adult_df):\n",
    "    \n",
    "    #Remove pass and write your logic here\n",
    "    \n",
    "    adult_df.head()\n",
    "    adult_df['class'] = adult_df['class'].replace(['<=50K'], 0) \n",
    "    adult_df['class'] = adult_df['class'].replace(['>50K'], 1) \n",
    "    adult_df['class'] = adult_df['class'].astype('category')\n",
    "    \n",
    "    return adult_df\n"
   ]
  },
  {
   "cell_type": "code",
   "execution_count": 47,
   "id": "1720b068",
   "metadata": {},
   "outputs": [
    {
     "name": "stdout",
     "output_type": "stream",
     "text": [
      "0        0\n",
      "1        0\n",
      "2        0\n",
      "3        0\n",
      "4        0\n",
      "        ..\n",
      "48837    0\n",
      "48838    0\n",
      "48839    0\n",
      "48840    0\n",
      "48841    1\n",
      "Name: class, Length: 48842, dtype: category\n",
      "Categories (2, int64): [0, 1]\n"
     ]
    }
   ],
   "source": [
    "try:\n",
    "  adult_df = replaceTarget(adult_df) \n",
    "  print (adult_df['class'])\n",
    "except:\n",
    "  print(\"Error\")\n",
    "  print(adult_df)"
   ]
  },
  {
   "cell_type": "code",
   "execution_count": 53,
   "id": "8893307d",
   "metadata": {},
   "outputs": [],
   "source": [
    "def scaleDf (adult_df):\n",
    "    \n",
    "    #Remove pass and write your logic here\n",
    "    #     scaled_df = adult_df.select_dtypes (include=np.number) \n",
    "#     scaled_column = adult_df.select_dtypes(include=['int64', 'float64'])\n",
    "    scaled_column = adult_df.select_dtypes(include=[np.number]).columns\n",
    "    print(scaled_column)\n",
    "    # col = adult_df.select_dtypes (include = np.number).columns.tolist()\n",
    "    mms = MinMaxScaler()\n",
    "    scaled_value = mms.fit_transform(adult_df[scaled_column]) \n",
    "    scaled_df = pd.DataFrame(scaled_value, columns = scaled_column)\n",
    "    print(scaled_df)\n",
    "    return scaled_df\n"
   ]
  },
  {
   "cell_type": "code",
   "execution_count": 54,
   "id": "3689c08e",
   "metadata": {},
   "outputs": [
    {
     "name": "stdout",
     "output_type": "stream",
     "text": [
      "Index(['age', 'education-num', 'capitalgain', 'capitalloss', 'hoursperweek'], dtype='object')\n",
      "        age  education-num  capitalgain  capitalloss  hoursperweek\n",
      "0      0.50       0.800000         0.25          0.0          0.50\n",
      "1      0.75       0.800000         0.00          0.0          0.00\n",
      "2      0.50       0.533333         0.00          0.0          0.50\n",
      "3      0.75       0.400000         0.00          0.0          0.50\n",
      "4      0.25       0.800000         0.00          0.0          0.50\n",
      "...     ...            ...          ...          ...           ...\n",
      "48837  0.50       0.800000         0.00          0.0          0.50\n",
      "48838  1.00       0.533333         0.00          0.0          0.50\n",
      "48839  0.50       0.800000         0.00          0.0          0.75\n",
      "48840  0.50       0.800000         0.50          0.0          0.50\n",
      "48841  0.25       0.800000         0.00          0.0          0.75\n",
      "\n",
      "[48842 rows x 5 columns]\n"
     ]
    }
   ],
   "source": [
    "try:\n",
    "    scaled_df = scaleDf(adult_df)\n",
    "except:\n",
    "    print(\"Error\")\n",
    "    print(scaled_df)"
   ]
  },
  {
   "cell_type": "code",
   "execution_count": 57,
   "id": "8b1fe9ae",
   "metadata": {},
   "outputs": [],
   "source": [
    "def encodeDf (adult_df):\n",
    "  # Remove pass and write your logic here\n",
    "#     column_list = adult_df.columns.difference(['income'])\n",
    "\n",
    "  # adult df adult df.:oc\n",
    "\n",
    "  # col cat\n",
    "  # adult df.columns.values.tolist()\n",
    "\n",
    "\n",
    "  # print(col cat)\n",
    "  # col cat col cat.remove(\"income\")\n",
    "  #print (encoded df.shape)\n",
    "  #print(column List)\n",
    "    categotical_columns = adult_df.select_dtypes(include=['category', 'object']).drop(columns='income').columns\n",
    "    one_hot_encoded_data = pd.get_dummies (adult_df, columns = categotical_columns) \n",
    "#   print (encoded_df.shape)\n",
    "    print (one_hot_encoded_data.shape)\n",
    "    return one_hot_encoded_data"
   ]
  },
  {
   "cell_type": "code",
   "execution_count": 56,
   "id": "b5c70477",
   "metadata": {},
   "outputs": [
    {
     "name": "stdout",
     "output_type": "stream",
     "text": [
      "(48842, 121)\n",
      "       age_0  age_1  age_2  age_3  age_4  capitalgain_0  capitalgain_1  \\\n",
      "0          0      0      1      0      0              0              1   \n",
      "1          0      0      0      1      0              1              0   \n",
      "2          0      0      1      0      0              1              0   \n",
      "3          0      0      0      1      0              1              0   \n",
      "4          0      1      0      0      0              1              0   \n",
      "...      ...    ...    ...    ...    ...            ...            ...   \n",
      "48837      0      0      1      0      0              1              0   \n",
      "48838      0      0      0      0      1              1              0   \n",
      "48839      0      0      1      0      0              1              0   \n",
      "48840      0      0      1      0      0              0              0   \n",
      "48841      0      1      0      0      0              1              0   \n",
      "\n",
      "       capitalgain_2  capitalgain_3  capitalgain_4  ...  sex_Female  sex_Male  \\\n",
      "0                  0              0              0  ...           0         1   \n",
      "1                  0              0              0  ...           0         1   \n",
      "2                  0              0              0  ...           0         1   \n",
      "3                  0              0              0  ...           0         1   \n",
      "4                  0              0              0  ...           1         0   \n",
      "...              ...            ...            ...  ...         ...       ...   \n",
      "48837              0              0              0  ...           1         0   \n",
      "48838              0              0              0  ...           0         1   \n",
      "48839              0              0              0  ...           0         1   \n",
      "48840              1              0              0  ...           0         1   \n",
      "48841              0              0              0  ...           0         1   \n",
      "\n",
      "       workclass_Federal-gov  workclass_Local-gov  workclass_Never-worked  \\\n",
      "0                          0                    0                       0   \n",
      "1                          0                    0                       0   \n",
      "2                          0                    0                       0   \n",
      "3                          0                    0                       0   \n",
      "4                          0                    0                       0   \n",
      "...                      ...                  ...                     ...   \n",
      "48837                      0                    0                       0   \n",
      "48838                      0                    0                       0   \n",
      "48839                      0                    0                       0   \n",
      "48840                      0                    0                       0   \n",
      "48841                      0                    0                       0   \n",
      "\n",
      "       workclass_Private  workclass_Self-emp-inc  workclass_Self-emp-not-inc  \\\n",
      "0                      0                       0                           0   \n",
      "1                      0                       0                           1   \n",
      "2                      1                       0                           0   \n",
      "3                      1                       0                           0   \n",
      "4                      1                       0                           0   \n",
      "...                  ...                     ...                         ...   \n",
      "48837                  1                       0                           0   \n",
      "48838                  1                       0                           0   \n",
      "48839                  1                       0                           0   \n",
      "48840                  1                       0                           0   \n",
      "48841                  0                       1                           0   \n",
      "\n",
      "       workclass_State-gov  workclass_Without-pay  \n",
      "0                        1                      0  \n",
      "1                        0                      0  \n",
      "2                        0                      0  \n",
      "3                        0                      0  \n",
      "4                        0                      0  \n",
      "...                    ...                    ...  \n",
      "48837                    0                      0  \n",
      "48838                    0                      0  \n",
      "48839                    0                      0  \n",
      "48840                    0                      0  \n",
      "48841                    0                      0  \n",
      "\n",
      "[48842 rows x 121 columns]\n"
     ]
    }
   ],
   "source": [
    "try:\n",
    "  encoded_df = encodeDf(adult_df)\n",
    "  print(encoded_df)\n",
    "except:\n",
    "  \n",
    "  print(\"Error\")"
   ]
  },
  {
   "cell_type": "code",
   "execution_count": 61,
   "id": "a0df27cc",
   "metadata": {},
   "outputs": [],
   "source": [
    "def processedDf(encoded_df,scaled_df, adult_df): \n",
    "    adult_df_processed = pd.concat([encoded_df, scaled_df, adult_df['class']], axis=1)\n",
    "    return adult_df_processed"
   ]
  },
  {
   "cell_type": "code",
   "execution_count": 62,
   "id": "cb0f493a",
   "metadata": {},
   "outputs": [
    {
     "name": "stdout",
     "output_type": "stream",
     "text": [
      "(48842, 127)\n"
     ]
    }
   ],
   "source": [
    "try:\n",
    "    adult_df_processed = processedDf (encoded_df, scaled_df, adult_df) \n",
    "    print(adult_df_processed.shape)\n",
    "except:\n",
    "    print(adult_df_processed.shape)\n",
    "    print(\"Error\")"
   ]
  },
  {
   "cell_type": "code",
   "execution_count": 65,
   "id": "f1004243",
   "metadata": {},
   "outputs": [],
   "source": [
    "def splitData(adult_df_processed):\n",
    "    #Remove pass and write your logic here\n",
    "    predictor = adult_df_processed.drop(columns='class')\n",
    "    target = adult_df['class']\n",
    "    # predictor = adult_df processed. loc[:, adult df processed. columns != 'income']\n",
    "    # predictor = adult_df_processed\n",
    "    X_train, X_test, y_train, y_test = train_test_split (predictor, target, test_size=0.25, random_state=40) \n",
    "    \n",
    "    return X_train, y_train, X_test, y_test\n",
    "  "
   ]
  },
  {
   "cell_type": "code",
   "execution_count": 67,
   "id": "bdb55212",
   "metadata": {},
   "outputs": [
    {
     "name": "stdout",
     "output_type": "stream",
     "text": [
      "(36631, 126) (36631,) (12211, 126) (12211,)\n"
     ]
    }
   ],
   "source": [
    "try:\n",
    "    X_train, y_train, X_test, y_test = splitData(adult_df_processed)\n",
    "    print(X_train.shape, y_train.shape, X_test.shape, y_test.shape) \n",
    "except:\n",
    "    print(X_train.shape, y_train.shape, X_test.shape, y_test.shape) \n",
    "    print(\"Error\")"
   ]
  },
  {
   "cell_type": "code",
   "execution_count": 69,
   "id": "09cce098",
   "metadata": {},
   "outputs": [],
   "source": [
    "def buildModel (X_train, y_train):\n",
    "    #Remove pass and write your logic here\n",
    "    # print(X train, shape, y train, shape)\n",
    "    \n",
    "    \n",
    "    class_rf = RandomForestClassifier() \n",
    "    class_rf.fit(X_train, y_train)\n",
    "    #print (X train.shape)\n",
    "    return class_rf"
   ]
  },
  {
   "cell_type": "code",
   "execution_count": 70,
   "id": "85940019",
   "metadata": {},
   "outputs": [],
   "source": [
    "try:\n",
    "    train_model = buildModel (X_train, y_train)\n",
    "except:\n",
    "    print(\"Error\")\n",
    "    print(X_train.shape)"
   ]
  },
  {
   "cell_type": "code",
   "execution_count": 71,
   "id": "2f646c0a",
   "metadata": {},
   "outputs": [],
   "source": [
    "from sklearn.metrics import accuracy_score \n",
    "\n",
    "def evaluateModel (train_model,X_test,y_test): \n",
    "    test_score = train_model.score(X_test, y_test) \n",
    "#     acc = accuracy_score (y_test, y_pred)\n",
    "    return test_score"
   ]
  },
  {
   "cell_type": "code",
   "execution_count": 72,
   "id": "1af8993b",
   "metadata": {},
   "outputs": [
    {
     "name": "stdout",
     "output_type": "stream",
     "text": [
      "1.0\n"
     ]
    }
   ],
   "source": [
    "try:\n",
    "    score = evaluateModel (train_model,X_test,y_test) \n",
    "    print(score)\n",
    "except:\n",
    "    print(score)\n",
    "    print(\"Error\")\n"
   ]
  },
  {
   "cell_type": "code",
   "execution_count": 80,
   "id": "ce48f0ff",
   "metadata": {},
   "outputs": [],
   "source": [
    "def create_matrix():\n",
    "    #remove pass and write your logic here\n",
    "    \n",
    "    S= np.array([[-1, 1, 1, -1], [1, 1, -1, -1]])\n",
    "    \n",
    "    print(S)\n",
    "    return S"
   ]
  },
  {
   "cell_type": "code",
   "execution_count": 81,
   "id": "b78f9ed3",
   "metadata": {},
   "outputs": [
    {
     "name": "stdout",
     "output_type": "stream",
     "text": [
      "[[-1  1  1 -1]\n",
      " [ 1  1 -1 -1]]\n"
     ]
    }
   ],
   "source": [
    "try:\n",
    "    S = create_matrix()\n",
    "except:\n",
    "    print('Error')\n"
   ]
  },
  {
   "cell_type": "code",
   "execution_count": 82,
   "id": "531cf0b4",
   "metadata": {},
   "outputs": [],
   "source": [
    "def mat_scaling (S, scale=4):\n",
    "  #remove pass and write your logic here \n",
    "    \n",
    "    scaling_factor = np.sqrt(4)\n",
    "    scaling_martix = np.array([[scaling_factor, 0], [0, scaling_factor]])\n",
    "    \n",
    "    S1 = np.dot(scaling_martix, S)\n",
    "    \n",
    "    return S1\n"
   ]
  },
  {
   "cell_type": "code",
   "execution_count": 84,
   "id": "641fd8dd",
   "metadata": {},
   "outputs": [
    {
     "name": "stdout",
     "output_type": "stream",
     "text": [
      "[[-2.  2.  2. -2.]\n",
      " [ 2.  2. -2. -2.]]\n"
     ]
    }
   ],
   "source": [
    "try:\n",
    "    scaled_matrix = mat_scaling(S)\n",
    "    print(scaled_matrix)\n",
    "except:\n",
    "    print('Error')\n"
   ]
  },
  {
   "cell_type": "code",
   "execution_count": 92,
   "id": "74831f9b",
   "metadata": {},
   "outputs": [],
   "source": [
    "from scipy.ndimage import rotate \n",
    "def mat_rotation(scaled_matrix, angle = 45): \n",
    "  #remove pass and write your logic here \n",
    "    \n",
    "    angle = math.radians(45)\n",
    "#     rotation = np.array([[math.cos(angle), -math.sin(angle)], [math.sin(angle), math.cos(angle)]])\n",
    "    \n",
    "    rotation = [[math.cos(math.pi/4), -math.sin(math.pi / 4)], [math.sin(math.pin / 4), math.cos(math.pi / 4)]]\n",
    "    \n",
    "    S11 = np.dot(rotation, scaled_matrix)\n",
    "    # S45=rotate(scaled_matrix, angle) \n",
    "    print (S11)\n",
    "    return S11"
   ]
  },
  {
   "cell_type": "code",
   "execution_count": 93,
   "id": "2bb34faa",
   "metadata": {},
   "outputs": [
    {
     "name": "stdout",
     "output_type": "stream",
     "text": [
      "[[-2.82842712  0.          2.82842712  0.        ]\n",
      " [ 0.          2.82842712  0.         -2.82842712]]\n",
      "Error\n"
     ]
    }
   ],
   "source": [
    "try:\n",
    "    rotated_matrix = mat_rotation (scaled_matrix)\n",
    "    print(rotated_matrix)\n",
    "except:\n",
    "    print(rotated_matrix)\n",
    "    print('Error')"
   ]
  },
  {
   "cell_type": "code",
   "execution_count": 94,
   "id": "b52ca538",
   "metadata": {},
   "outputs": [
    {
     "ename": "AttributeError",
     "evalue": "module 'numpy' has no attribute 'rot45'",
     "output_type": "error",
     "traceback": [
      "\u001b[1;31m---------------------------------------------------------------------------\u001b[0m",
      "\u001b[1;31mAttributeError\u001b[0m                            Traceback (most recent call last)",
      "\u001b[1;32m~\\AppData\\Local\\Temp\\ipykernel_22636\\2777758484.py\u001b[0m in \u001b[0;36m<module>\u001b[1;34m\u001b[0m\n\u001b[1;32m----> 1\u001b[1;33m \u001b[0mprint\u001b[0m\u001b[1;33m(\u001b[0m\u001b[1;34m\"Rotated Matrix:\"\u001b[0m\u001b[1;33m,\u001b[0m\u001b[0mnp\u001b[0m\u001b[1;33m.\u001b[0m\u001b[0mrot45\u001b[0m\u001b[1;33m(\u001b[0m\u001b[0mscaled_matrix\u001b[0m\u001b[1;33m)\u001b[0m\u001b[1;33m)\u001b[0m\u001b[1;33m\u001b[0m\u001b[1;33m\u001b[0m\u001b[0m\n\u001b[0m",
      "\u001b[1;32m~\\Anaconda3\\lib\\site-packages\\numpy\\__init__.py\u001b[0m in \u001b[0;36m__getattr__\u001b[1;34m(attr)\u001b[0m\n\u001b[0;32m    311\u001b[0m                 \u001b[1;32mreturn\u001b[0m \u001b[0mTester\u001b[0m\u001b[1;33m\u001b[0m\u001b[1;33m\u001b[0m\u001b[0m\n\u001b[0;32m    312\u001b[0m \u001b[1;33m\u001b[0m\u001b[0m\n\u001b[1;32m--> 313\u001b[1;33m             raise AttributeError(\"module {!r} has no attribute \"\n\u001b[0m\u001b[0;32m    314\u001b[0m                                  \"{!r}\".format(__name__, attr))\n\u001b[0;32m    315\u001b[0m \u001b[1;33m\u001b[0m\u001b[0m\n",
      "\u001b[1;31mAttributeError\u001b[0m: module 'numpy' has no attribute 'rot45'"
     ]
    }
   ],
   "source": [
    "print(\"Rotated Matrix:\",np.rot45(scaled_matrix))"
   ]
  },
  {
   "cell_type": "code",
   "execution_count": 95,
   "id": "880a1dd1",
   "metadata": {},
   "outputs": [],
   "source": [
    "def createMatrix():\n",
    "    \n",
    "    #remove pass and write your logic here\n",
    "    A= np.array([[3, 2, -1], [-2, 2, 1], [1,1,1]]) \n",
    "    B= np.array([6, 3, 4])\n",
    "    return A, B\n"
   ]
  },
  {
   "cell_type": "code",
   "execution_count": 96,
   "id": "af0c9606",
   "metadata": {},
   "outputs": [
    {
     "name": "stdout",
     "output_type": "stream",
     "text": [
      "[[ 3  2 -1]\n",
      " [-2  2  1]\n",
      " [ 1  1  1]]\n"
     ]
    }
   ],
   "source": [
    "try:\n",
    "  A,B = createMatrix()\n",
    "  print (A)\n",
    "except:\n",
    "  print(\"Error\")\n",
    "  \n"
   ]
  },
  {
   "cell_type": "code",
   "execution_count": 97,
   "id": "f2de5de7",
   "metadata": {},
   "outputs": [],
   "source": [
    "def solveForxyz (A,B):\n",
    "  #remove pass and write your logic here\n",
    "  sol = np.linalg.solve(A, B)\n",
    "  print (sol)\n",
    "  x= int(sol[0])\n",
    "  y= int(sol[1])\n",
    "  z = int(sol[2])\n",
    "  #return sol[0], sol[1], sol/21\n",
    "  return x, y, z\n"
   ]
  },
  {
   "cell_type": "code",
   "execution_count": 98,
   "id": "9ef84d2e",
   "metadata": {},
   "outputs": [
    {
     "name": "stdout",
     "output_type": "stream",
     "text": [
      "[1. 2. 1.]\n"
     ]
    }
   ],
   "source": [
    "try:\n",
    "  x, y, z=solveForxyz (A, B) \n",
    "except:\n",
    "  print('Error')\n"
   ]
  },
  {
   "cell_type": "code",
   "execution_count": 99,
   "id": "bf22fdcd",
   "metadata": {},
   "outputs": [],
   "source": [
    "def samplingSize():\n",
    " \n",
    "  C12 = (0.01)**2\n",
    "  size= ((1.96)**2 * (0.018) * (1- 0.018)) / (C12)\n",
    "  # print(size)\n",
    "  return(round (size))\n",
    " \n"
   ]
  },
  {
   "cell_type": "code",
   "execution_count": 100,
   "id": "b7367f86",
   "metadata": {},
   "outputs": [
    {
     "name": "stdout",
     "output_type": "stream",
     "text": [
      "679\n"
     ]
    }
   ],
   "source": [
    "try:\n",
    "   sample_size = samplingSize() \n",
    "   print(sample_size)\n",
    "except:\n",
    "  print(sample_size)\n",
    "  print(\"Error\")"
   ]
  },
  {
   "cell_type": "code",
   "execution_count": 101,
   "id": "73d717ee",
   "metadata": {},
   "outputs": [
    {
     "name": "stdout",
     "output_type": "stream",
     "text": [
      "12\n"
     ]
    }
   ],
   "source": [
    "Samplesize = (((1.96 * 0.018)/(0.01)) ** 2)  \n",
    "print(int(Samplesize))"
   ]
  },
  {
   "cell_type": "code",
   "execution_count": null,
   "id": "bd5482cc",
   "metadata": {},
   "outputs": [],
   "source": []
  }
 ],
 "metadata": {
  "kernelspec": {
   "display_name": "Python 3 (ipykernel)",
   "language": "python",
   "name": "python3"
  },
  "language_info": {
   "codemirror_mode": {
    "name": "ipython",
    "version": 3
   },
   "file_extension": ".py",
   "mimetype": "text/x-python",
   "name": "python",
   "nbconvert_exporter": "python",
   "pygments_lexer": "ipython3",
   "version": "3.9.13"
  }
 },
 "nbformat": 4,
 "nbformat_minor": 5
}
