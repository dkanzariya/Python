{
 "cells": [
  {
   "cell_type": "markdown",
   "id": "482ed8aa",
   "metadata": {},
   "source": [
    "Data Science"
   ]
  },
  {
   "cell_type": "code",
   "execution_count": 1,
   "id": "86412e6d",
   "metadata": {},
   "outputs": [],
   "source": [
    "import numpy as np\n",
    "import pandas as pd\n",
    "import math\n",
    "from scipy import stats\n",
    "import collections\n",
    "from sklearn.model_selection import train_test_split\n",
    "from sklearn.preprocessing import LabelEncoder\n",
    "from sklearn.preprocessing import MinMaxScaler\n",
    "from sklearn.ensemble import RandomForestClassifier\n",
    "import warnings\n",
    "warnings.filterwarnings (\"ignore\")"
   ]
  },
  {
   "cell_type": "code",
   "execution_count": 1,
   "id": "9315d275",
   "metadata": {},
   "outputs": [],
   "source": [
    "filepath = 'C:/Users/dharmesh.kanzariya/Downloads/adult_csv.csv'\n",
    "\n",
    "def loadData(filepath):\n",
    "    '''\n",
    "    adult_df = pd.read_csv(filepath)\n",
    "    print(adult_df.shape)\n",
    "    '''\n",
    "    return adult_df\n"
   ]
  },
  {
   "cell_type": "code",
   "execution_count": 2,
   "id": "a2e3da63",
   "metadata": {},
   "outputs": [
    {
     "name": "stdout",
     "output_type": "stream",
     "text": [
      "Error\n"
     ]
    }
   ],
   "source": [
    "try:\n",
    "    adult_df = loadData(filepath)\n",
    "    print(adult_df)\n",
    "except:\n",
    "    print(\"Error\")\n"
   ]
  },
  {
   "cell_type": "code",
   "execution_count": 3,
   "id": "1c4147bc",
   "metadata": {},
   "outputs": [],
   "source": [
    "def dropCol (adult_df):\n",
    "    '''\n",
    "    adult_df = adult_df.drop(['education', 'fnlwgt'], axis=1)\n",
    "    print (adult_df.shape)\n",
    "    print(adult_df)\n",
    "    '''\n",
    "    return adult_df"
   ]
  },
  {
   "cell_type": "code",
   "execution_count": 5,
   "id": "5e9a2eda",
   "metadata": {},
   "outputs": [
    {
     "name": "stdout",
     "output_type": "stream",
     "text": [
      "Error\n"
     ]
    }
   ],
   "source": [
    "try:\n",
    "    adult_df = dropCol (adult_df)\n",
    "except:\n",
    "    print(\"Error\")\n"
   ]
  },
  {
   "cell_type": "code",
   "execution_count": 6,
   "id": "08363331",
   "metadata": {},
   "outputs": [],
   "source": [
    "def treatNull(adult_df):\n",
    "    '''\n",
    "    print(adult_df.isnull())\n",
    "    print(adult_df.isna().any())\n",
    "    adult_df = adult_df.fillna(adult_df.mode().iloc[0]) \n",
    "    # print(adult_df.isnull())\n",
    "    print(adult_df.info())\n",
    "    '''\n",
    "    \n",
    "    return adult_df\n"
   ]
  },
  {
   "cell_type": "code",
   "execution_count": 7,
   "id": "68646603",
   "metadata": {},
   "outputs": [
    {
     "name": "stdout",
     "output_type": "stream",
     "text": [
      "Error\n"
     ]
    },
    {
     "ename": "NameError",
     "evalue": "name 'adult_df' is not defined",
     "output_type": "error",
     "traceback": [
      "\u001b[1;31m---------------------------------------------------------------------------\u001b[0m",
      "\u001b[1;31mNameError\u001b[0m                                 Traceback (most recent call last)",
      "\u001b[1;32m~\\AppData\\Local\\Temp\\ipykernel_22540\\3045701081.py\u001b[0m in \u001b[0;36m<module>\u001b[1;34m\u001b[0m\n\u001b[0;32m      1\u001b[0m \u001b[1;32mtry\u001b[0m\u001b[1;33m:\u001b[0m\u001b[1;33m\u001b[0m\u001b[1;33m\u001b[0m\u001b[0m\n\u001b[1;32m----> 2\u001b[1;33m   \u001b[0madult_df\u001b[0m \u001b[1;33m=\u001b[0m \u001b[0mtreatNull\u001b[0m\u001b[1;33m(\u001b[0m\u001b[0madult_df\u001b[0m\u001b[1;33m)\u001b[0m\u001b[1;33m\u001b[0m\u001b[1;33m\u001b[0m\u001b[0m\n\u001b[0m\u001b[0;32m      3\u001b[0m   \u001b[0madult_df\u001b[0m\u001b[1;33m.\u001b[0m\u001b[0mhead\u001b[0m\u001b[1;33m(\u001b[0m\u001b[1;33m)\u001b[0m\u001b[1;33m\u001b[0m\u001b[1;33m\u001b[0m\u001b[0m\n",
      "\u001b[1;31mNameError\u001b[0m: name 'adult_df' is not defined",
      "\nDuring handling of the above exception, another exception occurred:\n",
      "\u001b[1;31mNameError\u001b[0m                                 Traceback (most recent call last)",
      "\u001b[1;32m~\\AppData\\Local\\Temp\\ipykernel_22540\\3045701081.py\u001b[0m in \u001b[0;36m<module>\u001b[1;34m\u001b[0m\n\u001b[0;32m      5\u001b[0m \u001b[1;33m\u001b[0m\u001b[0m\n\u001b[0;32m      6\u001b[0m   \u001b[0mprint\u001b[0m\u001b[1;33m(\u001b[0m\u001b[1;34m\"Error\"\u001b[0m\u001b[1;33m)\u001b[0m\u001b[1;33m\u001b[0m\u001b[1;33m\u001b[0m\u001b[0m\n\u001b[1;32m----> 7\u001b[1;33m   \u001b[0mprint\u001b[0m\u001b[1;33m(\u001b[0m\u001b[0madult_df\u001b[0m\u001b[1;33m)\u001b[0m\u001b[1;33m\u001b[0m\u001b[1;33m\u001b[0m\u001b[0m\n\u001b[0m",
      "\u001b[1;31mNameError\u001b[0m: name 'adult_df' is not defined"
     ]
    }
   ],
   "source": [
    "try:\n",
    "  adult_df = treatNull(adult_df)\n",
    "  adult_df.head()\n",
    "except:\n",
    "  \n",
    "  print(\"Error\")\n",
    "  print(adult_df)"
   ]
  },
  {
   "cell_type": "code",
   "execution_count": 8,
   "id": "66c41d7d",
   "metadata": {},
   "outputs": [],
   "source": [
    "def replaceTarget (adult_df):\n",
    "    \n",
    "    '''\n",
    "    #Remove pass and write your logic here\n",
    "    adult_df.head()\n",
    "    adult_df['class'] = adult_df['class'].replace(['<=50K'], 0) \n",
    "    adult_df['class'] = adult_df['class'].replace(['>50K'], 1) \n",
    "    adult_df['class'] = adult_df['class'].astype('category')\n",
    "    '''\n",
    "  \n",
    "    return adult_df\n"
   ]
  },
  {
   "cell_type": "code",
   "execution_count": 9,
   "id": "c1353cad",
   "metadata": {},
   "outputs": [
    {
     "name": "stdout",
     "output_type": "stream",
     "text": [
      "Error\n"
     ]
    },
    {
     "ename": "NameError",
     "evalue": "name 'adult_df' is not defined",
     "output_type": "error",
     "traceback": [
      "\u001b[1;31m---------------------------------------------------------------------------\u001b[0m",
      "\u001b[1;31mNameError\u001b[0m                                 Traceback (most recent call last)",
      "\u001b[1;32m~\\AppData\\Local\\Temp\\ipykernel_22540\\3788375587.py\u001b[0m in \u001b[0;36m<module>\u001b[1;34m\u001b[0m\n\u001b[0;32m      1\u001b[0m \u001b[1;32mtry\u001b[0m\u001b[1;33m:\u001b[0m\u001b[1;33m\u001b[0m\u001b[1;33m\u001b[0m\u001b[0m\n\u001b[1;32m----> 2\u001b[1;33m   \u001b[0madult_df\u001b[0m \u001b[1;33m=\u001b[0m \u001b[0mreplaceTarget\u001b[0m\u001b[1;33m(\u001b[0m\u001b[0madult_df\u001b[0m\u001b[1;33m)\u001b[0m\u001b[1;33m\u001b[0m\u001b[1;33m\u001b[0m\u001b[0m\n\u001b[0m\u001b[0;32m      3\u001b[0m   \u001b[0mprint\u001b[0m \u001b[1;33m(\u001b[0m\u001b[0madult_df\u001b[0m\u001b[1;33m[\u001b[0m\u001b[1;34m'class'\u001b[0m\u001b[1;33m]\u001b[0m\u001b[1;33m)\u001b[0m\u001b[1;33m\u001b[0m\u001b[1;33m\u001b[0m\u001b[0m\n",
      "\u001b[1;31mNameError\u001b[0m: name 'adult_df' is not defined",
      "\nDuring handling of the above exception, another exception occurred:\n",
      "\u001b[1;31mNameError\u001b[0m                                 Traceback (most recent call last)",
      "\u001b[1;32m~\\AppData\\Local\\Temp\\ipykernel_22540\\3788375587.py\u001b[0m in \u001b[0;36m<module>\u001b[1;34m\u001b[0m\n\u001b[0;32m      4\u001b[0m \u001b[1;32mexcept\u001b[0m\u001b[1;33m:\u001b[0m\u001b[1;33m\u001b[0m\u001b[1;33m\u001b[0m\u001b[0m\n\u001b[0;32m      5\u001b[0m   \u001b[0mprint\u001b[0m\u001b[1;33m(\u001b[0m\u001b[1;34m\"Error\"\u001b[0m\u001b[1;33m)\u001b[0m\u001b[1;33m\u001b[0m\u001b[1;33m\u001b[0m\u001b[0m\n\u001b[1;32m----> 6\u001b[1;33m   \u001b[0mprint\u001b[0m\u001b[1;33m(\u001b[0m\u001b[0madult_df\u001b[0m\u001b[1;33m)\u001b[0m\u001b[1;33m\u001b[0m\u001b[1;33m\u001b[0m\u001b[0m\n\u001b[0m",
      "\u001b[1;31mNameError\u001b[0m: name 'adult_df' is not defined"
     ]
    }
   ],
   "source": [
    "try:\n",
    "  adult_df = replaceTarget(adult_df) \n",
    "  print (adult_df['class'])\n",
    "except:\n",
    "  print(\"Error\")\n",
    "  print(adult_df)"
   ]
  },
  {
   "cell_type": "code",
   "execution_count": 35,
   "id": "ca95cee2",
   "metadata": {},
   "outputs": [],
   "source": [
    "def scaleDf (adult_df):\n",
    "  #Remove pass and write your logic here\n",
    "  scaled_df = adult_df.select_dtypes (include=np.number) \n",
    "  col = adult_df.select_dtypes (include = np.number).columns.tolist()\n",
    "  mms = MinMaxScaler()\n",
    "  scaled_df[col] = mms.fit_transform(scaled_df[col]) \n",
    "  print(scaled_df)\n",
    "  return scaled_df\n"
   ]
  },
  {
   "cell_type": "code",
   "execution_count": 36,
   "id": "07ef9d16",
   "metadata": {},
   "outputs": [
    {
     "name": "stdout",
     "output_type": "stream",
     "text": [
      "        age  education-num  capitalgain  capitalloss  hoursperweek\n",
      "0      0.50       0.800000         0.25          0.0          0.50\n",
      "1      0.75       0.800000         0.00          0.0          0.00\n",
      "2      0.50       0.533333         0.00          0.0          0.50\n",
      "3      0.75       0.400000         0.00          0.0          0.50\n",
      "4      0.25       0.800000         0.00          0.0          0.50\n",
      "...     ...            ...          ...          ...           ...\n",
      "48837  0.50       0.800000         0.00          0.0          0.50\n",
      "48838  1.00       0.533333         0.00          0.0          0.50\n",
      "48839  0.50       0.800000         0.00          0.0          0.75\n",
      "48840  0.50       0.800000         0.50          0.0          0.50\n",
      "48841  0.25       0.800000         0.00          0.0          0.75\n",
      "\n",
      "[48842 rows x 5 columns]\n"
     ]
    }
   ],
   "source": [
    "try:\n",
    "  scaled_df = scaleDf(adult_df)\n",
    "except:\n",
    "  print(\"Error\")\n",
    "  print(scaled_df)"
   ]
  },
  {
   "cell_type": "code",
   "execution_count": 42,
   "id": "9298ef66",
   "metadata": {},
   "outputs": [],
   "source": [
    "def encodeDf (adult_df):\n",
    "  # Remove pass and write your logic here\n",
    "  column_list = adult_df.columns.difference(['income'])\n",
    "\n",
    "  # adult df adult df.:oc\n",
    "\n",
    "  # col cat\n",
    "  # adult df.columns.values.tolist()\n",
    "\n",
    "\n",
    "  # print(col cat)\n",
    "  # col cat col cat.remove(\"income\")\n",
    "  #print (encoded df.shape)\n",
    "  #print(column List)\n",
    "  one_hot_encoded_data = pd.get_dummies (adult_df, columns = column_list) \n",
    "#   print (encoded_df.shape)\n",
    "  print (one_hot_encoded_data.shape)\n",
    "  return one_hot_encoded_data"
   ]
  },
  {
   "cell_type": "code",
   "execution_count": 44,
   "id": "46ab0cb1",
   "metadata": {},
   "outputs": [
    {
     "name": "stdout",
     "output_type": "stream",
     "text": [
      "(48842, 121)\n",
      "       age_0  age_1  age_2  age_3  age_4  capitalgain_0  capitalgain_1  \\\n",
      "0          0      0      1      0      0              0              1   \n",
      "1          0      0      0      1      0              1              0   \n",
      "2          0      0      1      0      0              1              0   \n",
      "3          0      0      0      1      0              1              0   \n",
      "4          0      1      0      0      0              1              0   \n",
      "...      ...    ...    ...    ...    ...            ...            ...   \n",
      "48837      0      0      1      0      0              1              0   \n",
      "48838      0      0      0      0      1              1              0   \n",
      "48839      0      0      1      0      0              1              0   \n",
      "48840      0      0      1      0      0              0              0   \n",
      "48841      0      1      0      0      0              1              0   \n",
      "\n",
      "       capitalgain_2  capitalgain_3  capitalgain_4  ...  sex_Female  sex_Male  \\\n",
      "0                  0              0              0  ...           0         1   \n",
      "1                  0              0              0  ...           0         1   \n",
      "2                  0              0              0  ...           0         1   \n",
      "3                  0              0              0  ...           0         1   \n",
      "4                  0              0              0  ...           1         0   \n",
      "...              ...            ...            ...  ...         ...       ...   \n",
      "48837              0              0              0  ...           1         0   \n",
      "48838              0              0              0  ...           0         1   \n",
      "48839              0              0              0  ...           0         1   \n",
      "48840              1              0              0  ...           0         1   \n",
      "48841              0              0              0  ...           0         1   \n",
      "\n",
      "       workclass_Federal-gov  workclass_Local-gov  workclass_Never-worked  \\\n",
      "0                          0                    0                       0   \n",
      "1                          0                    0                       0   \n",
      "2                          0                    0                       0   \n",
      "3                          0                    0                       0   \n",
      "4                          0                    0                       0   \n",
      "...                      ...                  ...                     ...   \n",
      "48837                      0                    0                       0   \n",
      "48838                      0                    0                       0   \n",
      "48839                      0                    0                       0   \n",
      "48840                      0                    0                       0   \n",
      "48841                      0                    0                       0   \n",
      "\n",
      "       workclass_Private  workclass_Self-emp-inc  workclass_Self-emp-not-inc  \\\n",
      "0                      0                       0                           0   \n",
      "1                      0                       0                           1   \n",
      "2                      1                       0                           0   \n",
      "3                      1                       0                           0   \n",
      "4                      1                       0                           0   \n",
      "...                  ...                     ...                         ...   \n",
      "48837                  1                       0                           0   \n",
      "48838                  1                       0                           0   \n",
      "48839                  1                       0                           0   \n",
      "48840                  1                       0                           0   \n",
      "48841                  0                       1                           0   \n",
      "\n",
      "       workclass_State-gov  workclass_Without-pay  \n",
      "0                        1                      0  \n",
      "1                        0                      0  \n",
      "2                        0                      0  \n",
      "3                        0                      0  \n",
      "4                        0                      0  \n",
      "...                    ...                    ...  \n",
      "48837                    0                      0  \n",
      "48838                    0                      0  \n",
      "48839                    0                      0  \n",
      "48840                    0                      0  \n",
      "48841                    0                      0  \n",
      "\n",
      "[48842 rows x 121 columns]\n"
     ]
    }
   ],
   "source": [
    "try:\n",
    "  encoded_df = encodeDf(adult_df)\n",
    "  print(encoded_df)\n",
    "except:\n",
    "  \n",
    "  print(\"Error\")"
   ]
  },
  {
   "cell_type": "code",
   "execution_count": 45,
   "id": "e7a3d468",
   "metadata": {},
   "outputs": [],
   "source": [
    "def processedDf(encoded_df,scaled_df, adult_df): \n",
    "  adult_df_processed = pd.concat([scaled_df, encoded_df], axis=1)\n",
    "  return adult_df_processed"
   ]
  },
  {
   "cell_type": "code",
   "execution_count": 46,
   "id": "20ef9808",
   "metadata": {},
   "outputs": [
    {
     "name": "stdout",
     "output_type": "stream",
     "text": [
      "(48842, 126)\n"
     ]
    }
   ],
   "source": [
    "try:\n",
    "  adult_df_processed = processedDf (encoded_df, scaled_df, adult_df) \n",
    "  print(adult_df_processed.shape)\n",
    "except:\n",
    "  print(adult_df_processed.shape)\n",
    "  print(\"Error\")"
   ]
  },
  {
   "cell_type": "code",
   "execution_count": 47,
   "id": "9485049e",
   "metadata": {},
   "outputs": [],
   "source": [
    "def splitData(adult_df_processed):\n",
    "  #Remove pass and write your logic here\n",
    "  target = adult_df['class']\n",
    "  # predictor = adult_df processed. loc[:, adult df processed. columns != 'income']\n",
    "  predictor = adult_df_processed\n",
    "  X_train, X_test, y_train, y_test = train_test_split (predictor, target, test_size=0.25, random_state=40) \n",
    "  return X_train, y_train, X_test, y_test\n",
    "  "
   ]
  },
  {
   "cell_type": "code",
   "execution_count": 48,
   "id": "115b6dc4",
   "metadata": {},
   "outputs": [
    {
     "name": "stdout",
     "output_type": "stream",
     "text": [
      "(36631, 126) (36631,) (12211, 126) (12211,)\n"
     ]
    }
   ],
   "source": [
    "try:\n",
    "  X_train, y_train, X_test, y_test = splitData(adult_df_processed)\n",
    "  print(X_train.shape, y_train.shape, X_test.shape, y_test.shape) \n",
    "except:\n",
    "  print(X_train.shape, y_train.shape, X_test.shape, y_test.shape) \n",
    "  print(\"Error\")"
   ]
  },
  {
   "cell_type": "code",
   "execution_count": 49,
   "id": "275a76c8",
   "metadata": {},
   "outputs": [],
   "source": [
    "def buildModel (X_train, y_train):\n",
    "  #Remove pass and write your logic here\n",
    "  # print(X train, shape, y train, shape)\n",
    "  class_rf = RandomForestClassifier(random_state=0, max_depth=5) \n",
    "  class_rf.fit( X_train, y_train)\n",
    "  #print (X train.shape)\n",
    "  return class_rf"
   ]
  },
  {
   "cell_type": "code",
   "execution_count": 50,
   "id": "bce032a7",
   "metadata": {},
   "outputs": [],
   "source": [
    "try:\n",
    "  train_model = buildModel (X_train, y_train)\n",
    "except:\n",
    "  print(\"Error\")\n",
    "  print(X_train.shape)"
   ]
  },
  {
   "cell_type": "code",
   "execution_count": 51,
   "id": "5cffc1df",
   "metadata": {},
   "outputs": [],
   "source": [
    "from sklearn.metrics import accuracy_score \n",
    "def evaluateModel (train_model,X_test,y_test): \n",
    "  y_pred = train_model.predict(X_test) \n",
    "  acc = accuracy_score (y_test, y_pred)\n",
    "  return acc"
   ]
  },
  {
   "cell_type": "code",
   "execution_count": 52,
   "id": "cb4bc687",
   "metadata": {},
   "outputs": [
    {
     "name": "stdout",
     "output_type": "stream",
     "text": [
      "1.0\n"
     ]
    }
   ],
   "source": [
    "try:\n",
    "  score = evaluateModel (train_model,X_test,y_test) \n",
    "  print(score)\n",
    "except:\n",
    "  print(score)\n",
    "  print(\"Error\")\n"
   ]
  },
  {
   "cell_type": "code",
   "execution_count": 58,
   "id": "811e5719",
   "metadata": {},
   "outputs": [],
   "source": [
    "def create_matrix():\n",
    "  #remove pass and write your logic here\n",
    "  S= [[-1, 1, 1, -1], [1, 1, -1, -1]] \n",
    "  print(S)\n",
    "  return S"
   ]
  },
  {
   "cell_type": "code",
   "execution_count": 59,
   "id": "10c74e21",
   "metadata": {},
   "outputs": [
    {
     "name": "stdout",
     "output_type": "stream",
     "text": [
      "[[-1, 1, 1, -1], [1, 1, -1, -1]]\n"
     ]
    }
   ],
   "source": [
    "try:\n",
    "  S = create_matrix()\n",
    "except:\n",
    "  print('Error')\n"
   ]
  },
  {
   "cell_type": "code",
   "execution_count": 60,
   "id": "cb57e32c",
   "metadata": {},
   "outputs": [],
   "source": [
    "def mat_scaling (S, scale=4):\n",
    "  #remove pass and write your logic here \n",
    "  S4= np.multiply(S, scale)\n",
    "  print (S4)\n",
    "  return S4\n"
   ]
  },
  {
   "cell_type": "code",
   "execution_count": 61,
   "id": "783d06ca",
   "metadata": {},
   "outputs": [
    {
     "name": "stdout",
     "output_type": "stream",
     "text": [
      "[[-4  4  4 -4]\n",
      " [ 4  4 -4 -4]]\n"
     ]
    }
   ],
   "source": [
    "try:\n",
    "  scaled_matrix = mat_scaling(S)\n",
    "except:\n",
    "  print('Error')\n"
   ]
  },
  {
   "cell_type": "code",
   "execution_count": 62,
   "id": "52e993a5",
   "metadata": {},
   "outputs": [],
   "source": [
    "from scipy.ndimage import rotate \n",
    "def mat_rotation(scaled_matrix, angle = 45): \n",
    "  #remove pass and write your logic here \n",
    "  S45=rotate(scaled_matrix, angle) \n",
    "  print (S45)\n",
    "  return S45"
   ]
  },
  {
   "cell_type": "code",
   "execution_count": 63,
   "id": "9222a59a",
   "metadata": {},
   "outputs": [
    {
     "name": "stdout",
     "output_type": "stream",
     "text": [
      "[[ 0  0  0  0]\n",
      " [ 0  0 -1  0]\n",
      " [ 0  3  0  0]\n",
      " [ 0  0  0  0]]\n"
     ]
    }
   ],
   "source": [
    "try:\n",
    "  rotated_matrix = mat_rotation (scaled_matrix)\n",
    "  # print(rotated_matrix)\n",
    "except:\n",
    "  print('Error')"
   ]
  },
  {
   "cell_type": "code",
   "execution_count": 65,
   "id": "06e813bb",
   "metadata": {},
   "outputs": [
    {
     "ename": "AttributeError",
     "evalue": "module 'numpy' has no attribute 'rot45'",
     "output_type": "error",
     "traceback": [
      "\u001b[1;31m---------------------------------------------------------------------------\u001b[0m",
      "\u001b[1;31mAttributeError\u001b[0m                            Traceback (most recent call last)",
      "\u001b[1;32m~\\AppData\\Local\\Temp\\ipykernel_2492\\2777758484.py\u001b[0m in \u001b[0;36m<module>\u001b[1;34m\u001b[0m\n\u001b[1;32m----> 1\u001b[1;33m \u001b[0mprint\u001b[0m\u001b[1;33m(\u001b[0m\u001b[1;34m\"Rotated Matrix:\"\u001b[0m\u001b[1;33m,\u001b[0m\u001b[0mnp\u001b[0m\u001b[1;33m.\u001b[0m\u001b[0mrot45\u001b[0m\u001b[1;33m(\u001b[0m\u001b[0mscaled_matrix\u001b[0m\u001b[1;33m)\u001b[0m\u001b[1;33m)\u001b[0m\u001b[1;33m\u001b[0m\u001b[1;33m\u001b[0m\u001b[0m\n\u001b[0m",
      "\u001b[1;32m~\\Anaconda3\\lib\\site-packages\\numpy\\__init__.py\u001b[0m in \u001b[0;36m__getattr__\u001b[1;34m(attr)\u001b[0m\n\u001b[0;32m    311\u001b[0m                 \u001b[1;32mreturn\u001b[0m \u001b[0mTester\u001b[0m\u001b[1;33m\u001b[0m\u001b[1;33m\u001b[0m\u001b[0m\n\u001b[0;32m    312\u001b[0m \u001b[1;33m\u001b[0m\u001b[0m\n\u001b[1;32m--> 313\u001b[1;33m             raise AttributeError(\"module {!r} has no attribute \"\n\u001b[0m\u001b[0;32m    314\u001b[0m                                  \"{!r}\".format(__name__, attr))\n\u001b[0;32m    315\u001b[0m \u001b[1;33m\u001b[0m\u001b[0m\n",
      "\u001b[1;31mAttributeError\u001b[0m: module 'numpy' has no attribute 'rot45'"
     ]
    }
   ],
   "source": [
    "print(\"Rotated Matrix:\",np.rot45(scaled_matrix))"
   ]
  },
  {
   "cell_type": "code",
   "execution_count": 49,
   "id": "2119124b",
   "metadata": {},
   "outputs": [],
   "source": [
    "def createMatrix():\n",
    "  #remove pass and write your logic here\n",
    "  A= np.array([[3, 2, -1], [-2, 2, 1], [1,1,1]]) \n",
    "  B= np.array([6, 3, 4])\n",
    "  return A, B\n"
   ]
  },
  {
   "cell_type": "code",
   "execution_count": 50,
   "id": "9c5ab51e",
   "metadata": {},
   "outputs": [
    {
     "name": "stdout",
     "output_type": "stream",
     "text": [
      "[[ 3  2 -1]\n",
      " [-2  2  1]\n",
      " [ 1  1  1]]\n"
     ]
    }
   ],
   "source": [
    "try:\n",
    "  A,B = createMatrix()\n",
    "  print (A)\n",
    "except:\n",
    "  print(\"Error\")\n",
    "  \n"
   ]
  },
  {
   "cell_type": "code",
   "execution_count": 51,
   "id": "c1691a12",
   "metadata": {},
   "outputs": [],
   "source": [
    "def solveForxyz (A,B):\n",
    "  #remove pass and write your logic here\n",
    "  sol = np.linalg.solve(A, B)\n",
    "  print (sol)\n",
    "  x= int(sol[0])\n",
    "  y= int(sol[1])\n",
    "  z = int(sol[2])\n",
    "  #return sol[0], sol[1], sol/21\n",
    "  return x, y, z\n"
   ]
  },
  {
   "cell_type": "code",
   "execution_count": 52,
   "id": "9b6fe9dc",
   "metadata": {},
   "outputs": [
    {
     "name": "stdout",
     "output_type": "stream",
     "text": [
      "[1. 2. 1.]\n"
     ]
    }
   ],
   "source": [
    "try:\n",
    "  x, y, z=solveForxyz (A, B) \n",
    "except:\n",
    "  print('Error')\n"
   ]
  },
  {
   "cell_type": "code",
   "execution_count": 53,
   "id": "f7ae9cc2",
   "metadata": {},
   "outputs": [],
   "source": [
    "def samplingSize():\n",
    " \n",
    "  C12 = (0.01)**2\n",
    "  size= ((1.96)**2 * (0.018) * (1- 0.018)) / (C12)\n",
    "  # print(size)\n",
    "  return(round (size))\n",
    " \n"
   ]
  },
  {
   "cell_type": "code",
   "execution_count": 54,
   "id": "da21ae5b",
   "metadata": {},
   "outputs": [
    {
     "name": "stdout",
     "output_type": "stream",
     "text": [
      "679\n"
     ]
    }
   ],
   "source": [
    "try:\n",
    "   sample_size = samplingSize() \n",
    "   print(sample_size)\n",
    "except:\n",
    "  print(sample_size)\n",
    "  print(\"Error\")"
   ]
  },
  {
   "cell_type": "code",
   "execution_count": 57,
   "id": "825a3891",
   "metadata": {},
   "outputs": [
    {
     "name": "stdout",
     "output_type": "stream",
     "text": [
      "12\n"
     ]
    }
   ],
   "source": [
    "Samplesize = (((1.96 * 0.018)/(0.01)) ** 2)  \n",
    "print(int(Samplesize))"
   ]
  },
  {
   "cell_type": "code",
   "execution_count": null,
   "id": "ca3a304a",
   "metadata": {},
   "outputs": [],
   "source": []
  }
 ],
 "metadata": {
  "kernelspec": {
   "display_name": "Python 3 (ipykernel)",
   "language": "python",
   "name": "python3"
  },
  "language_info": {
   "codemirror_mode": {
    "name": "ipython",
    "version": 3
   },
   "file_extension": ".py",
   "mimetype": "text/x-python",
   "name": "python",
   "nbconvert_exporter": "python",
   "pygments_lexer": "ipython3",
   "version": "3.9.13"
  }
 },
 "nbformat": 4,
 "nbformat_minor": 5
}
