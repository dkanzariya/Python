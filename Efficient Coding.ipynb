{
 "cells": [
  {
   "cell_type": "code",
   "execution_count": null,
   "id": "038502c7",
   "metadata": {},
   "outputs": [],
   "source": [
    "# Read the number of students\n",
    "N = int(input())\n",
    "\n",
    "students = []  # List to store student preferences\n",
    "\n",
    "# Iterate over each student's preferences and store them in the list\n",
    "for _ in range(N):\n",
    "    X, Y = map(int, input().split())\n",
    "    students.append((X, Y))\n",
    "\n",
    "# Sort students by the lower limit X in ascending order\n",
    "students.sort()\n",
    "\n",
    "max_happy_students = 0\n",
    "min_sweets = float('-inf')\n",
    "\n",
    "# Iterate over sorted students' preferences\n",
    "for X, Y in students:\n",
    "    # Update min_sweets to make sure it's not less than X\n",
    "    min_sweets = max(min_sweets, X)\n",
    "\n",
    "    # Count the number of happy students for current sweets count\n",
    "    happy_students = sum(1 for X, Y in students if X <= min_sweets <= Y)\n",
    "    \n",
    "    # Update max_happy_students if current sweets count yields more happy students\n",
    "    if happy_students > max_happy_students:\n",
    "        max_happy_students = happy_students\n",
    "        min_s = min_sweets\n",
    "        \n",
    "\n",
    "# Print the minimum number of sweets and the maximum number of happy students\n",
    "print(min_s, max_happy_students)"
   ]
  }
 ],
 "metadata": {
  "kernelspec": {
   "display_name": "Python 3 (ipykernel)",
   "language": "python",
   "name": "python3"
  },
  "language_info": {
   "codemirror_mode": {
    "name": "ipython",
    "version": 3
   },
   "file_extension": ".py",
   "mimetype": "text/x-python",
   "name": "python",
   "nbconvert_exporter": "python",
   "pygments_lexer": "ipython3",
   "version": "3.9.13"
  }
 },
 "nbformat": 4,
 "nbformat_minor": 5
}
