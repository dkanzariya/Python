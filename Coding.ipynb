{
 "cells": [
  {
   "cell_type": "code",
   "execution_count": 3,
   "id": "f5bddd7a",
   "metadata": {},
   "outputs": [
    {
     "name": "stdout",
     "output_type": "stream",
     "text": [
      "> \u001b[1;32mc:\\users\\dharmesh.kanzariya\\appdata\\local\\temp\\ipykernel_43012\\4134536853.py\u001b[0m(15)\u001b[0;36madd_two_numbers\u001b[1;34m()\u001b[0m\n",
      "\n",
      "ipdb> c\n"
     ]
    }
   ],
   "source": [
    "import pdb\n",
    "\n",
    "def add_two_numbers(a, b):\n",
    "    \"\"\"Adds two numbers together.\n",
    "\n",
    "    Args:\n",
    "        a: The first number.\n",
    "        b: The second number.\n",
    "\n",
    "    Returns:\n",
    "        The sum of the two numbers.\n",
    "    \"\"\"\n",
    "\n",
    "    pdb.set_trace()\n",
    "    return a + b\n",
    "\n",
    "result = add_two_numbers(1, 2)\n"
   ]
  },
  {
   "cell_type": "markdown",
   "id": "d43a2ca2",
   "metadata": {},
   "source": [
    "import pdb;\n",
    "pdb.trace()\n",
    "%pdb\n",
    "%debug"
   ]
  },
  {
   "cell_type": "code",
   "execution_count": 1,
   "id": "7c4acb49",
   "metadata": {},
   "outputs": [
    {
     "name": "stdout",
     "output_type": "stream",
     "text": [
      "Hi, Hello World Dharmesh -> https://www.jetbrains.com/help/pycharm/quick-start-guide.html\n"
     ]
    }
   ],
   "source": [
    "# This is a sample Python script.\n",
    "\n",
    "# Press Shift+F10 to execute it or replace it with your code.\n",
    "# Press Double Shift to search everywhere for classes, files, tool windows, actions, and settings.\n",
    "\n",
    "def print_hi(name):\n",
    "    # Use a breakpoint in the code line below to debug your script.\n",
    "    print(f'Hi, {name}')  # Press Ctrl+F8 to toggle the breakpoint.\n",
    "\n",
    "# Press the green button in the gutter to run the script.\n",
    "if __name__ == '__main__':\n",
    "    print_hi('Hello World Dharmesh -> https://www.jetbrains.com/help/pycharm/quick-start-guide.html')\n",
    "\n",
    "# See PyCharm help at https://www.jetbrains.com/help/pycharm/"
   ]
  },
  {
   "cell_type": "code",
   "execution_count": null,
   "id": "6378b0a5",
   "metadata": {},
   "outputs": [],
   "source": [
    "# Function to find the smallest lexicographical string\n",
    "import pdb;\n",
    "def smallest_lexicographical_string(N, test_cases):\n",
    "    results = []\n",
    "\n",
    "    for i in range(N):\n",
    "        K, S = test_cases[i]\n",
    "        result = []\n",
    "\n",
    "        while len(S) > 0:\n",
    "            max_chars = min(K, len(S))\n",
    "            candidates = S[:max_chars]\n",
    "            min_char = min(candidates)\n",
    "            result.append(min_char)\n",
    "\n",
    "            # Update S to remove the processed characters\n",
    "            S = S.replace(min_char, \"\", 1)\n",
    "            pdb.set_trace()\n",
    "        results.append(\"\".join(result))\n",
    "\n",
    "    return results"
   ]
  },
  {
   "cell_type": "code",
   "execution_count": null,
   "id": "a491acf5",
   "metadata": {},
   "outputs": [],
   "source": [
    "# Read input\n",
    "N = 1\n",
    "test_cases = []\n",
    "\n",
    "for _ in range(N):\n",
    "#     K, S = input().split()\n",
    "#     K = int(K)\n",
    "    test_cases.append((2, \"abab\"))\n",
    "\n",
    "# Find and print the smallest lexicographical strings\n",
    "results = smallest_lexicographical_string(N, test_cases)\n",
    "\n",
    "for result in results:\n",
    "    print(result)"
   ]
  },
  {
   "cell_type": "code",
   "execution_count": 33,
   "id": "1955c225",
   "metadata": {},
   "outputs": [
    {
     "name": "stdout",
     "output_type": "stream",
     "text": [
      "m m\n",
      "m a\n",
      "a a\n",
      "a d\n",
      "d d\n",
      "d a\n",
      "a a\n",
      "a m\n",
      "m m\n"
     ]
    },
    {
     "ename": "IndexError",
     "evalue": "string index out of range",
     "output_type": "error",
     "traceback": [
      "\u001b[1;31m---------------------------------------------------------------------------\u001b[0m",
      "\u001b[1;31mIndexError\u001b[0m                                Traceback (most recent call last)",
      "\u001b[1;32m~\\AppData\\Local\\Temp\\ipykernel_61024\\384556603.py\u001b[0m in \u001b[0;36m<module>\u001b[1;34m\u001b[0m\n\u001b[0;32m     29\u001b[0m \u001b[1;33m\u001b[0m\u001b[0m\n\u001b[0;32m     30\u001b[0m \u001b[1;31m# Calculate and print the result\u001b[0m\u001b[1;33m\u001b[0m\u001b[1;33m\u001b[0m\u001b[0m\n\u001b[1;32m---> 31\u001b[1;33m \u001b[0mresult\u001b[0m \u001b[1;33m=\u001b[0m \u001b[0mcount_palindromes\u001b[0m\u001b[1;33m(\u001b[0m\u001b[0minput_str\u001b[0m\u001b[1;33m)\u001b[0m\u001b[1;33m\u001b[0m\u001b[1;33m\u001b[0m\u001b[0m\n\u001b[0m\u001b[0;32m     32\u001b[0m \u001b[0mprint\u001b[0m\u001b[1;33m(\u001b[0m\u001b[0mresult\u001b[0m\u001b[1;33m)\u001b[0m\u001b[1;33m\u001b[0m\u001b[1;33m\u001b[0m\u001b[0m\n",
      "\u001b[1;32m~\\AppData\\Local\\Temp\\ipykernel_61024\\384556603.py\u001b[0m in \u001b[0;36mcount_palindromes\u001b[1;34m(input_str)\u001b[0m\n\u001b[0;32m     18\u001b[0m \u001b[1;33m\u001b[0m\u001b[0m\n\u001b[0;32m     19\u001b[0m         \u001b[1;31m# Expand for even length palindromes\u001b[0m\u001b[1;33m\u001b[0m\u001b[1;33m\u001b[0m\u001b[0m\n\u001b[1;32m---> 20\u001b[1;33m         \u001b[0mexpand_around_center\u001b[0m\u001b[1;33m(\u001b[0m\u001b[0mi\u001b[0m\u001b[1;33m,\u001b[0m \u001b[0mi\u001b[0m \u001b[1;33m+\u001b[0m \u001b[1;36m1\u001b[0m\u001b[1;33m)\u001b[0m\u001b[1;33m\u001b[0m\u001b[1;33m\u001b[0m\u001b[0m\n\u001b[0m\u001b[0;32m     21\u001b[0m \u001b[1;33m\u001b[0m\u001b[0m\n\u001b[0;32m     22\u001b[0m     \u001b[1;31m# Add the single characters as palindromes\u001b[0m\u001b[1;33m\u001b[0m\u001b[1;33m\u001b[0m\u001b[0m\n",
      "\u001b[1;32m~\\AppData\\Local\\Temp\\ipykernel_61024\\384556603.py\u001b[0m in \u001b[0;36mexpand_around_center\u001b[1;34m(left, right)\u001b[0m\n\u001b[0;32m      6\u001b[0m     \u001b[1;32mdef\u001b[0m \u001b[0mexpand_around_center\u001b[0m\u001b[1;33m(\u001b[0m\u001b[0mleft\u001b[0m\u001b[1;33m,\u001b[0m \u001b[0mright\u001b[0m\u001b[1;33m)\u001b[0m\u001b[1;33m:\u001b[0m\u001b[1;33m\u001b[0m\u001b[1;33m\u001b[0m\u001b[0m\n\u001b[0;32m      7\u001b[0m         \u001b[1;32mnonlocal\u001b[0m \u001b[0mcount\u001b[0m\u001b[1;33m\u001b[0m\u001b[1;33m\u001b[0m\u001b[0m\n\u001b[1;32m----> 8\u001b[1;33m         \u001b[0mprint\u001b[0m\u001b[1;33m(\u001b[0m\u001b[0minput_str\u001b[0m\u001b[1;33m[\u001b[0m\u001b[0mleft\u001b[0m\u001b[1;33m]\u001b[0m\u001b[1;33m,\u001b[0m \u001b[0minput_str\u001b[0m\u001b[1;33m[\u001b[0m\u001b[0mright\u001b[0m\u001b[1;33m]\u001b[0m\u001b[1;33m)\u001b[0m\u001b[1;33m\u001b[0m\u001b[1;33m\u001b[0m\u001b[0m\n\u001b[0m\u001b[0;32m      9\u001b[0m         \u001b[1;32mwhile\u001b[0m \u001b[0mleft\u001b[0m \u001b[1;33m>=\u001b[0m \u001b[1;36m0\u001b[0m \u001b[1;32mand\u001b[0m \u001b[0mright\u001b[0m \u001b[1;33m<\u001b[0m \u001b[0mn\u001b[0m \u001b[1;32mand\u001b[0m \u001b[0minput_str\u001b[0m\u001b[1;33m[\u001b[0m\u001b[0mleft\u001b[0m\u001b[1;33m]\u001b[0m \u001b[1;33m==\u001b[0m \u001b[0minput_str\u001b[0m\u001b[1;33m[\u001b[0m\u001b[0mright\u001b[0m\u001b[1;33m]\u001b[0m\u001b[1;33m:\u001b[0m\u001b[1;33m\u001b[0m\u001b[1;33m\u001b[0m\u001b[0m\n\u001b[0;32m     10\u001b[0m             \u001b[0mcount\u001b[0m \u001b[1;33m+=\u001b[0m \u001b[1;36m1\u001b[0m\u001b[1;33m\u001b[0m\u001b[1;33m\u001b[0m\u001b[0m\n",
      "\u001b[1;31mIndexError\u001b[0m: string index out of range"
     ]
    }
   ],
   "source": [
    "def count_palindromes(input_str):\n",
    "    count = 0\n",
    "    n = len(input_str)\n",
    "    \n",
    "    # Helper function to expand around a center\n",
    "    def expand_around_center(left, right):\n",
    "        nonlocal count\n",
    "        print(input_str[left], input_str[right])\n",
    "        while left >= 0 and right < n and input_str[left] == input_str[right]:\n",
    "            count += 1\n",
    "            left -= 1\n",
    "            right += 1\n",
    "    \n",
    "    # Iterate through each character as a potential center\n",
    "    for i in range(n):\n",
    "        # Expand for odd length palindromes\n",
    "        expand_around_center(i, i)\n",
    "        \n",
    "        # Expand for even length palindromes\n",
    "        expand_around_center(i, i + 1)\n",
    "    \n",
    "    # Add the single characters as palindromes\n",
    "    #count += n\n",
    "    #print(n)\n",
    "    return count\n",
    "\n",
    "# Input\n",
    "input_str = \"madam\"\n",
    "\n",
    "# Calculate and print the result\n",
    "result = count_palindromes(input_str)\n",
    "print(result)"
   ]
  },
  {
   "cell_type": "code",
   "execution_count": 28,
   "id": "23ff745e",
   "metadata": {},
   "outputs": [
    {
     "name": "stdout",
     "output_type": "stream",
     "text": [
      "110\n"
     ]
    }
   ],
   "source": [
    "def count_passwords(m, n):\n",
    "    MOD = 10**9 + 7\n",
    "    \n",
    "    # Calculate the number of lowercase English letters and digits\n",
    "    num_lowercase_letters = ord('z') - ord('a') + 1\n",
    "    num_digits = 10\n",
    "    \n",
    "    # Initialize the result to 0\n",
    "    result = 0\n",
    "    \n",
    "    # Loop through possible password lengths from m to n\n",
    "    for length in range(m, n + 1):\n",
    "        # Calculate the number of possibilities for the first character (lowercase letter)\n",
    "        if length == m:\n",
    "            possibilities = num_lowercase_letters\n",
    "        elif length == n:\n",
    "            possibilities = num_digits\n",
    "        else:\n",
    "            possibilities = num_lowercase_letters + num_digits\n",
    "        \n",
    "        # Calculate the number of possibilities for the middle characters (lowercase letters and digits)\n",
    "        possibilities **= (length - 2)\n",
    "        \n",
    "        # Calculate the number of possibilities for the last character (digit)\n",
    "        possibilities *= num_digits\n",
    "        \n",
    "        # Add the possibilities to the result\n",
    "        result += possibilities\n",
    "    \n",
    "    # Take the result modulo 10^9 + 7\n",
    "    result %= MOD\n",
    "    \n",
    "    return result\n",
    "\n",
    "# Input\n",
    "m = 2\n",
    "n = 3\n",
    "\n",
    "# Calculate and print the result\n",
    "result = count_passwords(m, n)\n",
    "print(result)"
   ]
  },
  {
   "cell_type": "code",
   "execution_count": 25,
   "id": "92c1fae9",
   "metadata": {},
   "outputs": [
    {
     "name": "stdout",
     "output_type": "stream",
     "text": [
      "2\n",
      "26\n",
      "260\n",
      "260\n",
      "3\n",
      "1296\n",
      "12960\n",
      "13220\n",
      "12960\n"
     ]
    }
   ],
   "source": [
    "def count_passwords(m, n):\n",
    "    MOD = 10**9 + 7\n",
    "    \n",
    "    # Calculate the number of lowercase English letters and digits\n",
    "    num_lowercase_letters = ord('z') - ord('a') + 1\n",
    "    num_digits = 10\n",
    "    \n",
    "    # Initialize the result to 0\n",
    "    result = 0\n",
    "    \n",
    "    # Loop through possible password lengths from m to n\n",
    "    for length in range(m, n + 1):\n",
    "        print(length)\n",
    "        #possibilities = 0\n",
    "        # Calculate the number of possibilities for the first character (lowercase letter)\n",
    "        if length == m:\n",
    "            possibilities = num_lowercase_letters\n",
    "        elif length == (n+1):\n",
    "            possibilities = num_digits\n",
    "        else:\n",
    "            possibilities = num_lowercase_letters + num_digits\n",
    "        \n",
    "        # Calculate the number of possibilities for the middle characters (lowercase letters and digits)\n",
    "        possibilities **= (length - 1)\n",
    "        print(possibilities)\n",
    "        #result += possibilities\n",
    "        #print(possibilities)\n",
    "        # Calculate the number of possibilities for the last character (digit)\n",
    "        possibilities *= num_digits\n",
    "        print(possibilities)\n",
    "        # Add the possibilities to the result\n",
    "        result += possibilities\n",
    "        print(result)\n",
    "    # Take the result modulo 10^9 + 7\n",
    "    result %= MOD\n",
    "    \n",
    "    return possibilities\n",
    "\n",
    "# Input\n",
    "m = 2\n",
    "n = 3\n",
    "\n",
    "# Calculate and print the result\n",
    "result = count_passwords(m, n)\n",
    "print(result)"
   ]
  },
  {
   "cell_type": "code",
   "execution_count": 9,
   "id": "ec1fa619",
   "metadata": {},
   "outputs": [
    {
     "name": "stdout",
     "output_type": "stream",
     "text": [
      "1\n",
      "2\n",
      "3\n",
      "4\n",
      "5\n",
      "6\n",
      "7\n",
      "8\n",
      "9\n",
      "9\n"
     ]
    }
   ],
   "source": [
    "def is_elegant(num):\n",
    "    # Convert the number to a string to work with individual digits\n",
    "    num_str = str(num)\n",
    "    \n",
    "    # Check if the number has exactly 2 digits\n",
    "    if len(num_str) % 2 != 0:\n",
    "        return False\n",
    "    \n",
    "    # Calculate the sum of the first and last digits\n",
    "    first_digit = int(num_str[0])\n",
    "    last_digit = int(num_str[1])\n",
    "    if first_digit == last_digit:\n",
    "        return first_digit + last_digit\n",
    "\n",
    "def count_elegant_numbers(L, R):\n",
    "    count = 0\n",
    "    for num in range(L, R + 1):\n",
    "        if is_elegant(num):\n",
    "            count += 1\n",
    "            print(count)\n",
    "    return count\n",
    "\n",
    "# Input\n",
    "T = int(1)\n",
    "for _ in range(T):\n",
    "    L, R = (1, 100)\n",
    "    \n",
    "    result = count_elegant_numbers(L, R)\n",
    "    print(result)\n"
   ]
  },
  {
   "cell_type": "code",
   "execution_count": 48,
   "id": "c265ab3a",
   "metadata": {},
   "outputs": [
    {
     "name": "stdout",
     "output_type": "stream",
     "text": [
      "No\n"
     ]
    }
   ],
   "source": [
    "def find_xor_sum(arr, x):\n",
    "    xor_sum = 0\n",
    "    for a in arr:\n",
    "        xor_sum += x ^ a\n",
    "    return xor_sum\n",
    "\n",
    "def find_or_sum(arr, x):\n",
    "    or_sum = 0\n",
    "    for a in arr:\n",
    "        or_sum += x | a\n",
    "    return or_sum\n",
    "\n",
    "# Read input\n",
    "N = 3\n",
    "K = 7\n",
    "arr = [1, 6, 3]\n",
    "\n",
    "# Find the maximum XOR_SUM(x)\n",
    "max_xor_sum = -1\n",
    "max_x = -1\n",
    "for x in range(K + 1):\n",
    "    xor_sum = find_xor_sum(arr, x)\n",
    "    if xor_sum > max_xor_sum:\n",
    "        max_xor_sum = xor_sum\n",
    "        max_x = x\n",
    "\n",
    "# Calculate OR_SUM(max_x)\n",
    "or_sum = find_or_sum(arr, max_x)\n",
    "\n",
    "# Check if OR_SUM(max_x) is equal to XOR_SUM(max_x)\n",
    "if or_sum == max_xor_sum:\n",
    "    print(\"Yes\")\n",
    "else:\n",
    "    print(\"No\")"
   ]
  },
  {
   "cell_type": "code",
   "execution_count": 47,
   "id": "a3c1b6c7",
   "metadata": {},
   "outputs": [
    {
     "name": "stdout",
     "output_type": "stream",
     "text": [
      "q\n"
     ]
    },
    {
     "ename": "ValueError",
     "evalue": "invalid literal for int() with base 10: 'q'",
     "output_type": "error",
     "traceback": [
      "\u001b[1;31m---------------------------------------------------------------------------\u001b[0m",
      "\u001b[1;31mValueError\u001b[0m                                Traceback (most recent call last)",
      "\u001b[1;32m~\\AppData\\Local\\Temp\\ipykernel_18672\\600820927.py\u001b[0m in \u001b[0;36m<module>\u001b[1;34m\u001b[0m\n\u001b[0;32m     16\u001b[0m \u001b[1;33m\u001b[0m\u001b[0m\n\u001b[0;32m     17\u001b[0m \u001b[1;31m# Read the number of test cases\u001b[0m\u001b[1;33m\u001b[0m\u001b[1;33m\u001b[0m\u001b[0m\n\u001b[1;32m---> 18\u001b[1;33m \u001b[0mt\u001b[0m \u001b[1;33m=\u001b[0m \u001b[0mint\u001b[0m\u001b[1;33m(\u001b[0m\u001b[0minput\u001b[0m\u001b[1;33m(\u001b[0m\u001b[1;33m)\u001b[0m\u001b[1;33m)\u001b[0m\u001b[1;33m\u001b[0m\u001b[1;33m\u001b[0m\u001b[0m\n\u001b[0m\u001b[0;32m     19\u001b[0m \u001b[1;33m\u001b[0m\u001b[0m\n\u001b[0;32m     20\u001b[0m \u001b[1;32mfor\u001b[0m \u001b[0m_\u001b[0m \u001b[1;32min\u001b[0m \u001b[0mrange\u001b[0m\u001b[1;33m(\u001b[0m\u001b[0mt\u001b[0m\u001b[1;33m)\u001b[0m\u001b[1;33m:\u001b[0m\u001b[1;33m\u001b[0m\u001b[1;33m\u001b[0m\u001b[0m\n",
      "\u001b[1;31mValueError\u001b[0m: invalid literal for int() with base 10: 'q'"
     ]
    }
   ],
   "source": [
    "def maximum_money_saved(data_plans):\n",
    "    data_plans.sort(reverse=True)  # Sort the data plans in descending order\n",
    "    max_money_saved = 0\n",
    "    mask = 0  # Mask to keep track of invited friends\n",
    "    sumdata = sum(data_plans)\n",
    "    for cost in data_plans:\n",
    "        if (mask | cost) == mask:  # Check if inviting current friend adds value\n",
    "            continue\n",
    "        mask |= cost  # Set the bits corresponding to friends invited by the current data plan\n",
    "        max_money_saved += cost  # Add the cost of the current data plan to the saved money\n",
    "\n",
    "        if mask == (1 << len(data_plans)) - 1:\n",
    "            break  # If all friends are invited, no need to consider further data plans\n",
    "        sumdata -= max_money_saved\n",
    "    return sumdata if sumdata > 0 else 0\n",
    "\n",
    "# Read the number of test cases\n",
    "t = int(input())\n",
    "\n",
    "for _ in range(t):\n",
    "    n = int(input())  # Read the number of data plans\n",
    "    data_plans = list(map(int, input().split(',')))  # Read the costs of data plans\n",
    "    result = maximum_money_saved(data_plans)\n",
    "    print(result)\n",
    "\n",
    "    "
   ]
  },
  {
   "cell_type": "code",
   "execution_count": 29,
   "id": "e4b3f9f8",
   "metadata": {},
   "outputs": [
    {
     "name": "stdout",
     "output_type": "stream",
     "text": [
      "Ben\n"
     ]
    }
   ],
   "source": [
    "def is_power_of_two(n):\n",
    "    return n & (n - 1) == 0\n",
    "\n",
    "def determine_winner(n):\n",
    "    jenny_turn = True\n",
    "\n",
    "    while n > 1:\n",
    "        if is_power_of_two(n):\n",
    "            n //= 2\n",
    "        else:\n",
    "            largest_power_of_two = 1\n",
    "            while largest_power_of_two * 2 < n:\n",
    "                largest_power_of_two *= 2\n",
    "            n -= largest_power_of_two\n",
    "        \n",
    "        jenny_turn = not jenny_turn\n",
    "\n",
    "    return \"Ben\" if jenny_turn else \"Jenny\"\n",
    "\n",
    "t = 1\n",
    "for _ in range(t):\n",
    "    n = 6\n",
    "    winner = determine_winner(n)\n",
    "    print(winner)\n"
   ]
  },
  {
   "cell_type": "code",
   "execution_count": 35,
   "id": "4fd6d8d1",
   "metadata": {},
   "outputs": [
    {
     "name": "stdout",
     "output_type": "stream",
     "text": [
      "8\n"
     ]
    }
   ],
   "source": [
    "n = 16\n",
    "n //= 2\n",
    "print(n)"
   ]
  },
  {
   "cell_type": "code",
   "execution_count": 27,
   "id": "22ec4edf",
   "metadata": {},
   "outputs": [
    {
     "name": "stdout",
     "output_type": "stream",
     "text": [
      "[0, 0, 0, 0, 0]\n",
      "[1, 2, 3, 4, 5]\n",
      "5\n"
     ]
    }
   ],
   "source": [
    "def count_palindromic_partitions(s):\n",
    "    n = len(s)\n",
    "    dp = [0] * n\n",
    "    print(dp)\n",
    "    for i in range(n):\n",
    "        dp[i] = i + 1  # Initialize with maximum possible partitions\n",
    "        \n",
    "        for j in range(i+1):\n",
    "            if s[j:i+1] == s[j:i+1][::-1]:\n",
    "                if j == 0:\n",
    "                    dp[i] = 1\n",
    "                else:\n",
    "                    dp[i] = min(dp[i], dp[j-1] + 1)\n",
    "    print(dp)\n",
    "    return dp[n-1]\n",
    "\n",
    "# Read input\n",
    "s = 'mjpmo'\n",
    "# s = 'abcba'\n",
    "\n",
    "# Calculate and print the result\n",
    "result = count_palindromic_partitions(s)\n",
    "print(result)\n"
   ]
  },
  {
   "cell_type": "code",
   "execution_count": 14,
   "id": "cb0a6bc5",
   "metadata": {},
   "outputs": [
    {
     "name": "stdout",
     "output_type": "stream",
     "text": [
      "0\n",
      "0\n",
      "1\n",
      "1\n",
      "0\n",
      "0\n",
      "0\n",
      "2\n",
      "0\n",
      "0\n",
      "0\n",
      "0\n",
      "1\n",
      "0\n",
      "0\n",
      "1\n",
      "1\n",
      "0\n",
      "0\n",
      "5\n",
      "5\n"
     ]
    }
   ],
   "source": [
    "def count_combinations(numArray, groupSum):\n",
    "    def backtrack(start, target):\n",
    "        #print(start, target)\n",
    "        if target == 0:\n",
    "            return 1\n",
    "        if target < 0 or start >= len(numArray):\n",
    "            return 0\n",
    "        \n",
    "        count = 0\n",
    "        for i in range(start, len(numArray)):\n",
    "            if i > start and numArray[i] == numArray[i - 1]:\n",
    "                continue\n",
    "            count += backtrack(i + 1, target - numArray[i])\n",
    "        #print(count)\n",
    "        return count\n",
    "    \n",
    "    numArray.sort()  # Sort the array to handle duplicates\n",
    "    return backtrack(0, groupSum)\n",
    "\n",
    "# Read input\n",
    "numArray = [6,2,7,9,10,5,8]\n",
    "groupSum = 15\n",
    "\n",
    "# Calculate and print the result\n",
    "result = count_combinations(numArray, groupSum)\n",
    "print(result)"
   ]
  },
  {
   "cell_type": "code",
   "execution_count": 11,
   "id": "7595eee5",
   "metadata": {},
   "outputs": [
    {
     "name": "stdout",
     "output_type": "stream",
     "text": [
      "[2, 4, 6, 8]\n",
      "[6]\n",
      "6\n"
     ]
    }
   ],
   "source": [
    "import pdb;\n",
    "def apply_algorithm(arr):\n",
    "    while len(arr) > 1:\n",
    "        # Remove every other element from left to right\n",
    "        arr = arr[1::2]\n",
    "        print(arr)\n",
    "        if len(arr) <= 1:\n",
    "            break\n",
    "        \n",
    "        # Remove every other element from right to left\n",
    "        arr = arr[-2::-2]\n",
    "        arr.sort()\n",
    "        #print(arr)\n",
    "    return arr[0]\n",
    "\n",
    "# Read input\n",
    "n = 9\n",
    "arr = list(range(1, n+1))\n",
    "#print(arr, n)\n",
    "# Apply the algorithm and print the result\n",
    "result = apply_algorithm(arr)\n",
    "#%debug\n",
    "print(result)"
   ]
  },
  {
   "cell_type": "code",
   "execution_count": null,
   "id": "6c9a4b66",
   "metadata": {},
   "outputs": [
    {
     "name": "stdout",
     "output_type": "stream",
     "text": [
      "[3, 2, 1]\n",
      "> \u001b[1;32mc:\\users\\dharmesh.kanzariya\\appdata\\local\\temp\\ipykernel_21304\\1316770873.py\u001b[0m(19)\u001b[0;36m<module>\u001b[1;34m()\u001b[0m\n",
      "\n",
      "ipdb> remaining_ids\n",
      "2\n",
      "ipdb> sorted_counts\n",
      "[3, 2, 1]\n",
      "ipdb> count\n",
      "3\n",
      "ipdb> m\n",
      "0\n"
     ]
    }
   ],
   "source": [
    "import pdb;\n",
    "from collections import Counter\n",
    "\n",
    "# Read the size of the array and the array itself\n",
    "n = 6\n",
    "ids = [1, 2, 3, 1, 2, 2]\n",
    "\n",
    "# Read the maximum number of items that can be deleted\n",
    "m = 3\n",
    "\n",
    "# Count the occurrences of each ID\n",
    "id_counts = Counter(ids)\n",
    "\n",
    "# Sort the occurrences in descending order\n",
    "sorted_counts = sorted(id_counts.values(), reverse=True)\n",
    "print(sorted_counts)\n",
    "# Calculate the number of different IDs remaining after removing m items\n",
    "remaining_ids = len(sorted_counts)\n",
    "for count in sorted_counts:\n",
    "    if m >= count:\n",
    "        m -= count\n",
    "        remaining_ids -= 1\n",
    "    else:\n",
    "        break\n",
    "    pdb.set_trace()\n",
    "\n",
    "# Print the result\n",
    "print(remaining_ids)"
   ]
  },
  {
   "cell_type": "code",
   "execution_count": 156,
   "id": "e6607fac",
   "metadata": {},
   "outputs": [
    {
     "name": "stdout",
     "output_type": "stream",
     "text": [
      "0 1\n",
      "0 2\n",
      "0 3\n",
      "1 2\n",
      "1 3\n",
      "2 3\n",
      "16000\n"
     ]
    }
   ],
   "source": [
    "# Read the number of test cases\n",
    "T = 1\n",
    "# Iterate over each test case\n",
    "def calculate_total_cost(combination, costs):\n",
    "    return max(costs[combination[0]], costs[combination[1]])\n",
    "\n",
    "# Iterate over each test case\n",
    "for _ in range(T):\n",
    "    N = 4\n",
    "    costs = [300, 400, 600, 700]\n",
    "\n",
    "    # Initialize the minimum total cost with a large value\n",
    "    min_total_cost = 0\n",
    "\n",
    "    # Consider all possible combinations of two people\n",
    "    for i in range(N):\n",
    "        for j in range(i + 1, N):\n",
    "            current_combination = (i, j)\n",
    "            current_total_cost = calculate_total_cost(current_combination, costs)\n",
    "            min_total_cost += max(min_total_cost, current_total_cost)\n",
    "            print(i, j)\n",
    "    # Print the minimum total cost for the current test case\n",
    "    print(min_total_cost)\n"
   ]
  },
  {
   "cell_type": "code",
   "execution_count": 135,
   "id": "4e3d9a68",
   "metadata": {},
   "outputs": [
    {
     "name": "stdout",
     "output_type": "stream",
     "text": [
      "Counter({'a': 4, 'c': 4, 'b': 2, 'd': 2})\n"
     ]
    },
    {
     "ename": "AttributeError",
     "evalue": "'str' object has no attribute 'odd'",
     "output_type": "error",
     "traceback": [
      "\u001b[1;31m---------------------------------------------------------------------------\u001b[0m",
      "\u001b[1;31mAttributeError\u001b[0m                            Traceback (most recent call last)",
      "\u001b[1;32m~\\AppData\\Local\\Temp\\ipykernel_21304\\4163673412.py\u001b[0m in \u001b[0;36m<module>\u001b[1;34m\u001b[0m\n\u001b[0;32m     13\u001b[0m \u001b[0mlength_of_string\u001b[0m \u001b[1;33m=\u001b[0m \u001b[0mlen\u001b[0m\u001b[1;33m(\u001b[0m\u001b[0mS\u001b[0m\u001b[1;33m)\u001b[0m\u001b[1;33m\u001b[0m\u001b[1;33m\u001b[0m\u001b[0m\n\u001b[0;32m     14\u001b[0m \u001b[1;32mfor\u001b[0m \u001b[0mvalue\u001b[0m \u001b[1;32min\u001b[0m \u001b[0mfrequency_counter\u001b[0m\u001b[1;33m:\u001b[0m\u001b[1;33m\u001b[0m\u001b[1;33m\u001b[0m\u001b[0m\n\u001b[1;32m---> 15\u001b[1;33m     \u001b[0mvalue\u001b[0m\u001b[1;33m.\u001b[0m\u001b[0modd\u001b[0m\u001b[1;33m(\u001b[0m\u001b[1;33m)\u001b[0m\u001b[1;33m\u001b[0m\u001b[1;33m\u001b[0m\u001b[0m\n\u001b[0m\u001b[0;32m     16\u001b[0m     \u001b[0mmax_frequency\u001b[0m \u001b[1;33m=\u001b[0m \u001b[1;36m1\u001b[0m\u001b[1;33m\u001b[0m\u001b[1;33m\u001b[0m\u001b[0m\n\u001b[0;32m     17\u001b[0m \u001b[1;31m# Calculate the minimum length required for each piece\u001b[0m\u001b[1;33m\u001b[0m\u001b[1;33m\u001b[0m\u001b[0m\n",
      "\u001b[1;31mAttributeError\u001b[0m: 'str' object has no attribute 'odd'"
     ]
    }
   ],
   "source": [
    "from collections import Counter\n",
    "\n",
    "# Read the input string\n",
    "S = \"abccdcabacda\"\n",
    "\n",
    "# Count the frequency of each character\n",
    "frequency_counter = Counter(S)\n",
    "print(frequency_counter)\n",
    "# Find the maximum frequency\n",
    "max_frequency = min(frequency_counter.values())\n",
    "\n",
    "# Calculate the length of the string\n",
    "length_of_string = len(S)\n",
    "for value in frequency_counter:\n",
    "    value.odd()\n",
    "    max_frequency = 1\n",
    "# Calculate the minimum length required for each piece\n",
    "#min_piece_length = length_of_string // max_frequency\n",
    "\n",
    "# Print the maximum number of pieces\n",
    "print(max_frequency)\n"
   ]
  },
  {
   "cell_type": "code",
   "execution_count": 130,
   "id": "aea98925",
   "metadata": {},
   "outputs": [
    {
     "ename": "SyntaxError",
     "evalue": "invalid syntax (947353516.py, line 9)",
     "output_type": "error",
     "traceback": [
      "\u001b[1;36m  File \u001b[1;32m\"C:\\Users\\dharmesh.kanzariya\\AppData\\Local\\Temp\\ipykernel_21304\\947353516.py\"\u001b[1;36m, line \u001b[1;32m9\u001b[0m\n\u001b[1;33m    print(n >>= 1)\u001b[0m\n\u001b[1;37m            ^\u001b[0m\n\u001b[1;31mSyntaxError\u001b[0m\u001b[1;31m:\u001b[0m invalid syntax\n"
     ]
    }
   ],
   "source": [
    "start = int(input())\n",
    "end = int(input())\n",
    "  \n",
    "def count_set_bits(n):\n",
    "    count = 0\n",
    "    while n:\n",
    "        count += n & 1\n",
    "        n >>= 1\n",
    "        print(n >>= 1)\n",
    "    return count\n",
    "\n",
    "def is_prime(num):\n",
    "\tif num <= 1:\n",
    "\t\treturn False\n",
    "\tfor i in range(2, int(num ** 0.5) + 1):\n",
    "\t\tif num % i == 0:\n",
    "\t\t\treturn False\n",
    "\treturn True\n",
    "          \n",
    "count = 0\n",
    "for num in range(start, end+1):\n",
    "\tset_bits = count_set_bits(num)\n",
    "\tif is_prime(set_bits):\n",
    "\t\tcount += 1\n",
    "print(count)"
   ]
  },
  {
   "cell_type": "code",
   "execution_count": 123,
   "id": "92194fe4",
   "metadata": {},
   "outputs": [
    {
     "name": "stdout",
     "output_type": "stream",
     "text": [
      "2\n",
      "5\n"
     ]
    }
   ],
   "source": [
    "import math\n",
    "\n",
    "# Read the number of test cases\n",
    "T = 1\n",
    "\n",
    "# Process each test case\n",
    "for _ in range(T):\n",
    "    N = 2\n",
    "    A, B, C, D = (2,2,1,4)\n",
    "\n",
    "    # Calculate the time needed for each leg of the journey\n",
    "    time_C1_C2 = math.ceil(N / A)\n",
    "    time_C2_C3 = math.ceil(N / B)\n",
    "    time_C3_C4 = math.ceil(N / C)\n",
    "    time_C4_C5 = math.ceil(N / D)\n",
    "    #print(time_C3_C4)\n",
    "    # Calculate the total time taken\n",
    "    total_time = time_C1_C2 + time_C2_C3 + time_C3_C4 + time_C4_C5\n",
    "\n",
    "    # Print the total time\n",
    "    print(total_time)\n"
   ]
  },
  {
   "cell_type": "code",
   "execution_count": 114,
   "id": "2970ed59",
   "metadata": {},
   "outputs": [
    {
     "name": "stdout",
     "output_type": "stream",
     "text": [
      "cba\n"
     ]
    }
   ],
   "source": [
    "# Read the number of sequences\n",
    "N = 1\n",
    "\n",
    "# Process each test case\n",
    "for _ in range(N):\n",
    "    K, S = (1, \"cba\")\n",
    "    K = int(K)\n",
    "\n",
    "    # Convert the string to a list for easy manipulation\n",
    "    S = list(S)\n",
    "\n",
    "    while S:\n",
    "        # Find the smallest character among the first K beads\n",
    "        min_char = min(S[:K])\n",
    "\n",
    "        # Find the first occurrence of the smallest character\n",
    "        min_index = S.index(min_char)\n",
    "\n",
    "        # Print the smallest character\n",
    "        print(min_char, end='')\n",
    "\n",
    "        # Remove it from S\n",
    "        S.pop(min_index)\n",
    "\n",
    "    # Print a new line after processing each test case\n",
    "    print()"
   ]
  },
  {
   "cell_type": "code",
   "execution_count": 118,
   "id": "2ae1d75e",
   "metadata": {},
   "outputs": [
    {
     "name": "stdout",
     "output_type": "stream",
     "text": [
      "1\n",
      "5\n",
      "2\n",
      "0b101\n",
      "1\n"
     ]
    }
   ],
   "source": [
    "def has_desired_numbers(N):\n",
    "    # Count the number of set bits in N\n",
    "    count_set_bits = bin(N).count('1')\n",
    "    print(count_set_bits)\n",
    "    print(bin(N))\n",
    "    # If there are at least two set bits, we can satisfy the conditions\n",
    "    return count_set_bits >= 2\n",
    "\n",
    "# Read the number of test cases\n",
    "T = int(input())\n",
    "\n",
    "# Process each test case\n",
    "for _ in range(T):\n",
    "    N = int(input())\n",
    "    if has_desired_numbers(N):\n",
    "        print(1)\n",
    "    else:\n",
    "        print(0)\n"
   ]
  },
  {
   "cell_type": "code",
   "execution_count": null,
   "id": "9ef08745",
   "metadata": {},
   "outputs": [],
   "source": []
  },
  {
   "cell_type": "code",
   "execution_count": 79,
   "id": "eccfd26c",
   "metadata": {},
   "outputs": [
    {
     "name": "stdout",
     "output_type": "stream",
     "text": [
      "a\n",
      "a\n",
      "aa\n"
     ]
    }
   ],
   "source": [
    "# Read the number of sequences\n",
    "N = 1\n",
    "\n",
    "# Process each test case\n",
    "for _ in range(N):\n",
    "    K, S = (2, \"abab\")\n",
    "    K = int(K)\n",
    "\n",
    "    # Convert the string to a list for easy manipulation\n",
    "    S = list(S)\n",
    "\n",
    "    result = []  # To store the resulting string\n",
    "\n",
    "    for _ in S:\n",
    "        min_index = 0\n",
    "\n",
    "        # Find the smallest character among the first K beads\n",
    "        for i in range(1, min(K, len(S))):\n",
    "            if S[i] < S[min_index]:\n",
    "                min_index = i\n",
    "            print(S[min_index])\n",
    "        # Append the smallest character to the result and remove it from S\n",
    "        result.append(S.pop(min_index))\n",
    "\n",
    "    # Convert the result list back to a string and print\n",
    "    print(''.join(result))"
   ]
  },
  {
   "cell_type": "code",
   "execution_count": null,
   "id": "6c9ca453",
   "metadata": {},
   "outputs": [],
   "source": [
    "# Read the number of test cases\n",
    "T = int(input())\n",
    "\n",
    "# Iterate through each test case\n",
    "for _ in range(T):\n",
    "    # Read N and K\n",
    "    N, K = map(int, input().split())\n",
    "\n",
    "    # Read the string S\n",
    "    S = input()\n",
    "\n",
    "    # Create a dictionary to store the count of occurrences for each character\n",
    "    char_count = {}\n",
    "\n",
    "    # Iterate through the string S and update the character count\n",
    "    for char in S:\n",
    "        if char in char_count:\n",
    "            char_count[char] += 1\n",
    "        else:\n",
    "            char_count[char] = 1\n",
    "        print(char_count[char])\n",
    "        # Print the character K times if its count is less than or equal to K\n",
    "        if char_count[char] <= K:\n",
    "            print(char, end=\"\")\n",
    "\n",
    "    print()  # Print a newline after processing each test case\n"
   ]
  },
  {
   "cell_type": "code",
   "execution_count": 56,
   "id": "286a6cd8",
   "metadata": {},
   "outputs": [
    {
     "name": "stdout",
     "output_type": "stream",
     "text": [
      "11:21:30\n"
     ]
    }
   ],
   "source": [
    "def conv_time(time):\n",
    "    H, M, S = map(int, time[:-2].split(':'))\n",
    "    am_pm = time[-2:]\n",
    "    if am_pm == \"PM\" and H != 12:\n",
    "        H += 12\n",
    "    if am_pm == \"AM\" and H != 0:\n",
    "        H += 0\n",
    "    mil_time = \"{:02d}:{:02d}:{:02d}\".format(H, M, S)\n",
    "               \n",
    "    return mil_time\n",
    "time_input= \"11:21:30AM\"\n",
    "\n",
    "mil_time = conv_time(time_input)\n",
    "print(mil_time)"
   ]
  },
  {
   "cell_type": "code",
   "execution_count": 46,
   "id": "0ee9f93c",
   "metadata": {},
   "outputs": [
    {
     "name": "stdout",
     "output_type": "stream",
     "text": [
      "(5, 4)\n"
     ]
    }
   ],
   "source": [
    "N = 6\n",
    "students = [(3, 6), (1, 6), (7, 11), (2, 15), (5, 8), (1, 2)]\n",
    "\n",
    "\n",
    "students.sort()\n",
    "\n",
    "max_happy_students = 0\n",
    "min_sweets = float('-inf')\n",
    "sweet = []\n",
    "list_sweet = []\n",
    "# Iterate over sorted students' preferences\n",
    "for X, Y in students:\n",
    "    # Update min_sweets to make sure it's not less than X\n",
    "    min_sweets = max(min_sweets, X)\n",
    "\n",
    "    # Count the number of happy students for current sweets count\n",
    "    happy_students = sum(1 for X, Y in students if X <= min_sweets <= Y)\n",
    "    \n",
    "    # Update max_happy_students if current sweets count yields more happy students\n",
    "    if happy_students > max_happy_students:\n",
    "        max_happy_students = happy_students\n",
    "        min_sweets = min(min_sweets, X)\n",
    "    sweet = (min_sweets, max_happy_students)\n",
    "    #print(sweet)\n",
    "    \n",
    "    l_sweet = list(sweet)\n",
    "    #print(list_sweet)\n",
    "    list_sweet.append(l_sweet)\n",
    "    # Print the minimum number of sweets and the maximum number of happy students\n",
    "    \n",
    "#print(list_sweet)\n",
    "mins = float('inf')\n",
    "maxs = float('-inf')\n",
    "it = len(list_sweet)\n",
    "\n",
    "for x, y in list_sweet:\n",
    "    if x < mins:\n",
    "        mins = x\n",
    "        result = (x, y)\n",
    "    if y > maxs:\n",
    "        maxs = y\n",
    "        result = (x, y)\n",
    "print(result)"
   ]
  },
  {
   "cell_type": "code",
   "execution_count": 4,
   "id": "bc9ff091",
   "metadata": {},
   "outputs": [
    {
     "ename": "NameError",
     "evalue": "name 'min_sweets' is not defined",
     "output_type": "error",
     "traceback": [
      "\u001b[1;31m---------------------------------------------------------------------------\u001b[0m",
      "\u001b[1;31mNameError\u001b[0m                                 Traceback (most recent call last)",
      "\u001b[1;32m~\\AppData\\Local\\Temp\\ipykernel_21304\\1891980493.py\u001b[0m in \u001b[0;36m<module>\u001b[1;34m\u001b[0m\n\u001b[0;32m      2\u001b[0m \u001b[0mstudents\u001b[0m \u001b[1;33m=\u001b[0m \u001b[1;33m[\u001b[0m\u001b[1;33m(\u001b[0m\u001b[1;36m3\u001b[0m\u001b[1;33m,\u001b[0m \u001b[1;36m6\u001b[0m\u001b[1;33m)\u001b[0m\u001b[1;33m,\u001b[0m \u001b[1;33m(\u001b[0m\u001b[1;36m1\u001b[0m\u001b[1;33m,\u001b[0m \u001b[1;36m6\u001b[0m\u001b[1;33m)\u001b[0m\u001b[1;33m,\u001b[0m \u001b[1;33m(\u001b[0m\u001b[1;36m7\u001b[0m\u001b[1;33m,\u001b[0m \u001b[1;36m11\u001b[0m\u001b[1;33m)\u001b[0m\u001b[1;33m,\u001b[0m \u001b[1;33m(\u001b[0m\u001b[1;36m2\u001b[0m\u001b[1;33m,\u001b[0m \u001b[1;36m15\u001b[0m\u001b[1;33m)\u001b[0m\u001b[1;33m,\u001b[0m \u001b[1;33m(\u001b[0m\u001b[1;36m5\u001b[0m\u001b[1;33m,\u001b[0m \u001b[1;36m8\u001b[0m\u001b[1;33m)\u001b[0m\u001b[1;33m,\u001b[0m \u001b[1;33m(\u001b[0m\u001b[1;36m1\u001b[0m\u001b[1;33m,\u001b[0m \u001b[1;36m2\u001b[0m\u001b[1;33m)\u001b[0m\u001b[1;33m]\u001b[0m  \u001b[1;31m# List to store student preferences\u001b[0m\u001b[1;33m\u001b[0m\u001b[1;33m\u001b[0m\u001b[0m\n\u001b[0;32m      3\u001b[0m \u001b[1;33m\u001b[0m\u001b[0m\n\u001b[1;32m----> 4\u001b[1;33m \u001b[0mprint\u001b[0m\u001b[1;33m(\u001b[0m\u001b[0mmin_sweets\u001b[0m\u001b[1;33m,\u001b[0m \u001b[0mmax_happy_students\u001b[0m\u001b[1;33m)\u001b[0m\u001b[1;33m\u001b[0m\u001b[1;33m\u001b[0m\u001b[0m\n\u001b[0m",
      "\u001b[1;31mNameError\u001b[0m: name 'min_sweets' is not defined"
     ]
    }
   ],
   "source": [
    "N = 6\n",
    "students = [(3, 6), (1, 6), (7, 11), (2, 15), (5, 8), (1, 2)]  # List to store student preferences\n",
    "\n",
    "print(min_sweets, max_happy_students)"
   ]
  },
  {
   "cell_type": "code",
   "execution_count": 3,
   "id": "8fd1baaf",
   "metadata": {},
   "outputs": [
    {
     "name": "stdout",
     "output_type": "stream",
     "text": [
      "[(3, 6), (1, 6), (7, 11), (2, 15), (5, 8), (1, 2)]\n"
     ]
    }
   ],
   "source": [
    "print(students)"
   ]
  },
  {
   "cell_type": "code",
   "execution_count": 6,
   "id": "116d948c",
   "metadata": {},
   "outputs": [
    {
     "name": "stdout",
     "output_type": "stream",
     "text": [
      "Collecting jupyterthemes\n",
      "  Downloading jupyterthemes-0.20.0-py2.py3-none-any.whl (7.0 MB)\n",
      "     ---------------------------------------- 7.0/7.0 MB 3.0 MB/s eta 0:00:00\n",
      "Requirement already satisfied: notebook>=5.6.0 in c:\\users\\dharmesh.kanzariya\\anaconda3\\lib\\site-packages (from jupyterthemes) (6.4.12)\n",
      "Collecting lesscpy>=0.11.2\n",
      "  Downloading lesscpy-0.15.1-py2.py3-none-any.whl (46 kB)\n",
      "     ---------------------------------------- 46.7/46.7 kB 2.3 MB/s eta 0:00:00\n",
      "Requirement already satisfied: jupyter-core in c:\\users\\dharmesh.kanzariya\\anaconda3\\lib\\site-packages (from jupyterthemes) (4.11.1)\n",
      "Requirement already satisfied: ipython>=5.4.1 in c:\\users\\dharmesh.kanzariya\\anaconda3\\lib\\site-packages (from jupyterthemes) (7.31.1)\n",
      "Requirement already satisfied: matplotlib>=1.4.3 in c:\\users\\dharmesh.kanzariya\\anaconda3\\lib\\site-packages (from jupyterthemes) (3.5.2)\n",
      "Requirement already satisfied: matplotlib-inline in c:\\users\\dharmesh.kanzariya\\anaconda3\\lib\\site-packages (from ipython>=5.4.1->jupyterthemes) (0.1.6)\n",
      "Requirement already satisfied: colorama in c:\\users\\dharmesh.kanzariya\\anaconda3\\lib\\site-packages (from ipython>=5.4.1->jupyterthemes) (0.4.5)\n",
      "Requirement already satisfied: setuptools>=18.5 in c:\\users\\dharmesh.kanzariya\\anaconda3\\lib\\site-packages (from ipython>=5.4.1->jupyterthemes) (63.4.1)\n",
      "Requirement already satisfied: prompt-toolkit!=3.0.0,!=3.0.1,<3.1.0,>=2.0.0 in c:\\users\\dharmesh.kanzariya\\anaconda3\\lib\\site-packages (from ipython>=5.4.1->jupyterthemes) (3.0.20)\n",
      "Requirement already satisfied: pickleshare in c:\\users\\dharmesh.kanzariya\\anaconda3\\lib\\site-packages (from ipython>=5.4.1->jupyterthemes) (0.7.5)\n",
      "Requirement already satisfied: jedi>=0.16 in c:\\users\\dharmesh.kanzariya\\anaconda3\\lib\\site-packages (from ipython>=5.4.1->jupyterthemes) (0.18.1)\n",
      "Requirement already satisfied: backcall in c:\\users\\dharmesh.kanzariya\\anaconda3\\lib\\site-packages (from ipython>=5.4.1->jupyterthemes) (0.2.0)\n",
      "Requirement already satisfied: decorator in c:\\users\\dharmesh.kanzariya\\anaconda3\\lib\\site-packages (from ipython>=5.4.1->jupyterthemes) (5.1.1)\n",
      "Requirement already satisfied: traitlets>=4.2 in c:\\users\\dharmesh.kanzariya\\anaconda3\\lib\\site-packages (from ipython>=5.4.1->jupyterthemes) (5.1.1)\n",
      "Requirement already satisfied: pygments in c:\\users\\dharmesh.kanzariya\\anaconda3\\lib\\site-packages (from ipython>=5.4.1->jupyterthemes) (2.11.2)\n",
      "Collecting ply\n",
      "  Downloading ply-3.11-py2.py3-none-any.whl (49 kB)\n",
      "     -------------------------------------- 49.6/49.6 kB 634.3 kB/s eta 0:00:00\n",
      "Requirement already satisfied: pillow>=6.2.0 in c:\\users\\dharmesh.kanzariya\\anaconda3\\lib\\site-packages (from matplotlib>=1.4.3->jupyterthemes) (9.2.0)\n",
      "Requirement already satisfied: fonttools>=4.22.0 in c:\\users\\dharmesh.kanzariya\\anaconda3\\lib\\site-packages (from matplotlib>=1.4.3->jupyterthemes) (4.25.0)\n",
      "Requirement already satisfied: python-dateutil>=2.7 in c:\\users\\dharmesh.kanzariya\\anaconda3\\lib\\site-packages (from matplotlib>=1.4.3->jupyterthemes) (2.8.2)\n",
      "Requirement already satisfied: packaging>=20.0 in c:\\users\\dharmesh.kanzariya\\anaconda3\\lib\\site-packages (from matplotlib>=1.4.3->jupyterthemes) (21.3)\n",
      "Requirement already satisfied: kiwisolver>=1.0.1 in c:\\users\\dharmesh.kanzariya\\anaconda3\\lib\\site-packages (from matplotlib>=1.4.3->jupyterthemes) (1.4.2)\n",
      "Requirement already satisfied: numpy>=1.17 in c:\\users\\dharmesh.kanzariya\\anaconda3\\lib\\site-packages (from matplotlib>=1.4.3->jupyterthemes) (1.21.5)\n",
      "Requirement already satisfied: pyparsing>=2.2.1 in c:\\users\\dharmesh.kanzariya\\anaconda3\\lib\\site-packages (from matplotlib>=1.4.3->jupyterthemes) (3.0.9)\n",
      "Requirement already satisfied: cycler>=0.10 in c:\\users\\dharmesh.kanzariya\\anaconda3\\lib\\site-packages (from matplotlib>=1.4.3->jupyterthemes) (0.11.0)\n",
      "Requirement already satisfied: pyzmq>=17 in c:\\users\\dharmesh.kanzariya\\anaconda3\\lib\\site-packages (from notebook>=5.6.0->jupyterthemes) (23.2.0)\n",
      "Requirement already satisfied: prometheus-client in c:\\users\\dharmesh.kanzariya\\anaconda3\\lib\\site-packages (from notebook>=5.6.0->jupyterthemes) (0.14.1)\n",
      "Requirement already satisfied: jinja2 in c:\\users\\dharmesh.kanzariya\\anaconda3\\lib\\site-packages (from notebook>=5.6.0->jupyterthemes) (2.11.3)\n",
      "Requirement already satisfied: ipykernel in c:\\users\\dharmesh.kanzariya\\anaconda3\\lib\\site-packages (from notebook>=5.6.0->jupyterthemes) (6.15.2)\n",
      "Requirement already satisfied: terminado>=0.8.3 in c:\\users\\dharmesh.kanzariya\\anaconda3\\lib\\site-packages (from notebook>=5.6.0->jupyterthemes) (0.13.1)\n",
      "Requirement already satisfied: jupyter-client>=5.3.4 in c:\\users\\dharmesh.kanzariya\\anaconda3\\lib\\site-packages (from notebook>=5.6.0->jupyterthemes) (7.3.4)\n",
      "Requirement already satisfied: nbconvert>=5 in c:\\users\\dharmesh.kanzariya\\anaconda3\\lib\\site-packages (from notebook>=5.6.0->jupyterthemes) (6.4.4)\n",
      "Requirement already satisfied: nest-asyncio>=1.5 in c:\\users\\dharmesh.kanzariya\\anaconda3\\lib\\site-packages (from notebook>=5.6.0->jupyterthemes) (1.5.5)\n",
      "Requirement already satisfied: argon2-cffi in c:\\users\\dharmesh.kanzariya\\anaconda3\\lib\\site-packages (from notebook>=5.6.0->jupyterthemes) (21.3.0)\n",
      "Requirement already satisfied: nbformat in c:\\users\\dharmesh.kanzariya\\anaconda3\\lib\\site-packages (from notebook>=5.6.0->jupyterthemes) (5.5.0)\n",
      "Requirement already satisfied: Send2Trash>=1.8.0 in c:\\users\\dharmesh.kanzariya\\anaconda3\\lib\\site-packages (from notebook>=5.6.0->jupyterthemes) (1.8.0)\n",
      "Requirement already satisfied: ipython-genutils in c:\\users\\dharmesh.kanzariya\\anaconda3\\lib\\site-packages (from notebook>=5.6.0->jupyterthemes) (0.2.0)\n",
      "Requirement already satisfied: tornado>=6.1 in c:\\users\\dharmesh.kanzariya\\anaconda3\\lib\\site-packages (from notebook>=5.6.0->jupyterthemes) (6.1)\n",
      "Requirement already satisfied: pywin32>=1.0 in c:\\users\\dharmesh.kanzariya\\anaconda3\\lib\\site-packages (from jupyter-core->jupyterthemes) (302)\n",
      "Requirement already satisfied: parso<0.9.0,>=0.8.0 in c:\\users\\dharmesh.kanzariya\\anaconda3\\lib\\site-packages (from jedi>=0.16->ipython>=5.4.1->jupyterthemes) (0.8.3)\n",
      "Requirement already satisfied: entrypoints in c:\\users\\dharmesh.kanzariya\\anaconda3\\lib\\site-packages (from jupyter-client>=5.3.4->notebook>=5.6.0->jupyterthemes) (0.4)\n",
      "Requirement already satisfied: bleach in c:\\users\\dharmesh.kanzariya\\anaconda3\\lib\\site-packages (from nbconvert>=5->notebook>=5.6.0->jupyterthemes) (4.1.0)\n",
      "Requirement already satisfied: beautifulsoup4 in c:\\users\\dharmesh.kanzariya\\anaconda3\\lib\\site-packages (from nbconvert>=5->notebook>=5.6.0->jupyterthemes) (4.11.1)\n",
      "Requirement already satisfied: defusedxml in c:\\users\\dharmesh.kanzariya\\anaconda3\\lib\\site-packages (from nbconvert>=5->notebook>=5.6.0->jupyterthemes) (0.7.1)\n",
      "Requirement already satisfied: testpath in c:\\users\\dharmesh.kanzariya\\anaconda3\\lib\\site-packages (from nbconvert>=5->notebook>=5.6.0->jupyterthemes) (0.6.0)\n",
      "Requirement already satisfied: nbclient<0.6.0,>=0.5.0 in c:\\users\\dharmesh.kanzariya\\anaconda3\\lib\\site-packages (from nbconvert>=5->notebook>=5.6.0->jupyterthemes) (0.5.13)\n",
      "Requirement already satisfied: mistune<2,>=0.8.1 in c:\\users\\dharmesh.kanzariya\\anaconda3\\lib\\site-packages (from nbconvert>=5->notebook>=5.6.0->jupyterthemes) (0.8.4)\n",
      "Requirement already satisfied: pandocfilters>=1.4.1 in c:\\users\\dharmesh.kanzariya\\anaconda3\\lib\\site-packages (from nbconvert>=5->notebook>=5.6.0->jupyterthemes) (1.5.0)\n",
      "Requirement already satisfied: jupyterlab-pygments in c:\\users\\dharmesh.kanzariya\\anaconda3\\lib\\site-packages (from nbconvert>=5->notebook>=5.6.0->jupyterthemes) (0.1.2)\n",
      "Requirement already satisfied: MarkupSafe>=0.23 in c:\\users\\dharmesh.kanzariya\\anaconda3\\lib\\site-packages (from jinja2->notebook>=5.6.0->jupyterthemes) (2.0.1)\n",
      "Requirement already satisfied: jsonschema>=2.6 in c:\\users\\dharmesh.kanzariya\\anaconda3\\lib\\site-packages (from nbformat->notebook>=5.6.0->jupyterthemes) (4.16.0)\n",
      "Requirement already satisfied: fastjsonschema in c:\\users\\dharmesh.kanzariya\\anaconda3\\lib\\site-packages (from nbformat->notebook>=5.6.0->jupyterthemes) (2.16.2)\n",
      "Requirement already satisfied: wcwidth in c:\\users\\dharmesh.kanzariya\\anaconda3\\lib\\site-packages (from prompt-toolkit!=3.0.0,!=3.0.1,<3.1.0,>=2.0.0->ipython>=5.4.1->jupyterthemes) (0.2.5)\n",
      "Requirement already satisfied: six>=1.5 in c:\\users\\dharmesh.kanzariya\\anaconda3\\lib\\site-packages (from python-dateutil>=2.7->matplotlib>=1.4.3->jupyterthemes) (1.16.0)\n",
      "Requirement already satisfied: pywinpty>=1.1.0 in c:\\users\\dharmesh.kanzariya\\anaconda3\\lib\\site-packages (from terminado>=0.8.3->notebook>=5.6.0->jupyterthemes) (2.0.2)\n",
      "Requirement already satisfied: argon2-cffi-bindings in c:\\users\\dharmesh.kanzariya\\anaconda3\\lib\\site-packages (from argon2-cffi->notebook>=5.6.0->jupyterthemes) (21.2.0)\n",
      "Requirement already satisfied: psutil in c:\\users\\dharmesh.kanzariya\\anaconda3\\lib\\site-packages (from ipykernel->notebook>=5.6.0->jupyterthemes) (5.9.0)\n",
      "Requirement already satisfied: debugpy>=1.0 in c:\\users\\dharmesh.kanzariya\\anaconda3\\lib\\site-packages (from ipykernel->notebook>=5.6.0->jupyterthemes) (1.5.1)\n",
      "Requirement already satisfied: attrs>=17.4.0 in c:\\users\\dharmesh.kanzariya\\anaconda3\\lib\\site-packages (from jsonschema>=2.6->nbformat->notebook>=5.6.0->jupyterthemes) (21.4.0)\n",
      "Requirement already satisfied: pyrsistent!=0.17.0,!=0.17.1,!=0.17.2,>=0.14.0 in c:\\users\\dharmesh.kanzariya\\anaconda3\\lib\\site-packages (from jsonschema>=2.6->nbformat->notebook>=5.6.0->jupyterthemes) (0.18.0)\n",
      "Requirement already satisfied: cffi>=1.0.1 in c:\\users\\dharmesh.kanzariya\\anaconda3\\lib\\site-packages (from argon2-cffi-bindings->argon2-cffi->notebook>=5.6.0->jupyterthemes) (1.15.1)\n",
      "Requirement already satisfied: soupsieve>1.2 in c:\\users\\dharmesh.kanzariya\\anaconda3\\lib\\site-packages (from beautifulsoup4->nbconvert>=5->notebook>=5.6.0->jupyterthemes) (2.3.1)\n",
      "Requirement already satisfied: webencodings in c:\\users\\dharmesh.kanzariya\\anaconda3\\lib\\site-packages (from bleach->nbconvert>=5->notebook>=5.6.0->jupyterthemes) (0.5.1)\n",
      "Requirement already satisfied: pycparser in c:\\users\\dharmesh.kanzariya\\anaconda3\\lib\\site-packages (from cffi>=1.0.1->argon2-cffi-bindings->argon2-cffi->notebook>=5.6.0->jupyterthemes) (2.21)\n",
      "Installing collected packages: ply, lesscpy, jupyterthemes\n",
      "Successfully installed jupyterthemes-0.20.0 lesscpy-0.15.1 ply-3.11\n",
      "Note: you may need to restart the kernel to use updated packages.\n"
     ]
    }
   ],
   "source": [
    "pip install jupyterthemes"
   ]
  },
  {
   "cell_type": "code",
   "execution_count": 11,
   "id": "34bd7202",
   "metadata": {},
   "outputs": [],
   "source": [
    "!jt -t oceans16"
   ]
  },
  {
   "cell_type": "code",
   "execution_count": 3,
   "id": "8d37c91f",
   "metadata": {},
   "outputs": [],
   "source": [
    "def minimum_villains_to_remove(N, M, H, villain_health):\n",
    "    villain_health.sort()  # Sort the villain health values in ascending order\n",
    "    hero_health = [H] * M  # Create a list of hero health values\n",
    "    \n",
    "    heroes_ptr = 0\n",
    "    villains_ptr = 0\n",
    "    villains_to_remove = 0\n",
    "    \n",
    "    while heroes_ptr < M and villains_ptr < N:\n",
    "        if hero_health[heroes_ptr] >= villain_health[villains_ptr]:\n",
    "            heroes_ptr += 1\n",
    "            villains_ptr += 1\n",
    "        else:\n",
    "            villains_to_remove += 1\n",
    "            villains_ptr += 1\n",
    "        \n",
    "        if heroes_ptr == M:\n",
    "            break\n",
    "    \n",
    "    return villains_to_remove"
   ]
  },
  {
   "cell_type": "code",
   "execution_count": 5,
   "id": "ef18594c",
   "metadata": {},
   "outputs": [
    {
     "name": "stdout",
     "output_type": "stream",
     "text": [
      "0\n",
      "0\n"
     ]
    }
   ],
   "source": [
    "N = 4\n",
    "M = 4\n",
    "H = 3\n",
    "villains = [3, 1, 3, 3]\n",
    "\n",
    "result = minimum_villains_to_remove(N, M, H, villains)\n",
    "print(result)\n",
    "\n",
    "# Test Case 2\n",
    "N = 5\n",
    "M = 1\n",
    "H = 4\n",
    "villains = [1, 2, 3, 1, 3]\n",
    "\n",
    "result = minimum_villains_to_remove(N, M, H, villains)\n",
    "print(result)"
   ]
  },
  {
   "cell_type": "markdown",
   "id": "cb06940d",
   "metadata": {},
   "source": [
    "def make_good_string(s):\n",
    "    result = s[0]\n",
    "    for i in range(1, len(s)):\n",
    "        if s[i] != s[i-1]:\n",
    "            #print(s[i])\n",
    "            result  += s[i]\n",
    "    return result\n",
    "    \n",
    "#for input use:\n",
    "T = int(input())\n",
    "\n",
    "for _ in range(T):\n",
    "    s = input().strip()\n",
    "    \n",
    "    good_string = make_good_string(s)\n",
    "    print(good_string)"
   ]
  },
  {
   "cell_type": "code",
   "execution_count": 12,
   "id": "15a95df5",
   "metadata": {},
   "outputs": [
    {
     "name": "stdout",
     "output_type": "stream",
     "text": [
      "5\n",
      "1\n",
      "4\n",
      "1\n",
      "2\n",
      "3\n",
      "1\n",
      "3\n",
      "5\n"
     ]
    }
   ],
   "source": [
    "\n",
    "\n",
    "def min_villains_to_remove(n, m , h, villains):\n",
    "\tvillains.sort()\n",
    "\tremoved_villens = 0\n",
    "\t\n",
    "\tfor villen in villains:\n",
    "\t\tif H <= villen:\n",
    "\t\t\treturn removed_villens\n",
    "\t\tremoved_villens += 1\n",
    "\treturn removed_villens\n",
    "\n",
    "N = int(input())\n",
    "M = int(input())\n",
    "H = int(input())\n",
    "villains = [int(input()) for _ in range(N)]  \n",
    "\n",
    "result = min_villains_to_remove(N, M, H, villains)\n",
    "print(result)\n",
    "              \n",
    "              "
   ]
  },
  {
   "cell_type": "code",
   "execution_count": null,
   "id": "29665329",
   "metadata": {},
   "outputs": [],
   "source": [
    "N = int(input())\n",
    "K = int(input())\n",
    "A = list(map(int, input().split()))\n",
    "\n",
    "MOD = 10 ^ 9 + 7\n",
    "\n",
    "def kth_largest_subarray_sum(arr, k):\n",
    "    n = len(arr)\n",
    "    subarray_sums = []\n",
    "    for i in range(n):\n",
    "        summ = 0\n",
    "        for j in range(i , n):\n",
    "            summ += arr[j]\n",
    "            subarray_sums.append(summ)\n",
    "    subarray_sums.sort(reverse = True)\n",
    "    return subarray_sums[k-1] % MOD\n",
    "\n",
    "result = kth_largest_subarray_sum(A, K)\n",
    "print(result)"
   ]
  },
  {
   "cell_type": "code",
   "execution_count": 4,
   "id": "ad19e910",
   "metadata": {},
   "outputs": [
    {
     "name": "stdout",
     "output_type": "stream",
     "text": [
      "{5: 1}\n",
      "{5: 1, 1: 1}\n",
      "{5: 1, 1: 1, 4: 1}\n",
      "{5: 1, 1: 1, 4: 1, 3: 1}\n",
      "{5: 1, 1: 1, 4: 1, 3: 1, 2: 1}\n",
      "small positive number:  6\n"
     ]
    }
   ],
   "source": [
    "def smallmissnum(a, n):\n",
    "    mp = dict();\n",
    "    \n",
    "    for i in range(n):\n",
    "        if (a[i] > 0):\n",
    "            if a[i] not in mp.keys() :\n",
    "                mp[a[i]] = 0\n",
    "#                 print(mp[a[i]])\n",
    "            mp[a[i]] += 1\n",
    "            print(mp)\n",
    "    index =1;\n",
    "    \n",
    "    while (1):\n",
    "        if (index not in mp.keys()) :\n",
    "            return index;\n",
    "        \n",
    "        index += 1\n",
    "        \n",
    "        \n",
    "arr = [5, 1, 4, 3, 2, -1, -9, 0]\n",
    "size = len(arr)\n",
    "\n",
    "print(\"small positive number: \", smallmissnum(arr, size))"
   ]
  },
  {
   "cell_type": "code",
   "execution_count": 8,
   "id": "a28657c0",
   "metadata": {},
   "outputs": [
    {
     "name": "stdout",
     "output_type": "stream",
     "text": [
      "[2, 3, 4, 5, 6, -1, -2]\n",
      "2 0 0\n",
      "3 2 2\n",
      "6 3 3\n",
      "8 6 6\n",
      "12 8 8\n",
      "7 12 12\n",
      "10 12 12\n",
      "12\n"
     ]
    }
   ],
   "source": [
    "inputlist = \"2, 3, 4, 5, 6, -1, -2\"\n",
    "input_list = inputlist.split(\",\")\n",
    "inputlist = [int(i) for i in input_list]\n",
    "print(inputlist)\n",
    "a=0\n",
    "b=0\n",
    "for i in inputlist:\n",
    "        new_b = b if b > a else a\n",
    "        a = b + i\n",
    "        b = new_b\n",
    "        print(a, b, new_b)\n",
    "        \n",
    "print(b if b>a else a)"
   ]
  },
  {
   "cell_type": "code",
   "execution_count": 10,
   "id": "ec04c7bf",
   "metadata": {},
   "outputs": [
    {
     "name": "stdout",
     "output_type": "stream",
     "text": [
      "4\n"
     ]
    }
   ],
   "source": [
    "def count(n):\n",
    "    cnt = 0\n",
    "    while (n!=0):\n",
    "        if (n%2 == 0):\n",
    "            n = n/2\n",
    "        else:\n",
    "            n -= 1\n",
    "        cnt +=1\n",
    "    return cnt\n",
    "\n",
    "print(count(8))\n",
    "        "
   ]
  },
  {
   "cell_type": "code",
   "execution_count": 13,
   "id": "177fb6fe",
   "metadata": {},
   "outputs": [
    {
     "name": "stdout",
     "output_type": "stream",
     "text": [
      "-9\n"
     ]
    }
   ],
   "source": [
    "def ceilSearch(arr, low, high, num):\n",
    "    if num <= arr[low]:\n",
    "        return low\n",
    "    if num > arr[high]:\n",
    "        return -1\n",
    "    mid = (low + high) // 2\n",
    "    if arr[mid] == num:\n",
    "        return mid\n",
    "    \n",
    "\n",
    "arr = list(map(int, \"1, 2, 4, 5, -9\".split(\",\")))\n",
    "num = int(\"3\")\n",
    "index = ceilSearch(arr, 0, len(arr)-1, num)\n",
    "if index==0 or index== -1 or arr[index] == num:\n",
    "    print(arr[index])\n",
    "else:\n",
    "    print(str(arr[index]) + \", \" + str(arr[index -1]))"
   ]
  },
  {
   "cell_type": "code",
   "execution_count": 20,
   "id": "58ef2361",
   "metadata": {},
   "outputs": [
    {
     "name": "stdout",
     "output_type": "stream",
     "text": [
      "10\n"
     ]
    }
   ],
   "source": [
    "def maxDistance(arr): \n",
    "    n=len(arr)\n",
    "    # Used to store element to first index mapping \n",
    "    mp = {} \n",
    "    # Traverse elements and find maximum distance between \n",
    "    # same occurrences with the help of map. \n",
    "    maxDict = 0\n",
    "    for i in range(n): \n",
    "        # If this is first occurrence of element, insert its \n",
    "        # index in map \n",
    "        if arr[i] not in mp.keys(): \n",
    "            mp[arr[i]] = i \n",
    "        # Else update max distance \n",
    "        else: \n",
    "            maxDict = max(maxDict, i-mp[arr[i]]) \n",
    "    return maxDict \n",
    "\n",
    "#driver code\n",
    "arr = list(map(int,\"3,2,1,2,1,4,5,8,6,7,4,2\".split(',')))\n",
    "print(maxDistance(arr)) \n"
   ]
  },
  {
   "cell_type": "code",
   "execution_count": 19,
   "id": "7a896cfb",
   "metadata": {},
   "outputs": [
    {
     "name": "stdout",
     "output_type": "stream",
     "text": [
      "4\n",
      "1\n",
      "0\n"
     ]
    }
   ],
   "source": [
    "def gcd(a, b):\n",
    "    while b:\n",
    "        a, b = b, a % b\n",
    "    return a\n",
    "\n",
    "def find_n(x, y):\n",
    "    g = gcd(x, y)\n",
    "    lcm = x * y // g\n",
    "    n = 0\n",
    "    while True:\n",
    "        lcm_next = lcm * (n + 1) // g\n",
    "        if lcm_next == lcm:\n",
    "            return n\n",
    "        n += 1\n",
    "\n",
    "def main():\n",
    "    x, y = 5, 10\n",
    "    print(find_n(x, y))\n",
    "\n",
    "    x, y = 6, 10\n",
    "    print(find_n(x, y))\n",
    "\n",
    "    x, y = 21, 31\n",
    "    print(find_n(x, y))\n",
    "    \n",
    "if __name__ == \"__main__\":\n",
    "    main()    "
   ]
  },
  {
   "cell_type": "code",
   "execution_count": 21,
   "id": "bdb2332a",
   "metadata": {},
   "outputs": [
    {
     "name": "stdout",
     "output_type": "stream",
     "text": [
      "8\n"
     ]
    }
   ],
   "source": [
    "#this can be solved in O(1) using a formula\n",
    "print(2**(len(\"ABCD\")-1))"
   ]
  },
  {
   "cell_type": "code",
   "execution_count": 22,
   "id": "d095a35a",
   "metadata": {},
   "outputs": [
    {
     "name": "stdout",
     "output_type": "stream",
     "text": [
      "11\n"
     ]
    }
   ],
   "source": [
    "def get_special_count(s):\n",
    "    n=len(s)\n",
    "    l=[]\n",
    "    count =0\n",
    "    cur=None\n",
    "\n",
    "    #group the continuously occurring sub-strings with their respective count\n",
    "    for i in range(n):\n",
    "        if(s[i] == cur):\n",
    "            count+=1\n",
    "        else:\n",
    "            if(cur is not None):\n",
    "                l.append((cur,count))\n",
    "            cur=s[i]\n",
    "            count = 1\n",
    "    l.append((cur, count))\n",
    "    ans=0\n",
    "    #count the number of substrings that can be formed with a continuously occurring substring\n",
    "    for i in l:\n",
    "        ans+=(i[1]*(i[1] + 1))//2\n",
    "    #count the substrings that can be formed such that all elements are same except the middle one\n",
    "    for i in range(1, len(l) -1):\n",
    "        if(l[i-1][0]==l[i+1][0] and l[i][1]==1):\n",
    "            ans+=min(l[i-1][1], l[i+1][1])\n",
    "    \n",
    "    return (ans)\n",
    "\n",
    "s = \"mnonopoO\"\n",
    "print(get_special_count(s))"
   ]
  },
  {
   "cell_type": "code",
   "execution_count": 23,
   "id": "4be52e10",
   "metadata": {},
   "outputs": [
    {
     "name": "stdout",
     "output_type": "stream",
     "text": [
      "3\n"
     ]
    }
   ],
   "source": [
    "def longest_child(s1,s2):\n",
    "    n,m=len(s1),len(s2)\n",
    "    lcs=[[0]*(m+1) for i in range(n+1)]\n",
    "    for i,c1 in enumerate(s1):\n",
    "        for j,c2 in enumerate(s2):\n",
    "            if c1==c2:\n",
    "                lcs[i][j]=lcs[i-1][j-1]+1\n",
    "            else:\n",
    "                lcs[i][j]=max(lcs[i][j-1],lcs[i-1][j])\n",
    "    return lcs[n-1][m-1]\n",
    "\n",
    "input_strings = \"ABCD,ABDC\".split(',')\n",
    "string1=input_strings[0]\n",
    "string2=input_strings[1]\n",
    "print(longest_child(string1,string2))"
   ]
  },
  {
   "cell_type": "code",
   "execution_count": 24,
   "id": "96df300b",
   "metadata": {},
   "outputs": [
    {
     "name": "stdout",
     "output_type": "stream",
     "text": [
      "a-b+c+d+e-f\n"
     ]
    }
   ],
   "source": [
    "def simplified(exp):\n",
    "    n = len(exp)\n",
    "    res = [None]*n\n",
    "    s =[]\n",
    "    s.append(0)\n",
    "    index = 0\n",
    "    i = 0\n",
    "    while(i<n):\n",
    "        if(exp[i] == '+'):\n",
    "            if(s[-1] == 1):\n",
    "                res[index] = '-'\n",
    "                index += 1 \n",
    "            if(s[-1]==0):\n",
    "                res[index]='+'\n",
    "                index +=1\n",
    "        elif(exp[i] == '-'):\n",
    "            if (s[-1] == 1):\n",
    "                res[index] = '+'\n",
    "                index += 1\n",
    "            if (s[-1] == 0):\n",
    "                res[index] = '-'\n",
    "                index += 1\n",
    "        elif (exp[i] == '(' and i > 0):\n",
    "            if (exp[i-1] == '-'):\n",
    "                z = 0 if s[-1] == 1 else 1\n",
    "                s.append(z)\n",
    "            elif (exp[i-1]=='+'):\n",
    "                s.append(s[-1])\n",
    "        elif (exp[i] == ')'):\n",
    "            s.pop()\n",
    "        else:\n",
    "            res[index] = exp[i]\n",
    "            index +=1\n",
    "        i +=1\n",
    "        \n",
    "    return res \n",
    " \n",
    "\n",
    "expr = \"a-(b-c-(d+e))-f\"\n",
    "res = simplified(expr)\n",
    "res = \"\".join([i for i in res if i is not None])\n",
    "print(res)"
   ]
  },
  {
   "cell_type": "code",
   "execution_count": 25,
   "id": "e15c0f45",
   "metadata": {},
   "outputs": [
    {
     "name": "stdout",
     "output_type": "stream",
     "text": [
      "5\n"
     ]
    }
   ],
   "source": [
    "def getCount(N,K,given_state):\n",
    "    total = 0\n",
    "    current = 0\n",
    "    temp_state = [0]*N\n",
    "    for i in range(N):\n",
    "        if(i>=K):\n",
    "            current = (current - temp_state[i-K])%3\n",
    "        t = (given_state[i] + current) % 3\n",
    "        processNumber = (3-t)%3\n",
    "        total +=processNumber\n",
    "        current = (current+processNumber)%3\n",
    "        temp_state[i] = processNumber\n",
    "    return total\n",
    "\n",
    "N,K = (int(x) for x in \"4 2\".split())\n",
    "m={'G':0,'R':1,'Y':2}\n",
    "given_state=[m[x] for x in \"R Y G Y\".split()]\n",
    "\n",
    "print(getCount(N,K,given_state))\n"
   ]
  },
  {
   "cell_type": "code",
   "execution_count": 26,
   "id": "a3f4dc51",
   "metadata": {},
   "outputs": [
    {
     "name": "stdout",
     "output_type": "stream",
     "text": [
      "1\n"
     ]
    }
   ],
   "source": [
    "def min_fairness(lst,k):\n",
    "    lst = sorted(lst)\n",
    "    n = len(lst)\n",
    "    return min([abs(lst[i+k-1]-lst[i]) for i in range(n-k+1)])\n",
    "\n",
    "k=int(\"2\")\n",
    "l=list(map(int,\"8,14,20,10,15\".split(\",\")))\n",
    "print(min_fairness(l,k))\n"
   ]
  },
  {
   "cell_type": "code",
   "execution_count": 35,
   "id": "77aa07c6",
   "metadata": {},
   "outputs": [
    {
     "name": "stdout",
     "output_type": "stream",
     "text": [
      "hellow world\n",
      "Automatic pdb calling has been turned OFF\n"
     ]
    },
    {
     "ename": "NameError",
     "evalue": "name 'prin' is not defined",
     "output_type": "error",
     "traceback": [
      "\u001b[1;31m---------------------------------------------------------------------------\u001b[0m",
      "\u001b[1;31mNameError\u001b[0m                                 Traceback (most recent call last)",
      "\u001b[1;32m~\\AppData\\Local\\Temp\\ipykernel_38012\\2023277691.py\u001b[0m in \u001b[0;36m<module>\u001b[1;34m\u001b[0m\n\u001b[0;32m      7\u001b[0m \u001b[1;31m#pdb.set_trace()\u001b[0m\u001b[1;33m\u001b[0m\u001b[1;33m\u001b[0m\u001b[0m\n\u001b[0;32m      8\u001b[0m \u001b[0mget_ipython\u001b[0m\u001b[1;33m(\u001b[0m\u001b[1;33m)\u001b[0m\u001b[1;33m.\u001b[0m\u001b[0mrun_line_magic\u001b[0m\u001b[1;33m(\u001b[0m\u001b[1;34m'pdb'\u001b[0m\u001b[1;33m,\u001b[0m \u001b[1;34m''\u001b[0m\u001b[1;33m)\u001b[0m\u001b[1;33m\u001b[0m\u001b[1;33m\u001b[0m\u001b[0m\n\u001b[1;32m----> 9\u001b[1;33m \u001b[0mprin\u001b[0m\u001b[1;33m(\u001b[0m\u001b[1;34m\"date\"\u001b[0m\u001b[1;33m)\u001b[0m\u001b[1;33m\u001b[0m\u001b[1;33m\u001b[0m\u001b[0m\n\u001b[0m\u001b[0;32m     10\u001b[0m \u001b[0mget_ipython\u001b[0m\u001b[1;33m(\u001b[0m\u001b[1;33m)\u001b[0m\u001b[1;33m.\u001b[0m\u001b[0mrun_line_magic\u001b[0m\u001b[1;33m(\u001b[0m\u001b[1;34m'debug'\u001b[0m\u001b[1;33m,\u001b[0m \u001b[1;34m''\u001b[0m\u001b[1;33m)\u001b[0m\u001b[1;33m\u001b[0m\u001b[1;33m\u001b[0m\u001b[0m\n",
      "\u001b[1;31mNameError\u001b[0m: name 'prin' is not defined"
     ]
    }
   ],
   "source": [
    "import pdb;\n",
    "\n",
    "#pdb.set_trace()\n",
    "A = 1+2\n",
    "print(\"hellow world\")\n",
    "\n",
    "#pdb.set_trace()\n",
    "%pdb\n",
    "prin(\"date\")\n",
    "%debug"
   ]
  },
  {
   "cell_type": "code",
   "execution_count": 38,
   "id": "24a8cd94",
   "metadata": {},
   "outputs": [
    {
     "name": "stdout",
     "output_type": "stream",
     "text": [
      "> \u001b[1;32mc:\\users\\dharmesh.kanzariya\\appdata\\local\\temp\\ipykernel_38012\\1276118737.py\u001b[0m(5)\u001b[0;36mdivide\u001b[1;34m()\u001b[0m\n",
      "\n",
      "ipdb> c\n"
     ]
    },
    {
     "ename": "ZeroDivisionError",
     "evalue": "division by zero",
     "output_type": "error",
     "traceback": [
      "\u001b[1;31m---------------------------------------------------------------------------\u001b[0m",
      "\u001b[1;31mZeroDivisionError\u001b[0m                         Traceback (most recent call last)",
      "\u001b[1;32m~\\AppData\\Local\\Temp\\ipykernel_38012\\1449164190.py\u001b[0m in \u001b[0;36m<module>\u001b[1;34m\u001b[0m\n\u001b[0;32m      6\u001b[0m \u001b[1;33m\u001b[0m\u001b[0m\n\u001b[0;32m      7\u001b[0m \u001b[1;31m# Run code that raises an exception\u001b[0m\u001b[1;33m\u001b[0m\u001b[1;33m\u001b[0m\u001b[0m\n\u001b[1;32m----> 8\u001b[1;33m \u001b[0mresult\u001b[0m \u001b[1;33m=\u001b[0m \u001b[0mdivide\u001b[0m\u001b[1;33m(\u001b[0m\u001b[1;36m10\u001b[0m\u001b[1;33m,\u001b[0m \u001b[1;36m0\u001b[0m\u001b[1;33m)\u001b[0m\u001b[1;33m\u001b[0m\u001b[1;33m\u001b[0m\u001b[0m\n\u001b[0m\u001b[0;32m      9\u001b[0m \u001b[0mprint\u001b[0m\u001b[1;33m(\u001b[0m\u001b[0mresult\u001b[0m\u001b[1;33m)\u001b[0m  \u001b[1;31m# This line will raise a ZeroDivisionError\u001b[0m\u001b[1;33m\u001b[0m\u001b[1;33m\u001b[0m\u001b[0m\n",
      "\u001b[1;32m~\\AppData\\Local\\Temp\\ipykernel_38012\\1449164190.py\u001b[0m in \u001b[0;36mdivide\u001b[1;34m(a, b)\u001b[0m\n\u001b[0;32m      3\u001b[0m \u001b[1;33m\u001b[0m\u001b[0m\n\u001b[0;32m      4\u001b[0m \u001b[1;32mdef\u001b[0m \u001b[0mdivide\u001b[0m\u001b[1;33m(\u001b[0m\u001b[0ma\u001b[0m\u001b[1;33m,\u001b[0m \u001b[0mb\u001b[0m\u001b[1;33m)\u001b[0m\u001b[1;33m:\u001b[0m\u001b[1;33m\u001b[0m\u001b[1;33m\u001b[0m\u001b[0m\n\u001b[1;32m----> 5\u001b[1;33m     \u001b[1;32mreturn\u001b[0m \u001b[0ma\u001b[0m \u001b[1;33m/\u001b[0m \u001b[0mb\u001b[0m\u001b[1;33m\u001b[0m\u001b[1;33m\u001b[0m\u001b[0m\n\u001b[0m\u001b[0;32m      6\u001b[0m \u001b[1;33m\u001b[0m\u001b[0m\n\u001b[0;32m      7\u001b[0m \u001b[1;31m# Run code that raises an exception\u001b[0m\u001b[1;33m\u001b[0m\u001b[1;33m\u001b[0m\u001b[0m\n",
      "\u001b[1;31mZeroDivisionError\u001b[0m: division by zero"
     ]
    },
    {
     "name": "stdout",
     "output_type": "stream",
     "text": [
      "> \u001b[1;32mc:\\users\\dharmesh.kanzariya\\appdata\\local\\temp\\ipykernel_38012\\1449164190.py\u001b[0m(5)\u001b[0;36mdivide\u001b[1;34m()\u001b[0m\n",
      "\n",
      "ipdb> c\n"
     ]
    }
   ],
   "source": [
    "# Enable automatic debugging with %pdb\n",
    "%pdb\n",
    "\n",
    "def divide(a, b):\n",
    "    return a / b\n",
    "\n",
    "# Run code that raises an exception\n",
    "result = divide(10, 0)\n",
    "print(result)  # This line will raise a ZeroDivisionError"
   ]
  },
  {
   "cell_type": "code",
   "execution_count": 40,
   "id": "f5d1476d",
   "metadata": {},
   "outputs": [
    {
     "name": "stdout",
     "output_type": "stream",
     "text": [
      "22222\n",
      "> \u001b[1;32mc:\\users\\dharmesh.kanzariya\\appdata\\local\\temp\\ipykernel_38012\\1449164190.py\u001b[0m(5)\u001b[0;36mdivide\u001b[1;34m()\u001b[0m\n",
      "\n",
      "ipdb> a\n",
      "a = 10\n",
      "b = 0\n",
      "ipdb> a\n",
      "a = 10\n",
      "b = 0\n",
      "ipdb> a\n",
      "a = 10\n",
      "b = 0\n",
      "ipdb> q\n"
     ]
    }
   ],
   "source": [
    "def multiply(a, b):\n",
    "    return a * b\n",
    "\n",
    "# Run code that raises an exception\n",
    "result = multiply(5, \"2\")\n",
    "print(result)  # This line will raise a TypeError\n",
    "\n",
    "# Activate the debugger manually with %debug\n",
    "%debug\n"
   ]
  },
  {
   "cell_type": "code",
   "execution_count": null,
   "id": "6d77a104",
   "metadata": {},
   "outputs": [],
   "source": []
  }
 ],
 "metadata": {
  "kernelspec": {
   "display_name": "Python 3 (ipykernel)",
   "language": "python",
   "name": "python3"
  },
  "language_info": {
   "codemirror_mode": {
    "name": "ipython",
    "version": 3
   },
   "file_extension": ".py",
   "mimetype": "text/x-python",
   "name": "python",
   "nbconvert_exporter": "python",
   "pygments_lexer": "ipython3",
   "version": "3.9.13"
  }
 },
 "nbformat": 4,
 "nbformat_minor": 5
}
