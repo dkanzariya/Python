{
 "cells": [
  {
   "cell_type": "code",
   "execution_count": 1,
   "id": "cd265ec8",
   "metadata": {},
   "outputs": [],
   "source": [
    "#Python Coding"
   ]
  },
  {
   "cell_type": "code",
   "execution_count": 6,
   "id": "8bb34087",
   "metadata": {},
   "outputs": [],
   "source": [
    "# Function to find the smallest lexicographical string\n",
    "import pdb;\n",
    "def smallest_lexicographical_string(N, test_cases):\n",
    "    results = []\n",
    "\n",
    "    for i in range(N):\n",
    "        K, S = test_cases[i]\n",
    "        result = []\n",
    "\n",
    "        while len(S) > 0:\n",
    "            max_chars = min(K, len(S))\n",
    "            candidates = S[:max_chars]\n",
    "            min_char = min(candidates)\n",
    "            result.append(min_char)\n",
    "\n",
    "            # Update S to remove the processed characters\n",
    "            S = S.replace(min_char, \"\", 1)\n",
    "            pdb.set_trace()\n",
    "        results.append(\"\".join(result))\n",
    "\n",
    "    return results"
   ]
  },
  {
   "cell_type": "code",
   "execution_count": null,
   "id": "9638469a",
   "metadata": {},
   "outputs": [
    {
     "name": "stdout",
     "output_type": "stream",
     "text": [
      "> \u001b[1;32mc:\\users\\dharmesh.kanzariya\\appdata\\local\\temp\\ipykernel_25088\\2021589348.py\u001b[0m(10)\u001b[0;36msmallest_lexicographical_string\u001b[1;34m()\u001b[0m\n",
      "\n",
      "ipdb> max_chars\n",
      "2\n"
     ]
    }
   ],
   "source": [
    "# Read input\n",
    "N = 1\n",
    "test_cases = []\n",
    "\n",
    "for _ in range(N):\n",
    "#     K, S = input().split()\n",
    "#     K = int(K)\n",
    "    test_cases.append((2, \"abab\"))\n",
    "\n",
    "# Find and print the smallest lexicographical strings\n",
    "results = smallest_lexicographical_string(N, test_cases)\n",
    "\n",
    "for result in results:\n",
    "    print(result)"
   ]
  },
  {
   "cell_type": "code",
   "execution_count": null,
   "id": "e0f82054",
   "metadata": {},
   "outputs": [],
   "source": []
  }
 ],
 "metadata": {
  "kernelspec": {
   "display_name": "Python 3 (ipykernel)",
   "language": "python",
   "name": "python3"
  },
  "language_info": {
   "codemirror_mode": {
    "name": "ipython",
    "version": 3
   },
   "file_extension": ".py",
   "mimetype": "text/x-python",
   "name": "python",
   "nbconvert_exporter": "python",
   "pygments_lexer": "ipython3",
   "version": "3.9.13"
  }
 },
 "nbformat": 4,
 "nbformat_minor": 5
}
