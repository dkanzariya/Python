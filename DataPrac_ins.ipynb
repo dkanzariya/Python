{
 "cells": [
  {
   "cell_type": "code",
   "execution_count": 1,
   "id": "28ff3a8e",
   "metadata": {},
   "outputs": [],
   "source": [
    "# insurance.csv\n",
    "import pandas as pd\n",
    "urlfile = 'https://raw.githubusercontent.com/stedy/Machine-Learning-with-R-datasets/master/insurance.csv'\n",
    "\n",
    "data = pd.read_csv(urlfile)"
   ]
  },
  {
   "cell_type": "code",
   "execution_count": 2,
   "id": "ce687830",
   "metadata": {},
   "outputs": [
    {
     "name": "stdout",
     "output_type": "stream",
     "text": [
      "      age     sex     bmi  children smoker     region      charges\n",
      "0      19  female  27.900         0    yes  southwest  16884.92400\n",
      "1      18    male  33.770         1     no  southeast   1725.55230\n",
      "2      28    male  33.000         3     no  southeast   4449.46200\n",
      "3      33    male  22.705         0     no  northwest  21984.47061\n",
      "4      32    male  28.880         0     no  northwest   3866.85520\n",
      "...   ...     ...     ...       ...    ...        ...          ...\n",
      "1333   50    male  30.970         3     no  northwest  10600.54830\n",
      "1334   18  female  31.920         0     no  northeast   2205.98080\n",
      "1335   18  female  36.850         0     no  southeast   1629.83350\n",
      "1336   21  female  25.800         0     no  southwest   2007.94500\n",
      "1337   61  female  29.070         0    yes  northwest  29141.36030\n",
      "\n",
      "[1338 rows x 7 columns]\n"
     ]
    }
   ],
   "source": [
    "print(data)"
   ]
  },
  {
   "cell_type": "code",
   "execution_count": 8,
   "id": "a1982e8c",
   "metadata": {},
   "outputs": [
    {
     "name": "stdout",
     "output_type": "stream",
     "text": [
      "(1337, 7)\n"
     ]
    }
   ],
   "source": [
    "ind = data[ (data['age'] > 55) & (data['charges'] > 50000) ].index\n",
    "data.drop (index , inplace = True)\n",
    "print(data.shape)"
   ]
  },
  {
   "cell_type": "code",
   "execution_count": 9,
   "id": "37e85212",
   "metadata": {},
   "outputs": [],
   "source": [
    "data['sex'] = data.sex.astype('category')\n",
    "data['smoker'] = data.smoker.astype('category')\n",
    "data['region'] = data.region.astype('category')"
   ]
  },
  {
   "cell_type": "code",
   "execution_count": 10,
   "id": "5ee289fc",
   "metadata": {},
   "outputs": [
    {
     "name": "stdout",
     "output_type": "stream",
     "text": [
      "age            int64\n",
      "sex         category\n",
      "bmi          float64\n",
      "children       int64\n",
      "smoker      category\n",
      "region      category\n",
      "charges      float64\n",
      "dtype: object\n"
     ]
    },
    {
     "data": {
      "text/plain": [
       "(1337, 7)"
      ]
     },
     "execution_count": 10,
     "metadata": {},
     "output_type": "execute_result"
    }
   ],
   "source": [
    "print(data.dtypes)\n",
    "data.shape"
   ]
  },
  {
   "cell_type": "code",
   "execution_count": 11,
   "id": "b6e92e54",
   "metadata": {},
   "outputs": [
    {
     "name": "stdout",
     "output_type": "stream",
     "text": [
      "      age     bmi  children      charges  sex_female  sex_male  smoker_no  \\\n",
      "0      19  27.900         0  16884.92400           1         0          0   \n",
      "1      18  33.770         1   1725.55230           0         1          1   \n",
      "2      28  33.000         3   4449.46200           0         1          1   \n",
      "3      33  22.705         0  21984.47061           0         1          1   \n",
      "4      32  28.880         0   3866.85520           0         1          1   \n",
      "...   ...     ...       ...          ...         ...       ...        ...   \n",
      "1333   50  30.970         3  10600.54830           0         1          1   \n",
      "1334   18  31.920         0   2205.98080           1         0          1   \n",
      "1335   18  36.850         0   1629.83350           1         0          1   \n",
      "1336   21  25.800         0   2007.94500           1         0          1   \n",
      "1337   61  29.070         0  29141.36030           1         0          0   \n",
      "\n",
      "      smoker_yes  region_northeast  region_northwest  region_southeast  \\\n",
      "0              1                 0                 0                 0   \n",
      "1              0                 0                 0                 1   \n",
      "2              0                 0                 0                 1   \n",
      "3              0                 0                 1                 0   \n",
      "4              0                 0                 1                 0   \n",
      "...          ...               ...               ...               ...   \n",
      "1333           0                 0                 1                 0   \n",
      "1334           0                 1                 0                 0   \n",
      "1335           0                 0                 0                 1   \n",
      "1336           0                 0                 0                 0   \n",
      "1337           1                 0                 1                 0   \n",
      "\n",
      "      region_southwest  \n",
      "0                    1  \n",
      "1                    0  \n",
      "2                    0  \n",
      "3                    0  \n",
      "4                    0  \n",
      "...                ...  \n",
      "1333                 0  \n",
      "1334                 0  \n",
      "1335                 0  \n",
      "1336                 1  \n",
      "1337                 0  \n",
      "\n",
      "[1337 rows x 12 columns]\n"
     ]
    }
   ],
   "source": [
    "one_hot_encoded_data = pd.get_dummies(data, columns = ['sex', 'smoker', 'region'])\n",
    "print(one_hot_encoded_data)"
   ]
  },
  {
   "cell_type": "code",
   "execution_count": 13,
   "id": "d142ed30",
   "metadata": {},
   "outputs": [
    {
     "name": "stdout",
     "output_type": "stream",
     "text": [
      "float64\n",
      "charges             1.000000\n",
      "smoker_no           0.786713\n",
      "smoker_yes          0.786713\n",
      "age                 0.296827\n",
      "bmi                 0.198282\n",
      "region_southeast    0.075777\n",
      "Name: charges, dtype: float64\n",
      "Index(['charges', 'smoker_no', 'smoker_yes', 'age', 'bmi', 'region_southeast'], dtype='object')\n",
      "       charges  smoker_no  smoker_yes  age     bmi  region_southeast\n",
      "0  16884.92400          0           1   19  27.900                 0\n",
      "1   1725.55230          1           0   18  33.770                 1\n",
      "2   4449.46200          1           0   28  33.000                 1\n",
      "3  21984.47061          1           0   33  22.705                 0\n",
      "4   3866.85520          1           0   32  28.880                 0\n"
     ]
    }
   ],
   "source": [
    "cor_matrix = one_hot_encoded_data.corr().abs()\n",
    "# print(cor_matrix)\n",
    "\n",
    "c1 = cor_matrix.unstack()\n",
    "c1_sort = c1.sort_values(ascending = False)\n",
    "\n",
    "print(c1_sort.dtypes)\n",
    "c1_sort_ex = cor_matrix['charges'].sort_values(ascending = False)\n",
    "out = c1_sort_ex[:6]\n",
    "print(out)\n",
    "print(out.index)\n",
    "\n",
    "# list1 = [column for column in out.columns]\n",
    "\n",
    "list_final = out.index\n",
    "# y = ['expenses']\n",
    "# y = one_hot_encoded_data[y]\n",
    "\n",
    "df = one_hot_encoded_data[list_final]\n",
    "print(df.head())"
   ]
  },
  {
   "cell_type": "code",
   "execution_count": 15,
   "id": "9f1e6aa6",
   "metadata": {},
   "outputs": [
    {
     "name": "stdout",
     "output_type": "stream",
     "text": [
      "(1002, 5) (335, 5) (1002,) (335,)\n"
     ]
    }
   ],
   "source": [
    "target = df['charges']\n",
    "predictor =  df.loc[:, df.columns != 'charges']\n",
    "\n",
    "from sklearn.model_selection import train_test_split\n",
    "\n",
    "x_train, x_test, y_train, y_test = train_test_split(predictor, target, test_size=0.25, random_state=40)\n",
    "\n",
    "print(x_train.shape, x_test.shape, y_train.shape, y_test.shape)"
   ]
  },
  {
   "cell_type": "code",
   "execution_count": 16,
   "id": "ffe75b58",
   "metadata": {},
   "outputs": [
    {
     "data": {
      "text/plain": [
       "LinearRegression()"
      ]
     },
     "execution_count": 16,
     "metadata": {},
     "output_type": "execute_result"
    }
   ],
   "source": [
    "from sklearn.feature_selection import RFE\n",
    "from sklearn.linear_model import LinearRegression\n",
    "\n",
    "model = LinearRegression()\n",
    "model.fit(x_train, y_train)\n",
    "\n",
    "# print(x_train)\n",
    "# x_test.shape\n",
    "# y_test.info()\n",
    "# y_train.shape"
   ]
  },
  {
   "cell_type": "code",
   "execution_count": 17,
   "id": "644b7a84",
   "metadata": {},
   "outputs": [
    {
     "name": "stdout",
     "output_type": "stream",
     "text": [
      "coefficient of determination: 0.7175137556425635\n"
     ]
    }
   ],
   "source": [
    "r_sq = model.score(x_test, y_test)\n",
    "print(f\"coefficient of determination: {r_sq}\")"
   ]
  },
  {
   "cell_type": "code",
   "execution_count": 18,
   "id": "2829ab9e",
   "metadata": {},
   "outputs": [
    {
     "name": "stdout",
     "output_type": "stream",
     "text": [
      "C:\\Users\\dharmesh.kanzariya\\Anaconda3;C:\\Users\\dharmesh.kanzariya\\Anaconda3\\Library\\mingw-w64\\bin;C:\\Users\\dharmesh.kanzariya\\Anaconda3\\Library\\usr\\bin;C:\\Users\\dharmesh.kanzariya\\Anaconda3\\Library\\bin;C:\\Users\\dharmesh.kanzariya\\Anaconda3\\Scripts;C:\\Program Files\\Python311\\Scripts\\;C:\\Program Files\\Python311\\;C:\\Program Files\\Zulu\\zulu-17-jre\\bin\\;C:\\Program Files\\Zulu\\zulu-17\\bin\\;C:\\WINDOWS\\system32;C:\\WINDOWS;C:\\WINDOWS\\System32\\Wbem;C:\\WINDOWS\\System32\\WindowsPowerShell\\v1.0\\;C:\\WINDOWS\\System32\\OpenSSH\\;C:\\Program Files (x86)\\PuTTY\\;C:\\Users\\dharmesh.kanzariya\\AppData\\Local\\Microsoft\\WindowsApps;C:\\Users\\dharmesh.kanzariya\\AppData\\Local\\Pandoc\\\n"
     ]
    }
   ],
   "source": [
    "import os\n",
    "print(os.environ['PATH'])"
   ]
  },
  {
   "cell_type": "code",
   "execution_count": 4,
   "id": "c36bd229",
   "metadata": {},
   "outputs": [
    {
     "name": "stderr",
     "output_type": "stream",
     "text": [
      "'git' is not recognized as an internal or external command,\n",
      "operable program or batch file.\n",
      "'git' is not recognized as an internal or external command,\n",
      "operable program or batch file.\n"
     ]
    }
   ],
   "source": [
    "!git config --global user.name \"dkanzariya\"\n",
    "!git config --global user.email \"d.kanzariya196@gmail.com\""
   ]
  },
  {
   "cell_type": "code",
   "execution_count": null,
   "id": "20cb30b5",
   "metadata": {},
   "outputs": [],
   "source": []
  }
 ],
 "metadata": {
  "kernelspec": {
   "display_name": "Python 3 (ipykernel)",
   "language": "python",
   "name": "python3"
  },
  "language_info": {
   "codemirror_mode": {
    "name": "ipython",
    "version": 3
   },
   "file_extension": ".py",
   "mimetype": "text/x-python",
   "name": "python",
   "nbconvert_exporter": "python",
   "pygments_lexer": "ipython3",
   "version": "3.9.13"
  }
 },
 "nbformat": 4,
 "nbformat_minor": 5
}
